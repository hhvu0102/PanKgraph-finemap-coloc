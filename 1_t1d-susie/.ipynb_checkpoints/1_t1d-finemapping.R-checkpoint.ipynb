{
 "cells": [
  {
   "cell_type": "markdown",
   "id": "c79a349a",
   "metadata": {},
   "source": [
    "# How to conduct fine-mapping analysis for T1D GWAS data"
   ]
  },
  {
   "cell_type": "markdown",
   "id": "4d4f0198",
   "metadata": {},
   "source": [
    "T1D GWAS data were downloaded from Chiou J, Geusz RJ, Okino M, Han JY, Miller M, Melton R, Beebe E,\n",
    "Benaglio P, Huang S, Korgaonkar K, Heller S, Kleger A, Preissl S, Gorkin DU,\n",
    "Sander M, Gaulton KJ. Cell type-specific genetic risk mechanisms of type 1\n",
    "diabetes. Nature. 2021. Specifically, the list of lead signals is in Supplementary Table 3; and we'll use `hg38` locations of the signals. The full summary statistic can be downloaded from http://ftp.ebi.ac.uk/pub/databases/gwas/summary_statistics/GCST90014001-GCST90015000/GCST90014023/ "
   ]
  },
  {
   "cell_type": "markdown",
   "id": "fe3ac522",
   "metadata": {},
   "source": [
    "This documentation contains instruction on how to conduct fine-mapping analysis for T1D GWAS data."
   ]
  },
  {
   "cell_type": "markdown",
   "id": "ead73a15",
   "metadata": {},
   "source": [
    "In this analysis, we employed genotype data from 40,000 unrelated British individuals in the UK Biobank."
   ]
  },
  {
   "cell_type": "markdown",
   "id": "33e5d9ed",
   "metadata": {},
   "source": [
    "We thank Dr. Arushi Varshney (Parker Lab) for their valuable support in shaping the analysis strategies and code development."
   ]
  },
  {
   "cell_type": "markdown",
   "id": "f7d26d36",
   "metadata": {},
   "source": [
    "## Step 1: Set up data for the fine-mapping pipeline"
   ]
  },
  {
   "cell_type": "markdown",
   "id": "a4124352",
   "metadata": {},
   "source": [
    "The summary statistic file looks as the following:"
   ]
  },
  {
   "cell_type": "markdown",
   "id": "74b58cca",
   "metadata": {},
   "source": [
    "```\n",
    "head /nfs/turbo/umms-scjp-pank/vthihong/colocGWAS_T1D/0_data/T1Dgwas/GCST90014023_buildGRCh38.tsv\n",
    "\n",
    "variant_id\tp_value\tchromosome\tbase_pair_location\teffect_allele\tother_allele\teffect_allele_frequency\tbeta\tstandard_error\tsample_size\n",
    "rs367896724\t0.2838998899033909\t1\t10177\tAC\tA\t0.397669\t0.059058\t0.055112\t363495\n",
    "rs555500075\t0.7310997662666052\t1\t10352\tTA\tT\t0.392616\t0.019496\t0.05673\t363495\n",
    "rs534229142\t0.8441064101158751\t1\t10511\tA\tG\t0.00131\t-0.148768\t0.756536\t363495\n",
    "rs376342519\t0.5036124087736877\t1\t10616\tC\tCCGCCGTTGCAAAGGCGCGCCG\t0.994247\t0.242325\t0.362319\t363495\n",
    "```"
   ]
  },
  {
   "cell_type": "markdown",
   "id": "5e9a0944",
   "metadata": {},
   "source": [
    "We use the following BASH commands to rearrange the columns and create a file that is compatible for the next steps."
   ]
  },
  {
   "cell_type": "markdown",
   "id": "6b4a6e8f",
   "metadata": {},
   "source": [
    "```\n",
    "less /nfs/turbo/umms-scjp-pank/vthihong/colocGWAS_T1D/0_data/T1Dgwas/GCST90014023_buildGRCh38.tsv | tail -n +2 | awk '{print $3\"\\t\"$4-1\"\\t\"$4\"\\t\"$1\"\\t\"$2\"\\t\"$5\"\\t\"$6\"\\t\"$7\"\\t\"$8\"\\t\"$9\"\\t\"$10}' | sed 's/^/chr/g' > data/t1d.bed\n",
    "\n",
    "echo \"#snp_chrom snp_start snp_end variant_id p_value EA NEA EAF beta standard_error sample_size\" | sed 's/ /\\t/g' > data/header\n",
    "\n",
    "cat data/header data/t1d.bed > data/tmp\n",
    "\n",
    "mv data/tmp data/t1d.bed\n",
    "\n",
    "ml Bioinformatics\n",
    "ml Bioinformatics  gcc/10.3.0-k2osx5y\n",
    "ml samtools/1.13-fwwss5n\n",
    "\n",
    "bgzip data/t1d.bed \n",
    "tabix data/t1d.bed.gz \n",
    "```"
   ]
  },
  {
   "cell_type": "markdown",
   "id": "d697bfe8",
   "metadata": {},
   "source": [
    "From the lead SNP list supplied in the Supplementary Table 3, create a bed file with all lead SNPs where the 4th column with locus info in the format `<locus name, no other special characters like ;() etc>__<lead snp rsid>__<primary P or secondary S>`, e.g., `CFTR__rs7795896__P`. The file should look as the following: <br>\n",
    "```\n",
    "head /nfs/turbo/umms-scjp-pank/vthihong/colocGWAS_T1D/1_t1d-susie/data/t1d.leads.bed \n",
    "\n",
    "chr1\t24970251\t24970252\tRUNX3__rs10751776__P\n",
    "chr1\t35622059\t35622060\tPSMB2__rs574384__P\n",
    "chr1\t37881744\t37881745\tINPP5B__rs12742756__P\n",
    "chr1\t63648217\t63648218\tPGM1__rs855330__P\n",
    "```"
   ]
  },
  {
   "cell_type": "markdown",
   "id": "363176d7",
   "metadata": {},
   "source": [
    "## Step 2: Set up scripts for every region of interest"
   ]
  },
  {
   "cell_type": "markdown",
   "id": "11607d2d",
   "metadata": {},
   "source": [
    "First, we need to set up a config file with some house-keeping information such as directory of files and parameters. See example in `config.yaml`. Then, we can use `susie-regions.py` script to create a SLURM job per region of interest."
   ]
  },
  {
   "cell_type": "markdown",
   "id": "e26d0343",
   "metadata": {},
   "source": [
    "Important note: the script `susie-regions.py` requires two other scripts that should be specified in the config file, namely:\n",
    "```\n",
    "prep-template: \"{base}/scripts/prep-template.sh\"\n",
    "susie-template: \"{base}/scripts/susie-template.sh\"\n",
    "```"
   ]
  },
  {
   "cell_type": "markdown",
   "id": "5e63b06e",
   "metadata": {},
   "source": [
    "```\n",
    "cd /scratch/scjp_root/scjp99/vthihong/2_PanKBase/colocGWAS_T1D/1_t1d-susie/results/hg38/susie-region\n",
    "\n",
    "python /scratch/scjp_root/scjp99/vthihong/2_PanKBase/colocGWAS_T1D/1_t1d-susie/scripts/susie-regions.py --config /scratch/scjp_root/scjp99/vthihong/2_PanKBase/colocGWAS_T1D/1_t1d-susie/scripts/config.yaml\n",
    "```"
   ]
  },
  {
   "cell_type": "markdown",
   "id": "d6e5d230",
   "metadata": {},
   "source": [
    "At this point, we have a series of individual scripts for each region, with names in the format `t1d__<locus name, no other special characters like ;() etc>__<lead snp rsid>__<primary P or secondary S>__<region>__<window>.susieprep.sh` and `t1d__<locus name, no other special characters like ;() etc>__<lead snp rsid>__<primary P or secondary S>__<region>__<window>.susie.sh`. The `*susieprep.sh` is necessary to fetch information such as variants and dosages. The `*susie.sh` is to run the fine-mapping analysis. "
   ]
  },
  {
   "cell_type": "markdown",
   "id": "2ad20d63",
   "metadata": {},
   "source": [
    "Example of a `susieprep.sh` file is as the following:\n",
    "```\n",
    "cat /nfs/turbo/umms-scjp-pank/vthihong/colocGWAS_T1D/1_t1d-susie/results/hg38/susie-region/t1d__CFTR__rs7795896__P__chr7-117196558-117696559__250kb.susieprep.sh \n",
    "```\n",
    "\n",
    "```\n",
    "#!/bin/bash\n",
    "\n",
    "## fetch variants in the region and intersect UKBB vcfs\n",
    "for i in /scratch/scjp_root/scjp99/vthihong/2_PanKBase/colocGWAS_T1D/0_data/hg38/chr7.imputed.poly.vcf.gz; do tabix $i chr7:117196558-117696559 | awk '{if (($0 !~ /^#/ && $0 !~ /^chr/)) print \"chr\"$0; else print $0}' ; done | sort | uniq > t1d__CFTR__rs7795896__P__chr7-117196558-117696559__250kb.ukbb.genotypes\n",
    "zcat /scratch/scjp_root/scjp99/vthihong/2_PanKBase/colocGWAS_T1D/0_data/hg38/chr7.imputed.poly.vcf.gz | head -10000 | awk '{if (($0 ~ /^#/)) print $0}' > t1d__CFTR__rs7795896__P__chr7-117196558-117696559__250kb.ukbb.header\n",
    "cat t1d__CFTR__rs7795896__P__chr7-117196558-117696559__250kb.ukbb.header t1d__CFTR__rs7795896__P__chr7-117196558-117696559__250kb.ukbb.genotypes | bgzip -c > t1d__CFTR__rs7795896__P__chr7-117196558-117696559__250kb.ukbb.vcf.gz; tabix t1d__CFTR__rs7795896__P__chr7-117196558-117696559__250kb.ukbb.vcf.gz\n",
    "rm t1d__CFTR__rs7795896__P__chr7-117196558-117696559__250kb.ukbb.genotypes t1d__CFTR__rs7795896__P__chr7-117196558-117696559__250kb.ukbb.header\n",
    "\n",
    "## fetch UKBB dosages \n",
    "zcat t1d__CFTR__rs7795896__P__chr7-117196558-117696559__250kb.ukbb.vcf.gz | head -10000 | awk -F'\\t' '{if (($0 ~/^#CHROM/)) print $0}' OFS='\\t' | sed -e 's:#CHROM\\tPOS\\tID\\tREF\\tALT\\tQUAL\\tFILTER\\tINFO\\tFORMAT:ID:g' > t1d__CFTR__rs7795896__P__chr7-117196558-117696559__250kb.ukbb-header.txt \n",
    "bcftools query -f \"%ID-%REF-%ALT[\\t%DS]\\n\" t1d__CFTR__rs7795896__P__chr7-117196558-117696559__250kb.ukbb.vcf.gz | cat t1d__CFTR__rs7795896__P__chr7-117196558-117696559__250kb.ukbb-header.txt - > t1d__CFTR__rs7795896__P__chr7-117196558-117696559__250kb.ukbb-dosages.tsv \n",
    "\n",
    "## fetch GWAS variants \n",
    "tabix -h /scratch/scjp_root/scjp99/vthihong/2_PanKBase/colocGWAS_T1D/1_t1d-susie//data/t1d.bed.gz chr7:117196558-117696559 > t1d__CFTR__rs7795896__P__chr7-117196558-117696559__250kb.gwas.tsv ;\n",
    "\n",
    "## align GWAS alleles with UKBB reference and have consistent rsids\n",
    "/scratch/scjp_root/scjp99/vthihong/2_PanKBase/colocGWAS_T1D/1_t1d-susie/scripts/align-gwas-refpanel-alleles.py t1d__CFTR__rs7795896__P__chr7-117196558-117696559__250kb.ukbb.vcf.gz t1d__CFTR__rs7795896__P__chr7-117196558-117696559__250kb.gwas.tsv t1d__CFTR__rs7795896__P__chr7-117196558-117696559__250kb.gwas.tsv #I do not need this step because I already matched alleles upstream when liftover hg38 to hg19\n",
    "\n",
    "## cleanup\n",
    "rm -rf t1d__CFTR__rs7795896__P__chr7-117196558-117696559__250kb.ukbb-header.txt t1d__CFTR__rs7795896__P__chr7-117196558-117696559__250kb.ukbb.vcf.gz*\n",
    "```"
   ]
  },
  {
   "cell_type": "markdown",
   "id": "c9bfa257",
   "metadata": {},
   "source": [
    "Example of a `susie.sh` file is as the following:\n",
    "```\n",
    "cat /nfs/turbo/umms-scjp-pank/vthihong/colocGWAS_T1D/1_t1d-susie/results/hg38/susie-region/t1d__CFTR__rs7795896__P__chr7-117196558-117696559__250kb.susie.sh \n",
    "```\n",
    "```\n",
    "#!/bin/bash\n",
    "\n",
    "################## running SuSiE for  t1d__CFTR__rs7795896__P__chr7-117196558-117696559__250kb:\n",
    "\n",
    "## Susie \n",
    "/scratch/scjp_root/scjp99/vthihong/2_PanKBase/colocGWAS_T1D/1_t1d-susie/scripts/susie-gwas.R --trait1 t1d__CFTR__rs7795896__P__chr7-117196558-117696559__250kb.gwas.tsv --prefix t1d__CFTR__rs7795896__P__chr7-117196558-117696559__250kb --ld_mat t1d__CFTR__rs7795896__P__chr7-117196558-117696559__250kb.ld.tsv  --type cc --beta beta --se standard_error --p p_value --coverage 0.95 --r2_prune 0.8 --maxit 10000 --min_abs_corr 0.1 --number_signals 10 --s_threshold 0.3 --number_signals_high_s 1 --dropsets_if_no_proxy 0.5 --marker rs7795896 ;\n",
    "```"
   ]
  },
  {
   "cell_type": "markdown",
   "id": "c8b7a458",
   "metadata": {},
   "source": [
    "## Step 3: Conduct fine-mapping analysis for all regions of interest"
   ]
  },
  {
   "cell_type": "markdown",
   "id": "960c5232",
   "metadata": {},
   "source": [
    "After we set up analysis scripts for each region, we can run the analysis for every region using Snakemake. See example of a Snakemake file at `scripts/susie.sf`."
   ]
  },
  {
   "cell_type": "markdown",
   "id": "22fd8b50",
   "metadata": {},
   "source": [
    "We retained sets containing lead SNPs or variants in high linkage disequilibrium (`R^2 >= 0.5`) with lead SNPs. These signals of each locus by default will be saved in a R object names `*selected.Rda`. "
   ]
  },
  {
   "cell_type": "markdown",
   "id": "d6296325",
   "metadata": {},
   "source": [
    "## Step 4 (optional): Obtain output files for PanKgraph"
   ]
  },
  {
   "cell_type": "markdown",
   "id": "4da60d8e",
   "metadata": {},
   "source": [
    "Using these `Rda` files output at the end of Step 3 is ideal if one is familar with `susie` objects since it has rich information about the analysis of each region. However, for the purpose of PanKgraph, we will extract some outputs into text files. Example of code is the following:"
   ]
  },
  {
   "cell_type": "code",
   "execution_count": 6,
   "id": "9a9b9011",
   "metadata": {},
   "outputs": [],
   "source": [
    "library(glue)\n",
    "library(tidyr)\n",
    "suppressPackageStartupMessages(library(dplyr))"
   ]
  },
  {
   "cell_type": "code",
   "execution_count": 3,
   "id": "263daad3",
   "metadata": {},
   "outputs": [
    {
     "data": {
      "text/html": [
       "<table class=\"dataframe\">\n",
       "<caption>A data.frame: 6 × 15</caption>\n",
       "<thead>\n",
       "\t<tr><th></th><th scope=col>#snp_chrom</th><th scope=col>snp_start</th><th scope=col>snp_end</th><th scope=col>variant_id</th><th scope=col>p_value</th><th scope=col>EA</th><th scope=col>NEA</th><th scope=col>EAF</th><th scope=col>beta</th><th scope=col>standard_error</th><th scope=col>sample_size</th><th scope=col>snp</th><th scope=col>REF</th><th scope=col>ALT</th><th scope=col>multiply</th></tr>\n",
       "\t<tr><th></th><th scope=col>&lt;chr&gt;</th><th scope=col>&lt;int&gt;</th><th scope=col>&lt;int&gt;</th><th scope=col>&lt;chr&gt;</th><th scope=col>&lt;dbl&gt;</th><th scope=col>&lt;chr&gt;</th><th scope=col>&lt;chr&gt;</th><th scope=col>&lt;dbl&gt;</th><th scope=col>&lt;dbl&gt;</th><th scope=col>&lt;dbl&gt;</th><th scope=col>&lt;int&gt;</th><th scope=col>&lt;chr&gt;</th><th scope=col>&lt;chr&gt;</th><th scope=col>&lt;chr&gt;</th><th scope=col>&lt;int&gt;</th></tr>\n",
       "</thead>\n",
       "<tbody>\n",
       "\t<tr><th scope=row>1</th><td>chr7</td><td>117196695</td><td>117196696</td><td>rs1243456696</td><td>0.116874105</td><td>T</td><td>C</td><td>0.000427</td><td> 1.429203</td><td>0.911464</td><td>363495</td><td>7:116836750_C_T-C-T</td><td>C</td><td>T</td><td>1</td></tr>\n",
       "\t<tr><th scope=row>2</th><td>chr7</td><td>117196851</td><td>117196852</td><td>rs77532575  </td><td>0.003098964</td><td>C</td><td>T</td><td>0.041051</td><td> 0.114204</td><td>0.038612</td><td>511056</td><td>rs77532575-T-C     </td><td>T</td><td>C</td><td>1</td></tr>\n",
       "\t<tr><th scope=row>3</th><td>chr7</td><td>117196889</td><td>117196890</td><td>rs559683745 </td><td>0.151254453</td><td>T</td><td>C</td><td>0.001218</td><td>-0.426136</td><td>0.296935</td><td>396013</td><td>rs559683745-C-T    </td><td>C</td><td>T</td><td>1</td></tr>\n",
       "\t<tr><th scope=row>4</th><td>chr7</td><td>117196890</td><td>117196891</td><td>rs371529860 </td><td>0.034298003</td><td>A</td><td>G</td><td>0.000040</td><td>12.896196</td><td>6.093025</td><td>363495</td><td>rs371529860-G-A    </td><td>G</td><td>A</td><td>1</td></tr>\n",
       "\t<tr><th scope=row>5</th><td>chr7</td><td>117196939</td><td>117196940</td><td>rs114841894 </td><td>0.710482119</td><td>G</td><td>A</td><td>0.000045</td><td>-1.119268</td><td>3.015199</td><td>363495</td><td>rs114841894-A-G    </td><td>A</td><td>G</td><td>1</td></tr>\n",
       "\t<tr><th scope=row>6</th><td>chr7</td><td>117197063</td><td>117197064</td><td>rs183501213 </td><td>0.800548633</td><td>A</td><td>G</td><td>0.000722</td><td> 0.065790</td><td>0.260412</td><td>511056</td><td>rs183501213-G-A    </td><td>G</td><td>A</td><td>1</td></tr>\n",
       "</tbody>\n",
       "</table>\n"
      ],
      "text/latex": [
       "A data.frame: 6 × 15\n",
       "\\begin{tabular}{r|lllllllllllllll}\n",
       "  & \\#snp\\_chrom & snp\\_start & snp\\_end & variant\\_id & p\\_value & EA & NEA & EAF & beta & standard\\_error & sample\\_size & snp & REF & ALT & multiply\\\\\n",
       "  & <chr> & <int> & <int> & <chr> & <dbl> & <chr> & <chr> & <dbl> & <dbl> & <dbl> & <int> & <chr> & <chr> & <chr> & <int>\\\\\n",
       "\\hline\n",
       "\t1 & chr7 & 117196695 & 117196696 & rs1243456696 & 0.116874105 & T & C & 0.000427 &  1.429203 & 0.911464 & 363495 & 7:116836750\\_C\\_T-C-T & C & T & 1\\\\\n",
       "\t2 & chr7 & 117196851 & 117196852 & rs77532575   & 0.003098964 & C & T & 0.041051 &  0.114204 & 0.038612 & 511056 & rs77532575-T-C      & T & C & 1\\\\\n",
       "\t3 & chr7 & 117196889 & 117196890 & rs559683745  & 0.151254453 & T & C & 0.001218 & -0.426136 & 0.296935 & 396013 & rs559683745-C-T     & C & T & 1\\\\\n",
       "\t4 & chr7 & 117196890 & 117196891 & rs371529860  & 0.034298003 & A & G & 0.000040 & 12.896196 & 6.093025 & 363495 & rs371529860-G-A     & G & A & 1\\\\\n",
       "\t5 & chr7 & 117196939 & 117196940 & rs114841894  & 0.710482119 & G & A & 0.000045 & -1.119268 & 3.015199 & 363495 & rs114841894-A-G     & A & G & 1\\\\\n",
       "\t6 & chr7 & 117197063 & 117197064 & rs183501213  & 0.800548633 & A & G & 0.000722 &  0.065790 & 0.260412 & 511056 & rs183501213-G-A     & G & A & 1\\\\\n",
       "\\end{tabular}\n"
      ],
      "text/markdown": [
       "\n",
       "A data.frame: 6 × 15\n",
       "\n",
       "| <!--/--> | #snp_chrom &lt;chr&gt; | snp_start &lt;int&gt; | snp_end &lt;int&gt; | variant_id &lt;chr&gt; | p_value &lt;dbl&gt; | EA &lt;chr&gt; | NEA &lt;chr&gt; | EAF &lt;dbl&gt; | beta &lt;dbl&gt; | standard_error &lt;dbl&gt; | sample_size &lt;int&gt; | snp &lt;chr&gt; | REF &lt;chr&gt; | ALT &lt;chr&gt; | multiply &lt;int&gt; |\n",
       "|---|---|---|---|---|---|---|---|---|---|---|---|---|---|---|---|\n",
       "| 1 | chr7 | 117196695 | 117196696 | rs1243456696 | 0.116874105 | T | C | 0.000427 |  1.429203 | 0.911464 | 363495 | 7:116836750_C_T-C-T | C | T | 1 |\n",
       "| 2 | chr7 | 117196851 | 117196852 | rs77532575   | 0.003098964 | C | T | 0.041051 |  0.114204 | 0.038612 | 511056 | rs77532575-T-C      | T | C | 1 |\n",
       "| 3 | chr7 | 117196889 | 117196890 | rs559683745  | 0.151254453 | T | C | 0.001218 | -0.426136 | 0.296935 | 396013 | rs559683745-C-T     | C | T | 1 |\n",
       "| 4 | chr7 | 117196890 | 117196891 | rs371529860  | 0.034298003 | A | G | 0.000040 | 12.896196 | 6.093025 | 363495 | rs371529860-G-A     | G | A | 1 |\n",
       "| 5 | chr7 | 117196939 | 117196940 | rs114841894  | 0.710482119 | G | A | 0.000045 | -1.119268 | 3.015199 | 363495 | rs114841894-A-G     | A | G | 1 |\n",
       "| 6 | chr7 | 117197063 | 117197064 | rs183501213  | 0.800548633 | A | G | 0.000722 |  0.065790 | 0.260412 | 511056 | rs183501213-G-A     | G | A | 1 |\n",
       "\n"
      ],
      "text/plain": [
       "  #snp_chrom snp_start snp_end   variant_id   p_value     EA NEA EAF     \n",
       "1 chr7       117196695 117196696 rs1243456696 0.116874105 T  C   0.000427\n",
       "2 chr7       117196851 117196852 rs77532575   0.003098964 C  T   0.041051\n",
       "3 chr7       117196889 117196890 rs559683745  0.151254453 T  C   0.001218\n",
       "4 chr7       117196890 117196891 rs371529860  0.034298003 A  G   0.000040\n",
       "5 chr7       117196939 117196940 rs114841894  0.710482119 G  A   0.000045\n",
       "6 chr7       117197063 117197064 rs183501213  0.800548633 A  G   0.000722\n",
       "  beta      standard_error sample_size snp                 REF ALT multiply\n",
       "1  1.429203 0.911464       363495      7:116836750_C_T-C-T C   T   1       \n",
       "2  0.114204 0.038612       511056      rs77532575-T-C      T   C   1       \n",
       "3 -0.426136 0.296935       396013      rs559683745-C-T     C   T   1       \n",
       "4 12.896196 6.093025       363495      rs371529860-G-A     G   A   1       \n",
       "5 -1.119268 3.015199       363495      rs114841894-A-G     A   G   1       \n",
       "6  0.065790 0.260412       511056      rs183501213-G-A     G   A   1       "
      ]
     },
     "metadata": {},
     "output_type": "display_data"
    }
   ],
   "source": [
    "l <- \"CFTR__rs7795896__P__chr7-117196558-117696559\" # locus name\n",
    "\n",
    "process_dosage = function(f, snplist){\n",
    "    ld = read.csv(f, sep='\\t', check.names = F)\n",
    "    dups = ld[ (duplicated(ld$ID) | duplicated(ld$ID, fromLast = TRUE)),]\n",
    "    print(glue(\"N duplicates = {nrow(dups)}\"))\n",
    "    ld = ld[! (duplicated(ld$ID) | duplicated(ld$ID, fromLast = TRUE)),]\n",
    "    row.names(ld) = ld$ID\n",
    "    ld$ID = NULL\n",
    "    idlist = intersect(snplist, row.names(ld))\n",
    "    ld = ld[idlist,]\n",
    "    print(ld[1:5, 1:10])\n",
    "    ld = cor(t(ld))\n",
    "    return(ld)\n",
    "}\n",
    "\n",
    "qtl <- read.csv(paste0(\"/nfs/turbo/umms-scjp-pank/vthihong/colocGWAS_T1D/1_t1d-susie/results/hg38/susie-prep/t1d__\",\n",
    "                       l, \"__250kb.gwas.tsv\"), sep='\\t', header=T, check.names=F)\n",
    "qtl <- qtl[!is.na(qtl$variant_id),]\n",
    "qtl$beta <- qtl$beta / qtl$multiply\n",
    "head(qtl)"
   ]
  },
  {
   "cell_type": "code",
   "execution_count": 9,
   "id": "eeeff6fb",
   "metadata": {},
   "outputs": [
    {
     "name": "stdout",
     "output_type": "stream",
     "text": [
      "[1] 2\n"
     ]
    },
    {
     "name": "stderr",
     "output_type": "stream",
     "text": [
      "\u001b[1m\u001b[22mJoining with `by = join_by(snp)`\n"
     ]
    },
    {
     "name": "stdout",
     "output_type": "stream",
     "text": [
      "  pip             snp      p_value EA NEA     beta\n",
      "1   1 rs35320372-A-AT 2.533491e-13 AT   A 0.118144\n",
      "  pip             snp      p_value EA NEA     beta      lbf\n",
      "1   1 rs35320372-A-AT 2.533491e-13 AT   A 0.118144 3715.194\n",
      "N duplicates = 0\n",
      "                1000251 1000534 1000542 1000766 1000898 1000924 1000961 1001059\n",
      "rs35320372-A-AT       1       1       1       1       0       1       1       0\n",
      "NA                   NA      NA      NA      NA      NA      NA      NA      NA\n",
      "NA.1                 NA      NA      NA      NA      NA      NA      NA      NA\n",
      "NA.2                 NA      NA      NA      NA      NA      NA      NA      NA\n",
      "NA.3                 NA      NA      NA      NA      NA      NA      NA      NA\n",
      "                1001113 1001172\n",
      "rs35320372-A-AT       1       0\n",
      "NA                   NA      NA\n",
      "NA.1                 NA      NA\n",
      "NA.2                 NA      NA\n",
      "NA.3                 NA      NA\n",
      "  pip        snp    nominal_p effect_allele other_allele    slope      lbf\n",
      "1   1 rs35320372 2.533491e-13            AT            A 0.118144 3715.194\n"
     ]
    },
    {
     "name": "stderr",
     "output_type": "stream",
     "text": [
      "\u001b[1m\u001b[22mJoining with `by = join_by(snp)`\n"
     ]
    },
    {
     "name": "stdout",
     "output_type": "stream",
     "text": [
      "  pip              snp    p_value EA NEA      beta\n",
      "1   1 rs770567463-AT-A 0.04583266  A  AT -0.080039\n",
      "  pip              snp    p_value EA NEA      beta      lbf\n",
      "1   1 rs770567463-AT-A 0.04583266  A  AT -0.080039 2491.429\n",
      "N duplicates = 0\n",
      "                 1000251 1000534 1000542 1000766 1000898 1000924 1000961\n",
      "rs770567463-AT-A       1       1       1   0.996     1.6       1       2\n",
      "NA                    NA      NA      NA      NA      NA      NA      NA\n",
      "NA.1                  NA      NA      NA      NA      NA      NA      NA\n",
      "NA.2                  NA      NA      NA      NA      NA      NA      NA\n",
      "NA.3                  NA      NA      NA      NA      NA      NA      NA\n",
      "                 1001059 1001113 1001172\n",
      "rs770567463-AT-A       2       1       1\n",
      "NA                    NA      NA      NA\n",
      "NA.1                  NA      NA      NA\n",
      "NA.2                  NA      NA      NA\n",
      "NA.3                  NA      NA      NA\n",
      "  pip         snp  nominal_p effect_allele other_allele     slope      lbf\n",
      "1   1 rs770567463 0.04583266             A           AT -0.080039 2491.429\n"
     ]
    }
   ],
   "source": [
    "load(paste0(\"/nfs/turbo/umms-scjp-pank/vthihong/colocGWAS_T1D/1_t1d-susie/results/hg38/for-coloc/t1d__\", \n",
    "            l, \"__250kb.selected.Rda\"))\n",
    "if (length(S1$sets$cs) > 0) {\n",
    "        print(length(S1$sets$cs))\n",
    "        for (j in 1:length(S1$sets$cs)) {\n",
    "                pip <- data.frame(pip=S1$pip[names(S1$sets$cs[[j]])])\n",
    "                if (S1$sets$coverage[[j]] < 0.95) {\n",
    "                        print(names(S1$sets$cs[[j]]))\n",
    "                        next\n",
    "                }\n",
    "                pip$snp <- row.names(pip)\n",
    "                pip <- inner_join(pip, qtl[,c(\"snp\", \"p_value\", \"EA\", \"NEA\", \"beta\")]) #pip snp p_value EA NEA beta lbf\n",
    "                print(head(pip))\n",
    "\n",
    "                idx = S1$sets$cs_index[j]\n",
    "                isnps = colnames(S1$lbf_variable)\n",
    "                bf = S1$lbf_variable[idx, isnps, drop=FALSE]\n",
    "                bf = data.frame(snp = isnps, lbf = t(bf)[,1])\n",
    "                pip <- inner_join(pip, bf, by = c(\"snp\" = \"snp\"))\n",
    "                print(head(pip))\n",
    "                colnames(pip) <- c(\"pip\", \"snp\", \"nominal_p\", \"effect_allele\", \"other_allele\", \"slope\", \"lbf\")\n",
    "                \n",
    "                ldf <- process_dosage(paste0(\"/nfs/turbo/umms-scjp-pank/vthihong/colocGWAS_T1D/1_t1d-susie/results/hg38/susie-prep/t1d__\", \n",
    "                                             l, \"__250kb.ukbb-dosages.tsv\"), pip$snp)\n",
    "                ldf <- ldf**2\n",
    "                colnames(ldf) <- stringr::str_extract(colnames(ldf), \"[^-]*\")\n",
    "                rownames(ldf) <- stringr::str_extract(rownames(ldf), \"[^-]*\")\n",
    "                # save LD matrix\n",
    "                #write.table(ldf, paste0(\"/scratch/scjp_root/scjp99/vthihong/2_PanKBase/colocGWAS_T1D/1_t1d-susie/results/hg38/susie/t1d__\", report$V1[i], \"__250kb__credibleSet\", j, \"__ld__selected.txt\"), sep = \"\\t\", quote = F)\n",
    "\n",
    "                pip$snp <- stringr::str_extract(pip$snp, \"[^-]*\")\n",
    "                print(head(pip))\n",
    "            \n",
    "                # save credible sets as text files\n",
    "                #write.table(pip[, c(\"snp\", \"pip\", \"nominal_p\", \"lbf\", \"slope\", \"effect_allele\", \"other_allele\")], paste0(\"/scratch/scjp_root/scjp99/vthihong/2_PanKBase/colocGWAS_T1D/1_t1d-susie/results/hg38/susie/t1d__\", report$V1[i], \"__250kb__credibleSet\", j, \"__selected.txt\"), row.names = F, sep = \"\\t\", quote = F)\n",
    "        }\n",
    "}"
   ]
  }
 ],
 "metadata": {
  "kernelspec": {
   "display_name": "R",
   "language": "R",
   "name": "ir"
  },
  "language_info": {
   "codemirror_mode": "r",
   "file_extension": ".r",
   "mimetype": "text/x-r-source",
   "name": "R",
   "pygments_lexer": "r",
   "version": "4.3.1"
  }
 },
 "nbformat": 4,
 "nbformat_minor": 5
}
