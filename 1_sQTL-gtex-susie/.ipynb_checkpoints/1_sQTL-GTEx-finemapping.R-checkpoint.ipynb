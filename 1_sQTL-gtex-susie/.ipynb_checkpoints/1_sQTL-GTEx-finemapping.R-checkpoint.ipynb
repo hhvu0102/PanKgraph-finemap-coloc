{
 "cells": [
  {
   "cell_type": "markdown",
   "id": "dd942f6c",
   "metadata": {},
   "source": [
    "# How to conduct fine-mapping analysis for eQTL data from pancreatic tissue on splicing level"
   ]
  },
  {
   "cell_type": "markdown",
   "id": "989d8ac2",
   "metadata": {},
   "source": [
    "Pancreatic gene-level eQTL data were downloaded from https://www.gtexportal.org/home/downloads/adult-gtex/qtl from GTEx v8."
   ]
  },
  {
   "cell_type": "markdown",
   "id": "16bdd9bb",
   "metadata": {},
   "source": [
    "This documentation contains instruction on how to conduct fine-mapping analysis for pancreatic splicing-level QTL data."
   ]
  },
  {
   "cell_type": "markdown",
   "id": "8f522f24",
   "metadata": {},
   "source": [
    "In this analysis, we employed genotype data from 40,000 unrelated British individuals in the UK Biobank."
   ]
  },
  {
   "cell_type": "markdown",
   "id": "5fd9e989",
   "metadata": {},
   "source": [
    "We thank Dr. Arushi Varshney (Parker Lab) for their valuable support in shaping the analysis strategies and code development."
   ]
  },
  {
   "cell_type": "markdown",
   "id": "f7fd92ab",
   "metadata": {},
   "source": [
    "## Step 1: Set up data for the fine-mapping pipeline"
   ]
  },
  {
   "cell_type": "markdown",
   "id": "24dd24ab",
   "metadata": {},
   "source": [
    "We set up a file with gene-level summary stat files for all lead signals, which will be used in the next step."
   ]
  },
  {
   "cell_type": "markdown",
   "id": "05294357",
   "metadata": {},
   "source": [
    "### Step 1.1: Convert `parquet` format"
   ]
  },
  {
   "cell_type": "markdown",
   "id": "827155db",
   "metadata": {},
   "source": [
    "Data from GTEx is in `parquet` format which can be converted into txt files using the following code:"
   ]
  },
  {
   "cell_type": "code",
   "execution_count": null,
   "id": "73cdfd4f",
   "metadata": {},
   "outputs": [],
   "source": [
    "library(\"dplyr\")\n",
    "library(\"tidyr\")\n",
    "library(\"data.table\")\n",
    "library(arrow)\n",
    "\n",
    "files <- list.files(\"/nfs/turbo/umms-scjp-pank/vthihong/colocGWAS_T1D/0_data/GTEx_EUR_sQTL/\", pattern=\"parquet\")\n",
    "files<-files[11:length(files)]\n",
    "for (i in files) {\n",
    "        chr <- gsub(\".parquet\", \"\", gsub(\"GTEx_Analysis_v8_QTLs_GTEx_Analysis_v8_EUR_sQTL_all_associations_Pancreas.v8.EUR.sqtl_allpairs.\", \"\", i))\n",
    "        a <- read_parquet(paste0(\"/nfs/turbo/umms-scjp-pank/vthihong/colocGWAS_T1D/0_data/GTEx_EUR_sQTL/\", i))\n",
    "        a <- a[,1:(ncol(a)-1)]\n",
    "        setDT(a)\n",
    "        a[, c(\"snp_chr\", \"snp_stop\", \"ref_gtex\", \"alt_gtex\", \"gtex_code\") := tstrsplit(variant_id, \"_\")]\n",
    "        a[, c(\"pheno_chr\", \"pheno_start\", \"pheno_stop\", \"pheno_clu\", \"gene_id\") := tstrsplit(phenotype_id, \":\")]\n",
    "        a <- as.data.frame(a)\n",
    "        a$snp_stop <- as.numeric(a$snp_stop)\n",
    "        a$snp_start <- a$snp_stop-1\n",
    "        write.table(a, paste0(\"/nfs/turbo/umms-scjp-pank/vthihong/colocGWAS_T1D/3_t1d-eQTL_GTEx-coloc/results/GTEx_EUR_sQTL/gtex_indexed/\", chr, \".bed\"), col.names=T, row.names=F, sep=\"\\t\", quote=F)\n",
    "}"
   ]
  },
  {
   "cell_type": "markdown",
   "id": "4dec3cdf",
   "metadata": {},
   "source": [
    "### Step 1.2: Split all variants based on feature-level (in this case, gene-level)"
   ]
  },
  {
   "cell_type": "markdown",
   "id": "ac50e078",
   "metadata": {},
   "source": [
    "GTEx has variant names in the form `chr1_666028_G_A_b38` which is different from our reference data, so we need to map GTEx variants to our reference. Additionally, we'd want variants for each gene in its own separate files for downstream steps."
   ]
  },
  {
   "cell_type": "markdown",
   "id": "c64c043e",
   "metadata": {},
   "source": [
    "This step can be done with Snakemake. See example Snakemake file at `scripts/splitGenes.sf`. This Snakemake task utilizes a genome-wide vcf file which could be obtained using instruction in Step 1 of fine-mapping eQTL InsPIRE code. Then every gene file needs indexing, which can be done using the following code\n",
    "```\n",
    "cd /nfs/turbo/umms-scjp-pank/vthihong/colocGWAS_T1D/3_t1d-eQTL_GTEx-coloc/results/GTEx_EUR_sQTL/gtex_indexed\n",
    "module load Bioinformatics\n",
    "module load Bioinformatics  gcc/10.3.0-k2osx5y\n",
    "module load samtools/1.13-fwwss5n\n",
    "\n",
    "chr=$1\n",
    "\n",
    "a=`ls *__\"$chr\":*bed`\n",
    "\n",
    "for i in $a\n",
    "do\n",
    "bgzip -@ 2 $i\n",
    "tabix --preset=bed \"$i\".gz\n",
    "done\n",
    "\n",
    "```"
   ]
  },
  {
   "cell_type": "markdown",
   "id": "de34a51c",
   "metadata": {},
   "source": [
    "To map GTEx variant names to our reference data for lead SNPs (which is supplied in the file `Pancreas.v8.sgenes.txt.gz`), one can use the script `scripts/getHg38SummStats_sQTLleads.R`. The end result of this script is a file named `sQTL_EUR_leads.txt`, which should be indexed, and it will be used in the next step."
   ]
  },
  {
   "cell_type": "markdown",
   "id": "f11979c2",
   "metadata": {},
   "source": [
    "### Step 1.3: Set up a file with gene-level summary stat files for all lead signals"
   ]
  },
  {
   "cell_type": "code",
   "execution_count": 1,
   "id": "3d23e213",
   "metadata": {},
   "outputs": [
    {
     "name": "stderr",
     "output_type": "stream",
     "text": [
      "\n",
      "Attaching package: ‘dplyr’\n",
      "\n",
      "\n",
      "The following objects are masked from ‘package:stats’:\n",
      "\n",
      "    filter, lag\n",
      "\n",
      "\n",
      "The following objects are masked from ‘package:base’:\n",
      "\n",
      "    intersect, setdiff, setequal, union\n",
      "\n",
      "\n"
     ]
    }
   ],
   "source": [
    "library(dplyr)\n",
    "\n",
    "\n",
    "ind <- read.table(\"/nfs/turbo/umms-scjp-pank/vthihong/colocGWAS_T1D/1_sQTL-gtex-susie/data/sQTL_EUR_leads.txt.gz\", header = F)\n",
    "df38 <- ind[, c(\"V9\", \"V4\", \"V19\")]"
   ]
  },
  {
   "cell_type": "code",
   "execution_count": 2,
   "id": "785a0b73",
   "metadata": {},
   "outputs": [
    {
     "data": {
      "text/html": [
       "<table class=\"dataframe\">\n",
       "<caption>A data.frame: 6 × 5</caption>\n",
       "<thead>\n",
       "\t<tr><th></th><th scope=col>V9</th><th scope=col>V4</th><th scope=col>V19</th><th scope=col>eqtl_input</th><th scope=col>gene_id</th></tr>\n",
       "\t<tr><th></th><th scope=col>&lt;chr&gt;</th><th scope=col>&lt;chr&gt;</th><th scope=col>&lt;chr&gt;</th><th scope=col>&lt;chr&gt;</th><th scope=col>&lt;chr&gt;</th></tr>\n",
       "</thead>\n",
       "<tbody>\n",
       "\t<tr><th scope=row>1</th><td>ENSG00000188976.10</td><td>rs111463901</td><td>chr1:946545:948131:clu_38413:ENSG00000188976.10  </td><td>/nfs/turbo/umms-scjp-pank/vthihong/colocGWAS_T1D/3_t1d-eQTL_GTEx-coloc/results/GTEx_EUR_sQTL/gtex_indexed/ENSG00000188976.10__chr1:946545:948131:clu_38413:ENSG00000188976.10__GTEx_Pancreas_sGene__1:944582.bed.gz   </td><td>ENSG00000188976</td></tr>\n",
       "\t<tr><th scope=row>2</th><td>ENSG00000188157.14</td><td>rs551305078</td><td>chr1:1054551:1054824:clu_38443:ENSG00000188157.14</td><td>/nfs/turbo/umms-scjp-pank/vthihong/colocGWAS_T1D/3_t1d-eQTL_GTEx-coloc/results/GTEx_EUR_sQTL/gtex_indexed/ENSG00000188157.14__chr1:1054551:1054824:clu_38443:ENSG00000188157.14__GTEx_Pancreas_sGene__1:1020123.bed.gz</td><td>ENSG00000188157</td></tr>\n",
       "\t<tr><th scope=row>3</th><td>ENSG00000215790.6 </td><td>rs11260600 </td><td>chr1:1722831:1723800:clu_38554:ENSG00000215790.6 </td><td>/nfs/turbo/umms-scjp-pank/vthihong/colocGWAS_T1D/3_t1d-eQTL_GTEx-coloc/results/GTEx_EUR_sQTL/gtex_indexed/ENSG00000215790.6__chr1:1722831:1723800:clu_38554:ENSG00000215790.6__GTEx_Pancreas_sGene__1:1724838.bed.gz  </td><td>ENSG00000215790</td></tr>\n",
       "\t<tr><th scope=row>4</th><td>ENSG00000078808.16</td><td>rs60252802 </td><td>chr1:1228946:1231892:clu_38455:ENSG00000078808.16</td><td>/nfs/turbo/umms-scjp-pank/vthihong/colocGWAS_T1D/3_t1d-eQTL_GTEx-coloc/results/GTEx_EUR_sQTL/gtex_indexed/ENSG00000078808.16__chr1:1228946:1231892:clu_38455:ENSG00000078808.16__GTEx_Pancreas_sGene__1:1216908.bed.gz</td><td>ENSG00000078808</td></tr>\n",
       "\t<tr><th scope=row>5</th><td>ENSG00000169972.11</td><td>rs115316182</td><td>chr1:1310688:1310909:clu_38477:ENSG00000169972.11</td><td>/nfs/turbo/umms-scjp-pank/vthihong/colocGWAS_T1D/3_t1d-eQTL_GTEx-coloc/results/GTEx_EUR_sQTL/gtex_indexed/ENSG00000169972.11__chr1:1310688:1310909:clu_38477:ENSG00000169972.11__GTEx_Pancreas_sGene__1:1308567.bed.gz</td><td>ENSG00000169972</td></tr>\n",
       "\t<tr><th scope=row>6</th><td>ENSG00000221978.11</td><td>rs307377   </td><td>chr1:1388065:1388626:clu_38489:ENSG00000221978.11</td><td>/nfs/turbo/umms-scjp-pank/vthihong/colocGWAS_T1D/3_t1d-eQTL_GTEx-coloc/results/GTEx_EUR_sQTL/gtex_indexed/ENSG00000221978.11__chr1:1388065:1388626:clu_38489:ENSG00000221978.11__GTEx_Pancreas_sGene__1:1386482.bed.gz</td><td>ENSG00000221978</td></tr>\n",
       "</tbody>\n",
       "</table>\n"
      ],
      "text/latex": [
       "A data.frame: 6 × 5\n",
       "\\begin{tabular}{r|lllll}\n",
       "  & V9 & V4 & V19 & eqtl\\_input & gene\\_id\\\\\n",
       "  & <chr> & <chr> & <chr> & <chr> & <chr>\\\\\n",
       "\\hline\n",
       "\t1 & ENSG00000188976.10 & rs111463901 & chr1:946545:948131:clu\\_38413:ENSG00000188976.10   & /nfs/turbo/umms-scjp-pank/vthihong/colocGWAS\\_T1D/3\\_t1d-eQTL\\_GTEx-coloc/results/GTEx\\_EUR\\_sQTL/gtex\\_indexed/ENSG00000188976.10\\_\\_chr1:946545:948131:clu\\_38413:ENSG00000188976.10\\_\\_GTEx\\_Pancreas\\_sGene\\_\\_1:944582.bed.gz    & ENSG00000188976\\\\\n",
       "\t2 & ENSG00000188157.14 & rs551305078 & chr1:1054551:1054824:clu\\_38443:ENSG00000188157.14 & /nfs/turbo/umms-scjp-pank/vthihong/colocGWAS\\_T1D/3\\_t1d-eQTL\\_GTEx-coloc/results/GTEx\\_EUR\\_sQTL/gtex\\_indexed/ENSG00000188157.14\\_\\_chr1:1054551:1054824:clu\\_38443:ENSG00000188157.14\\_\\_GTEx\\_Pancreas\\_sGene\\_\\_1:1020123.bed.gz & ENSG00000188157\\\\\n",
       "\t3 & ENSG00000215790.6  & rs11260600  & chr1:1722831:1723800:clu\\_38554:ENSG00000215790.6  & /nfs/turbo/umms-scjp-pank/vthihong/colocGWAS\\_T1D/3\\_t1d-eQTL\\_GTEx-coloc/results/GTEx\\_EUR\\_sQTL/gtex\\_indexed/ENSG00000215790.6\\_\\_chr1:1722831:1723800:clu\\_38554:ENSG00000215790.6\\_\\_GTEx\\_Pancreas\\_sGene\\_\\_1:1724838.bed.gz   & ENSG00000215790\\\\\n",
       "\t4 & ENSG00000078808.16 & rs60252802  & chr1:1228946:1231892:clu\\_38455:ENSG00000078808.16 & /nfs/turbo/umms-scjp-pank/vthihong/colocGWAS\\_T1D/3\\_t1d-eQTL\\_GTEx-coloc/results/GTEx\\_EUR\\_sQTL/gtex\\_indexed/ENSG00000078808.16\\_\\_chr1:1228946:1231892:clu\\_38455:ENSG00000078808.16\\_\\_GTEx\\_Pancreas\\_sGene\\_\\_1:1216908.bed.gz & ENSG00000078808\\\\\n",
       "\t5 & ENSG00000169972.11 & rs115316182 & chr1:1310688:1310909:clu\\_38477:ENSG00000169972.11 & /nfs/turbo/umms-scjp-pank/vthihong/colocGWAS\\_T1D/3\\_t1d-eQTL\\_GTEx-coloc/results/GTEx\\_EUR\\_sQTL/gtex\\_indexed/ENSG00000169972.11\\_\\_chr1:1310688:1310909:clu\\_38477:ENSG00000169972.11\\_\\_GTEx\\_Pancreas\\_sGene\\_\\_1:1308567.bed.gz & ENSG00000169972\\\\\n",
       "\t6 & ENSG00000221978.11 & rs307377    & chr1:1388065:1388626:clu\\_38489:ENSG00000221978.11 & /nfs/turbo/umms-scjp-pank/vthihong/colocGWAS\\_T1D/3\\_t1d-eQTL\\_GTEx-coloc/results/GTEx\\_EUR\\_sQTL/gtex\\_indexed/ENSG00000221978.11\\_\\_chr1:1388065:1388626:clu\\_38489:ENSG00000221978.11\\_\\_GTEx\\_Pancreas\\_sGene\\_\\_1:1386482.bed.gz & ENSG00000221978\\\\\n",
       "\\end{tabular}\n"
      ],
      "text/markdown": [
       "\n",
       "A data.frame: 6 × 5\n",
       "\n",
       "| <!--/--> | V9 &lt;chr&gt; | V4 &lt;chr&gt; | V19 &lt;chr&gt; | eqtl_input &lt;chr&gt; | gene_id &lt;chr&gt; |\n",
       "|---|---|---|---|---|---|\n",
       "| 1 | ENSG00000188976.10 | rs111463901 | chr1:946545:948131:clu_38413:ENSG00000188976.10   | /nfs/turbo/umms-scjp-pank/vthihong/colocGWAS_T1D/3_t1d-eQTL_GTEx-coloc/results/GTEx_EUR_sQTL/gtex_indexed/ENSG00000188976.10__chr1:946545:948131:clu_38413:ENSG00000188976.10__GTEx_Pancreas_sGene__1:944582.bed.gz    | ENSG00000188976 |\n",
       "| 2 | ENSG00000188157.14 | rs551305078 | chr1:1054551:1054824:clu_38443:ENSG00000188157.14 | /nfs/turbo/umms-scjp-pank/vthihong/colocGWAS_T1D/3_t1d-eQTL_GTEx-coloc/results/GTEx_EUR_sQTL/gtex_indexed/ENSG00000188157.14__chr1:1054551:1054824:clu_38443:ENSG00000188157.14__GTEx_Pancreas_sGene__1:1020123.bed.gz | ENSG00000188157 |\n",
       "| 3 | ENSG00000215790.6  | rs11260600  | chr1:1722831:1723800:clu_38554:ENSG00000215790.6  | /nfs/turbo/umms-scjp-pank/vthihong/colocGWAS_T1D/3_t1d-eQTL_GTEx-coloc/results/GTEx_EUR_sQTL/gtex_indexed/ENSG00000215790.6__chr1:1722831:1723800:clu_38554:ENSG00000215790.6__GTEx_Pancreas_sGene__1:1724838.bed.gz   | ENSG00000215790 |\n",
       "| 4 | ENSG00000078808.16 | rs60252802  | chr1:1228946:1231892:clu_38455:ENSG00000078808.16 | /nfs/turbo/umms-scjp-pank/vthihong/colocGWAS_T1D/3_t1d-eQTL_GTEx-coloc/results/GTEx_EUR_sQTL/gtex_indexed/ENSG00000078808.16__chr1:1228946:1231892:clu_38455:ENSG00000078808.16__GTEx_Pancreas_sGene__1:1216908.bed.gz | ENSG00000078808 |\n",
       "| 5 | ENSG00000169972.11 | rs115316182 | chr1:1310688:1310909:clu_38477:ENSG00000169972.11 | /nfs/turbo/umms-scjp-pank/vthihong/colocGWAS_T1D/3_t1d-eQTL_GTEx-coloc/results/GTEx_EUR_sQTL/gtex_indexed/ENSG00000169972.11__chr1:1310688:1310909:clu_38477:ENSG00000169972.11__GTEx_Pancreas_sGene__1:1308567.bed.gz | ENSG00000169972 |\n",
       "| 6 | ENSG00000221978.11 | rs307377    | chr1:1388065:1388626:clu_38489:ENSG00000221978.11 | /nfs/turbo/umms-scjp-pank/vthihong/colocGWAS_T1D/3_t1d-eQTL_GTEx-coloc/results/GTEx_EUR_sQTL/gtex_indexed/ENSG00000221978.11__chr1:1388065:1388626:clu_38489:ENSG00000221978.11__GTEx_Pancreas_sGene__1:1386482.bed.gz | ENSG00000221978 |\n",
       "\n"
      ],
      "text/plain": [
       "  V9                 V4         \n",
       "1 ENSG00000188976.10 rs111463901\n",
       "2 ENSG00000188157.14 rs551305078\n",
       "3 ENSG00000215790.6  rs11260600 \n",
       "4 ENSG00000078808.16 rs60252802 \n",
       "5 ENSG00000169972.11 rs115316182\n",
       "6 ENSG00000221978.11 rs307377   \n",
       "  V19                                              \n",
       "1 chr1:946545:948131:clu_38413:ENSG00000188976.10  \n",
       "2 chr1:1054551:1054824:clu_38443:ENSG00000188157.14\n",
       "3 chr1:1722831:1723800:clu_38554:ENSG00000215790.6 \n",
       "4 chr1:1228946:1231892:clu_38455:ENSG00000078808.16\n",
       "5 chr1:1310688:1310909:clu_38477:ENSG00000169972.11\n",
       "6 chr1:1388065:1388626:clu_38489:ENSG00000221978.11\n",
       "  eqtl_input                                                                                                                                                                                                            \n",
       "1 /nfs/turbo/umms-scjp-pank/vthihong/colocGWAS_T1D/3_t1d-eQTL_GTEx-coloc/results/GTEx_EUR_sQTL/gtex_indexed/ENSG00000188976.10__chr1:946545:948131:clu_38413:ENSG00000188976.10__GTEx_Pancreas_sGene__1:944582.bed.gz   \n",
       "2 /nfs/turbo/umms-scjp-pank/vthihong/colocGWAS_T1D/3_t1d-eQTL_GTEx-coloc/results/GTEx_EUR_sQTL/gtex_indexed/ENSG00000188157.14__chr1:1054551:1054824:clu_38443:ENSG00000188157.14__GTEx_Pancreas_sGene__1:1020123.bed.gz\n",
       "3 /nfs/turbo/umms-scjp-pank/vthihong/colocGWAS_T1D/3_t1d-eQTL_GTEx-coloc/results/GTEx_EUR_sQTL/gtex_indexed/ENSG00000215790.6__chr1:1722831:1723800:clu_38554:ENSG00000215790.6__GTEx_Pancreas_sGene__1:1724838.bed.gz  \n",
       "4 /nfs/turbo/umms-scjp-pank/vthihong/colocGWAS_T1D/3_t1d-eQTL_GTEx-coloc/results/GTEx_EUR_sQTL/gtex_indexed/ENSG00000078808.16__chr1:1228946:1231892:clu_38455:ENSG00000078808.16__GTEx_Pancreas_sGene__1:1216908.bed.gz\n",
       "5 /nfs/turbo/umms-scjp-pank/vthihong/colocGWAS_T1D/3_t1d-eQTL_GTEx-coloc/results/GTEx_EUR_sQTL/gtex_indexed/ENSG00000169972.11__chr1:1310688:1310909:clu_38477:ENSG00000169972.11__GTEx_Pancreas_sGene__1:1308567.bed.gz\n",
       "6 /nfs/turbo/umms-scjp-pank/vthihong/colocGWAS_T1D/3_t1d-eQTL_GTEx-coloc/results/GTEx_EUR_sQTL/gtex_indexed/ENSG00000221978.11__chr1:1388065:1388626:clu_38489:ENSG00000221978.11__GTEx_Pancreas_sGene__1:1386482.bed.gz\n",
       "  gene_id        \n",
       "1 ENSG00000188976\n",
       "2 ENSG00000188157\n",
       "3 ENSG00000215790\n",
       "4 ENSG00000078808\n",
       "5 ENSG00000169972\n",
       "6 ENSG00000221978"
      ]
     },
     "metadata": {},
     "output_type": "display_data"
    }
   ],
   "source": [
    "files <- list.files(\"/nfs/turbo/umms-scjp-pank/vthihong/colocGWAS_T1D/3_t1d-eQTL_GTEx-coloc/results/GTEx_EUR_sQTL/gtex_indexed/\", pattern = \"gz\")\n",
    "files <- files[grep(\"tbi\", files, invert = T)]\n",
    "file_df <- data.frame(eqtl_input = files)\n",
    "file_df$gene <- unlist(lapply(strsplit(file_df$eqtl_input, '__'), '[', 1))\n",
    "file_df$clu <- unlist(lapply(strsplit(file_df$eqtl_input, '__'), '[', 2))\n",
    "df38 <- inner_join(df38, file_df, by = c(\"V9\" = \"gene\", \"V19\" = \"clu\"))\n",
    "df38$eqtl_input <- paste0(\"/nfs/turbo/umms-scjp-pank/vthihong/colocGWAS_T1D/3_t1d-eQTL_GTEx-coloc/results/GTEx_EUR_sQTL/gtex_indexed/\",\n",
    "                          df38$eqtl_input)\n",
    "df38$gene_id <- unlist(lapply(strsplit(df38$V9, '\\\\.'), '[', 1))\n",
    "head(df38)"
   ]
  },
  {
   "cell_type": "code",
   "execution_count": 3,
   "id": "071a8af2",
   "metadata": {},
   "outputs": [
    {
     "data": {
      "text/html": [
       "<table class=\"dataframe\">\n",
       "<caption>A data.frame: 6 × 6</caption>\n",
       "<thead>\n",
       "\t<tr><th></th><th scope=col>chr</th><th scope=col>start</th><th scope=col>end</th><th scope=col>locus</th><th scope=col>gene_id</th><th scope=col>eqtl_input</th></tr>\n",
       "\t<tr><th></th><th scope=col>&lt;chr&gt;</th><th scope=col>&lt;int&gt;</th><th scope=col>&lt;int&gt;</th><th scope=col>&lt;chr&gt;</th><th scope=col>&lt;chr&gt;</th><th scope=col>&lt;chr&gt;</th></tr>\n",
       "</thead>\n",
       "<tbody>\n",
       "\t<tr><th scope=row>1</th><td>chr1</td><td> 959309</td><td> 959310</td><td>NOC2L__rs111463901__chr1:946545:948131:clu_38413:ENSG00000188976.10__P  </td><td>ENSG00000188976</td><td>/nfs/turbo/umms-scjp-pank/vthihong/colocGWAS_T1D/3_t1d-eQTL_GTEx-coloc/results/GTEx_EUR_sQTL/gtex_indexed/ENSG00000188976.10__chr1:946545:948131:clu_38413:ENSG00000188976.10__GTEx_Pancreas_sGene__1:944582.bed.gz   </td></tr>\n",
       "\t<tr><th scope=row>2</th><td>chr1</td><td>1020123</td><td>1020124</td><td>AGRN__rs551305078__chr1:1054551:1054824:clu_38443:ENSG00000188157.14__P </td><td>ENSG00000188157</td><td>/nfs/turbo/umms-scjp-pank/vthihong/colocGWAS_T1D/3_t1d-eQTL_GTEx-coloc/results/GTEx_EUR_sQTL/gtex_indexed/ENSG00000188157.14__chr1:1054551:1054824:clu_38443:ENSG00000188157.14__GTEx_Pancreas_sGene__1:1020123.bed.gz</td></tr>\n",
       "\t<tr><th scope=row>3</th><td>chr1</td><td>1745992</td><td>1745993</td><td>SLC35E2__rs11260600__chr1:1722831:1723800:clu_38554:ENSG00000215790.6__P</td><td>ENSG00000215790</td><td>/nfs/turbo/umms-scjp-pank/vthihong/colocGWAS_T1D/3_t1d-eQTL_GTEx-coloc/results/GTEx_EUR_sQTL/gtex_indexed/ENSG00000215790.6__chr1:1722831:1723800:clu_38554:ENSG00000215790.6__GTEx_Pancreas_sGene__1:1724838.bed.gz  </td></tr>\n",
       "\t<tr><th scope=row>4</th><td>chr1</td><td>1232031</td><td>1232032</td><td>SDF4__rs60252802__chr1:1228946:1231892:clu_38455:ENSG00000078808.16__P  </td><td>ENSG00000078808</td><td>/nfs/turbo/umms-scjp-pank/vthihong/colocGWAS_T1D/3_t1d-eQTL_GTEx-coloc/results/GTEx_EUR_sQTL/gtex_indexed/ENSG00000078808.16__chr1:1228946:1231892:clu_38455:ENSG00000078808.16__GTEx_Pancreas_sGene__1:1216908.bed.gz</td></tr>\n",
       "\t<tr><th scope=row>5</th><td>chr1</td><td>1308567</td><td>1308568</td><td>PUSL1__rs115316182__chr1:1310688:1310909:clu_38477:ENSG00000169972.11__P</td><td>ENSG00000169972</td><td>/nfs/turbo/umms-scjp-pank/vthihong/colocGWAS_T1D/3_t1d-eQTL_GTEx-coloc/results/GTEx_EUR_sQTL/gtex_indexed/ENSG00000169972.11__chr1:1310688:1310909:clu_38477:ENSG00000169972.11__GTEx_Pancreas_sGene__1:1308567.bed.gz</td></tr>\n",
       "\t<tr><th scope=row>6</th><td>chr1</td><td>1399328</td><td>1399329</td><td>CCNL2__rs307377__chr1:1388065:1388626:clu_38489:ENSG00000221978.11__P   </td><td>ENSG00000221978</td><td>/nfs/turbo/umms-scjp-pank/vthihong/colocGWAS_T1D/3_t1d-eQTL_GTEx-coloc/results/GTEx_EUR_sQTL/gtex_indexed/ENSG00000221978.11__chr1:1388065:1388626:clu_38489:ENSG00000221978.11__GTEx_Pancreas_sGene__1:1386482.bed.gz</td></tr>\n",
       "</tbody>\n",
       "</table>\n"
      ],
      "text/latex": [
       "A data.frame: 6 × 6\n",
       "\\begin{tabular}{r|llllll}\n",
       "  & chr & start & end & locus & gene\\_id & eqtl\\_input\\\\\n",
       "  & <chr> & <int> & <int> & <chr> & <chr> & <chr>\\\\\n",
       "\\hline\n",
       "\t1 & chr1 &  959309 &  959310 & NOC2L\\_\\_rs111463901\\_\\_chr1:946545:948131:clu\\_38413:ENSG00000188976.10\\_\\_P   & ENSG00000188976 & /nfs/turbo/umms-scjp-pank/vthihong/colocGWAS\\_T1D/3\\_t1d-eQTL\\_GTEx-coloc/results/GTEx\\_EUR\\_sQTL/gtex\\_indexed/ENSG00000188976.10\\_\\_chr1:946545:948131:clu\\_38413:ENSG00000188976.10\\_\\_GTEx\\_Pancreas\\_sGene\\_\\_1:944582.bed.gz   \\\\\n",
       "\t2 & chr1 & 1020123 & 1020124 & AGRN\\_\\_rs551305078\\_\\_chr1:1054551:1054824:clu\\_38443:ENSG00000188157.14\\_\\_P  & ENSG00000188157 & /nfs/turbo/umms-scjp-pank/vthihong/colocGWAS\\_T1D/3\\_t1d-eQTL\\_GTEx-coloc/results/GTEx\\_EUR\\_sQTL/gtex\\_indexed/ENSG00000188157.14\\_\\_chr1:1054551:1054824:clu\\_38443:ENSG00000188157.14\\_\\_GTEx\\_Pancreas\\_sGene\\_\\_1:1020123.bed.gz\\\\\n",
       "\t3 & chr1 & 1745992 & 1745993 & SLC35E2\\_\\_rs11260600\\_\\_chr1:1722831:1723800:clu\\_38554:ENSG00000215790.6\\_\\_P & ENSG00000215790 & /nfs/turbo/umms-scjp-pank/vthihong/colocGWAS\\_T1D/3\\_t1d-eQTL\\_GTEx-coloc/results/GTEx\\_EUR\\_sQTL/gtex\\_indexed/ENSG00000215790.6\\_\\_chr1:1722831:1723800:clu\\_38554:ENSG00000215790.6\\_\\_GTEx\\_Pancreas\\_sGene\\_\\_1:1724838.bed.gz  \\\\\n",
       "\t4 & chr1 & 1232031 & 1232032 & SDF4\\_\\_rs60252802\\_\\_chr1:1228946:1231892:clu\\_38455:ENSG00000078808.16\\_\\_P   & ENSG00000078808 & /nfs/turbo/umms-scjp-pank/vthihong/colocGWAS\\_T1D/3\\_t1d-eQTL\\_GTEx-coloc/results/GTEx\\_EUR\\_sQTL/gtex\\_indexed/ENSG00000078808.16\\_\\_chr1:1228946:1231892:clu\\_38455:ENSG00000078808.16\\_\\_GTEx\\_Pancreas\\_sGene\\_\\_1:1216908.bed.gz\\\\\n",
       "\t5 & chr1 & 1308567 & 1308568 & PUSL1\\_\\_rs115316182\\_\\_chr1:1310688:1310909:clu\\_38477:ENSG00000169972.11\\_\\_P & ENSG00000169972 & /nfs/turbo/umms-scjp-pank/vthihong/colocGWAS\\_T1D/3\\_t1d-eQTL\\_GTEx-coloc/results/GTEx\\_EUR\\_sQTL/gtex\\_indexed/ENSG00000169972.11\\_\\_chr1:1310688:1310909:clu\\_38477:ENSG00000169972.11\\_\\_GTEx\\_Pancreas\\_sGene\\_\\_1:1308567.bed.gz\\\\\n",
       "\t6 & chr1 & 1399328 & 1399329 & CCNL2\\_\\_rs307377\\_\\_chr1:1388065:1388626:clu\\_38489:ENSG00000221978.11\\_\\_P    & ENSG00000221978 & /nfs/turbo/umms-scjp-pank/vthihong/colocGWAS\\_T1D/3\\_t1d-eQTL\\_GTEx-coloc/results/GTEx\\_EUR\\_sQTL/gtex\\_indexed/ENSG00000221978.11\\_\\_chr1:1388065:1388626:clu\\_38489:ENSG00000221978.11\\_\\_GTEx\\_Pancreas\\_sGene\\_\\_1:1386482.bed.gz\\\\\n",
       "\\end{tabular}\n"
      ],
      "text/markdown": [
       "\n",
       "A data.frame: 6 × 6\n",
       "\n",
       "| <!--/--> | chr &lt;chr&gt; | start &lt;int&gt; | end &lt;int&gt; | locus &lt;chr&gt; | gene_id &lt;chr&gt; | eqtl_input &lt;chr&gt; |\n",
       "|---|---|---|---|---|---|---|\n",
       "| 1 | chr1 |  959309 |  959310 | NOC2L__rs111463901__chr1:946545:948131:clu_38413:ENSG00000188976.10__P   | ENSG00000188976 | /nfs/turbo/umms-scjp-pank/vthihong/colocGWAS_T1D/3_t1d-eQTL_GTEx-coloc/results/GTEx_EUR_sQTL/gtex_indexed/ENSG00000188976.10__chr1:946545:948131:clu_38413:ENSG00000188976.10__GTEx_Pancreas_sGene__1:944582.bed.gz    |\n",
       "| 2 | chr1 | 1020123 | 1020124 | AGRN__rs551305078__chr1:1054551:1054824:clu_38443:ENSG00000188157.14__P  | ENSG00000188157 | /nfs/turbo/umms-scjp-pank/vthihong/colocGWAS_T1D/3_t1d-eQTL_GTEx-coloc/results/GTEx_EUR_sQTL/gtex_indexed/ENSG00000188157.14__chr1:1054551:1054824:clu_38443:ENSG00000188157.14__GTEx_Pancreas_sGene__1:1020123.bed.gz |\n",
       "| 3 | chr1 | 1745992 | 1745993 | SLC35E2__rs11260600__chr1:1722831:1723800:clu_38554:ENSG00000215790.6__P | ENSG00000215790 | /nfs/turbo/umms-scjp-pank/vthihong/colocGWAS_T1D/3_t1d-eQTL_GTEx-coloc/results/GTEx_EUR_sQTL/gtex_indexed/ENSG00000215790.6__chr1:1722831:1723800:clu_38554:ENSG00000215790.6__GTEx_Pancreas_sGene__1:1724838.bed.gz   |\n",
       "| 4 | chr1 | 1232031 | 1232032 | SDF4__rs60252802__chr1:1228946:1231892:clu_38455:ENSG00000078808.16__P   | ENSG00000078808 | /nfs/turbo/umms-scjp-pank/vthihong/colocGWAS_T1D/3_t1d-eQTL_GTEx-coloc/results/GTEx_EUR_sQTL/gtex_indexed/ENSG00000078808.16__chr1:1228946:1231892:clu_38455:ENSG00000078808.16__GTEx_Pancreas_sGene__1:1216908.bed.gz |\n",
       "| 5 | chr1 | 1308567 | 1308568 | PUSL1__rs115316182__chr1:1310688:1310909:clu_38477:ENSG00000169972.11__P | ENSG00000169972 | /nfs/turbo/umms-scjp-pank/vthihong/colocGWAS_T1D/3_t1d-eQTL_GTEx-coloc/results/GTEx_EUR_sQTL/gtex_indexed/ENSG00000169972.11__chr1:1310688:1310909:clu_38477:ENSG00000169972.11__GTEx_Pancreas_sGene__1:1308567.bed.gz |\n",
       "| 6 | chr1 | 1399328 | 1399329 | CCNL2__rs307377__chr1:1388065:1388626:clu_38489:ENSG00000221978.11__P    | ENSG00000221978 | /nfs/turbo/umms-scjp-pank/vthihong/colocGWAS_T1D/3_t1d-eQTL_GTEx-coloc/results/GTEx_EUR_sQTL/gtex_indexed/ENSG00000221978.11__chr1:1388065:1388626:clu_38489:ENSG00000221978.11__GTEx_Pancreas_sGene__1:1386482.bed.gz |\n",
       "\n"
      ],
      "text/plain": [
       "  chr  start   end    \n",
       "1 chr1  959309  959310\n",
       "2 chr1 1020123 1020124\n",
       "3 chr1 1745992 1745993\n",
       "4 chr1 1232031 1232032\n",
       "5 chr1 1308567 1308568\n",
       "6 chr1 1399328 1399329\n",
       "  locus                                                                   \n",
       "1 NOC2L__rs111463901__chr1:946545:948131:clu_38413:ENSG00000188976.10__P  \n",
       "2 AGRN__rs551305078__chr1:1054551:1054824:clu_38443:ENSG00000188157.14__P \n",
       "3 SLC35E2__rs11260600__chr1:1722831:1723800:clu_38554:ENSG00000215790.6__P\n",
       "4 SDF4__rs60252802__chr1:1228946:1231892:clu_38455:ENSG00000078808.16__P  \n",
       "5 PUSL1__rs115316182__chr1:1310688:1310909:clu_38477:ENSG00000169972.11__P\n",
       "6 CCNL2__rs307377__chr1:1388065:1388626:clu_38489:ENSG00000221978.11__P   \n",
       "  gene_id        \n",
       "1 ENSG00000188976\n",
       "2 ENSG00000188157\n",
       "3 ENSG00000215790\n",
       "4 ENSG00000078808\n",
       "5 ENSG00000169972\n",
       "6 ENSG00000221978\n",
       "  eqtl_input                                                                                                                                                                                                            \n",
       "1 /nfs/turbo/umms-scjp-pank/vthihong/colocGWAS_T1D/3_t1d-eQTL_GTEx-coloc/results/GTEx_EUR_sQTL/gtex_indexed/ENSG00000188976.10__chr1:946545:948131:clu_38413:ENSG00000188976.10__GTEx_Pancreas_sGene__1:944582.bed.gz   \n",
       "2 /nfs/turbo/umms-scjp-pank/vthihong/colocGWAS_T1D/3_t1d-eQTL_GTEx-coloc/results/GTEx_EUR_sQTL/gtex_indexed/ENSG00000188157.14__chr1:1054551:1054824:clu_38443:ENSG00000188157.14__GTEx_Pancreas_sGene__1:1020123.bed.gz\n",
       "3 /nfs/turbo/umms-scjp-pank/vthihong/colocGWAS_T1D/3_t1d-eQTL_GTEx-coloc/results/GTEx_EUR_sQTL/gtex_indexed/ENSG00000215790.6__chr1:1722831:1723800:clu_38554:ENSG00000215790.6__GTEx_Pancreas_sGene__1:1724838.bed.gz  \n",
       "4 /nfs/turbo/umms-scjp-pank/vthihong/colocGWAS_T1D/3_t1d-eQTL_GTEx-coloc/results/GTEx_EUR_sQTL/gtex_indexed/ENSG00000078808.16__chr1:1228946:1231892:clu_38455:ENSG00000078808.16__GTEx_Pancreas_sGene__1:1216908.bed.gz\n",
       "5 /nfs/turbo/umms-scjp-pank/vthihong/colocGWAS_T1D/3_t1d-eQTL_GTEx-coloc/results/GTEx_EUR_sQTL/gtex_indexed/ENSG00000169972.11__chr1:1310688:1310909:clu_38477:ENSG00000169972.11__GTEx_Pancreas_sGene__1:1308567.bed.gz\n",
       "6 /nfs/turbo/umms-scjp-pank/vthihong/colocGWAS_T1D/3_t1d-eQTL_GTEx-coloc/results/GTEx_EUR_sQTL/gtex_indexed/ENSG00000221978.11__chr1:1388065:1388626:clu_38489:ENSG00000221978.11__GTEx_Pancreas_sGene__1:1386482.bed.gz"
      ]
     },
     "metadata": {},
     "output_type": "display_data"
    }
   ],
   "source": [
    "tss <- read.table(\"/scratch/scjp_root/scjp99/vthihong/genome/geneTSS.bed\", header = F)\n",
    "df38 <- inner_join(df38, tss[, c(1, 2, 3, 4, 6)], by = c(\"gene_id\" = \"V6\"))\n",
    "df38$locus <- paste0(df38$V4.y, \"__\", df38$V4.x, \"__\", df38$V19, \"__P\")\n",
    "df <- df38[, c(\"V1\", \"V2\", \"V3\", \"locus\", \"gene_id\", \"eqtl_input\")]\n",
    "colnames(df) <- c(\"chr\", \"start\", \"end\", \"locus\", \"gene_id\", \"eqtl_input\")\n",
    "head(df)\n",
    "write.table(df, row.names = F, sep = \"\\t\", quote = F,\n",
    "            \"/nfs/turbo/umms-scjp-pank/vthihong/colocGWAS_T1D/1_sQTL-gtex-susie/data/gene_sQTLs-selected.tsv\")"
   ]
  },
  {
   "cell_type": "markdown",
   "id": "c005a277",
   "metadata": {},
   "source": [
    "Save the `df` object in a file named `gene_sQTLs-selected.tsv`"
   ]
  },
  {
   "cell_type": "markdown",
   "id": "9ddea941",
   "metadata": {},
   "source": [
    "## Step 3: Set up scripts for every eGene of interest"
   ]
  },
  {
   "cell_type": "markdown",
   "id": "193ca363",
   "metadata": {},
   "source": [
    "First, we need to set up a config file with some house-keeping information such as directory of files and parameters. See example in `config.yaml`. The file `gene_sQTLs-selected.tsv` is used for `trait1-leads` and `selected-stats`. Then, we can use `scripts/make_susie-sh.py` script to create a SLURM job per region of interest."
   ]
  },
  {
   "cell_type": "markdown",
   "id": "b02e6bcd",
   "metadata": {},
   "source": [
    "Important note: the script `scripts/make_susie-sh.py` requires two other scripts that should be specified in the config file, namely:\n",
    "```\n",
    "prep-template: \"{base}/scripts/dosage-template.sh\"\n",
    "susie-template: \"{base}/scripts/susie-template.sh\"\n",
    "```\n",
    "\n",
    "```\n",
    "cd /scratch/scjp_root/scjp99/vthihong/2_PanKBase/colocGWAS_T1D/1_sQTL-gtex-susie/results/susie-region\n",
    "\n",
    "python /scratch/scjp_root/scjp99/vthihong/2_PanKBase/colocGWAS_T1D/1_sQTL-gtex-susie/scripts/make_susie-sh.py --config /scratch/scjp_root/scjp99/vthihong/2_PanKBase/colocGWAS_T1D/1_sQTL-gtex-susie/scripts/config.yaml\n",
    "```"
   ]
  },
  {
   "cell_type": "markdown",
   "id": "55448236",
   "metadata": {},
   "source": [
    "At this point, we have a series of individual scripts for each region, with names in the format `gene_eQTLs__<locus name, no other special characters like ;() etc>__<lead snp rsid>__<primary P or secondary S>__<region>__<window>.susieprep.sh` and `gene_eQTLs___<locus name, no other special characters like ;() etc>__<lead snp rsid>__<primary P or secondary S>__<region>__<window>.susie.sh`. The `*susieprep.sh` is necessary to fetch information such as variants and dosages. The `*susie.sh` is to run the fine-mapping analysis."
   ]
  },
  {
   "cell_type": "markdown",
   "id": "a0693801",
   "metadata": {},
   "source": [
    "Example of a `susieprep.sh` file is as the following:\n",
    "```\n",
    "cat gene_sQTLs__CFTR__rs2402203__chr7:117542108:117559464:clu_25847:ENSG00000001626.14__P__chr7-117215784-117715785__250kb.susieprep.sh\n",
    "\n",
    "#!/bin/bash\n",
    "\n",
    "## fetch variants in the region and intersect UKBB and FUSION vcfs\n",
    "for i in /scratch/scjp_root/scjp99/vthihong/2_PanKBase/colocGWAS_T1D/0_data/hg38/chr7.imputed.poly.vcf.gz; do tabix $i chr7:117215784-117715785 | awk '{if (($0 !~ /^#/ && $0 !~ /^chr/)) print \"chr\"$0; else print $0}' ; done | sort | uniq > gene_sQTLs__CFTR__rs2402203__chr7:117542108:117559464:clu_25847:ENSG00000001626.14__P__chr7-117215784-117715785__250kb.ukbb.genotypes\n",
    "zcat /scratch/scjp_root/scjp99/vthihong/2_PanKBase/colocGWAS_T1D/0_data/hg38/chr7.imputed.poly.vcf.gz | head -10000 | awk '{if (($0 ~ /^#/)) print $0}' > gene_sQTLs__CFTR__rs2402203__chr7:117542108:117559464:clu_25847:ENSG00000001626.14__P__chr7-117215784-117715785__250kb.ukbb.header\n",
    "cat gene_sQTLs__CFTR__rs2402203__chr7:117542108:117559464:clu_25847:ENSG00000001626.14__P__chr7-117215784-117715785__250kb.ukbb.header gene_sQTLs__CFTR__rs2402203__chr7:117542108:117559464:clu_25847:ENSG00000001626.14__P__chr7-117215784-117715785__250kb.ukbb.genotypes | bgzip -c > gene_sQTLs__CFTR__rs2402203__chr7:117542108:117559464:clu_25847:ENSG00000001626.14__P__chr7-117215784-117715785__250kb.ukbb.vcf.gz; tabix gene_sQTLs__CFTR__rs2402203__chr7:117542108:117559464:clu_25847:ENSG00000001626.14__P__chr7-117215784-117715785__250kb.ukbb.vcf.gz\n",
    "rm gene_sQTLs__CFTR__rs2402203__chr7:117542108:117559464:clu_25847:ENSG00000001626.14__P__chr7-117215784-117715785__250kb.ukbb.genotypes gene_sQTLs__CFTR__rs2402203__chr7:117542108:117559464:clu_25847:ENSG00000001626.14__P__chr7-117215784-117715785__250kb.ukbb.header\n",
    "\n",
    "## fetch UKBB dosages \n",
    "zcat gene_sQTLs__CFTR__rs2402203__chr7:117542108:117559464:clu_25847:ENSG00000001626.14__P__chr7-117215784-117715785__250kb.ukbb.vcf.gz | head -10000 | awk -F'\\t' '{if (($0 ~/^#CHROM/)) print $0}' OFS='\\t' | sed -e 's:#CHROM\\tPOS\\tID\\tREF\\tALT\\tQUAL\\tFILTER\\tINFO\\tFORMAT:ID:g' > gene_sQTLs__CFTR__rs2402203__chr7:117542108:117559464:clu_25847:ENSG00000001626.14__P__chr7-117215784-117715785__250kb.ukbb-header.txt \n",
    "bcftools query -f \"%ID-%REF-%ALT[\\t%DS]\\n\" gene_sQTLs__CFTR__rs2402203__chr7:117542108:117559464:clu_25847:ENSG00000001626.14__P__chr7-117215784-117715785__250kb.ukbb.vcf.gz | cat gene_sQTLs__CFTR__rs2402203__chr7:117542108:117559464:clu_25847:ENSG00000001626.14__P__chr7-117215784-117715785__250kb.ukbb-header.txt - > gene_sQTLs__CFTR__rs2402203__chr7:117542108:117559464:clu_25847:ENSG00000001626.14__P__chr7-117215784-117715785__250kb.ukbb-dosages.tsv \n",
    "\n",
    "## bgzip to save space\n",
    "module load Bioinformatics\n",
    "module load Bioinformatics  gcc/10.3.0-k2osx5y\n",
    "module load samtools/1.13-fwwss5n\n",
    "\n",
    "bgzip -@ 2 gene_sQTLs__CFTR__rs2402203__chr7:117542108:117559464:clu_25847:ENSG00000001626.14__P__chr7-117215784-117715785__250kb.ukbb-dosages.tsv\n",
    "\n",
    "## cleanup\n",
    "rm -rf gene_sQTLs__CFTR__rs2402203__chr7:117542108:117559464:clu_25847:ENSG00000001626.14__P__chr7-117215784-117715785__250kb.ukbb-header.txt gene_sQTLs__CFTR__rs2402203__chr7:117542108:117559464:clu_25847:ENSG00000001626.14__P__chr7-117215784-117715785__250kb.ukbb.vcf.gz*\n",
    "```"
   ]
  },
  {
   "cell_type": "markdown",
   "id": "4a2c4b03",
   "metadata": {},
   "source": [
    "Example of a `susie.sh` file is as the following:\n",
    "```\n",
    "cat gene_sQTLs__CFTR__rs2402203__chr7:117542108:117559464:clu_25847:ENSG00000001626.14__P__chr7-117215784-117715785__250kb.susie.sh\n",
    "\n",
    "#!/bin/bash\n",
    "\n",
    "################## running SuSiE for  gene_sQTLs__CFTR__rs2402203__chr7:117542108:117559464:clu_25847:ENSG00000001626.14__P__chr7-117215784-117715785__250kb:\n",
    "\n",
    "## Susie \n",
    "/scratch/scjp_root/scjp99/vthihong/2_PanKBase/colocGWAS_T1D/1_sQTL-gtex-susie/scripts/susie-eqtl.R --prefix gene_sQTLs__CFTR__rs2402203__chr7:117542108:117559464:clu_25847:ENSG00000001626.14__P__chr7-117215784-117715785__250kb --type quant --beta slope --p pval_nominal --se slope_se --effect ALT --non_effect REF --sdY 1 --coverage 0.95 --maxit 10000 --min_abs_corr 0.1 --s_threshold 0.3 --number_signals_default 10 --number_signals_high_s 1 --marker rs2402203 --trait1 /scratch/scjp_root/scjp99/vthihong/2_PanKBase/colocGWAS_T1D/3_t1d-eQTL_GTEx-coloc/results/GTEx_EUR_sQTL/gtex_indexed/ENSG00000001626.14__chr7:117542108:117559464:clu_25847:ENSG00000001626.14__GTEx_Pancreas_sGene__7:117465784.bed.gz --trait1_ld gene_sQTLs__CFTR__rs2402203__chr7:117542108:117559464:clu_25847:ENSG00000001626.14__P__chr7-117215784-117715785__250kb.ukbb-dosages.tsv.gz \n",
    "```"
   ]
  },
  {
   "cell_type": "markdown",
   "id": "ab2b1dac",
   "metadata": {},
   "source": [
    "## Step 4: Conduct fine-mapping analysis for all regions of interest"
   ]
  },
  {
   "cell_type": "markdown",
   "id": "495f180f",
   "metadata": {},
   "source": [
    "After we set up analysis scripts for each eGene, we can run the analysis for every eGene using Snakemake. See example of a Snakemake file at `scripts/susie.sf`."
   ]
  },
  {
   "cell_type": "markdown",
   "id": "a9a5388e",
   "metadata": {},
   "source": [
    "Signals of each eGene by default will be saved in a R object names `*.susie.Rda`."
   ]
  },
  {
   "cell_type": "markdown",
   "id": "30bf000c",
   "metadata": {},
   "source": [
    "## Step 5: Obtain output files for PanKgraph"
   ]
  },
  {
   "cell_type": "markdown",
   "id": "227f74c2",
   "metadata": {},
   "source": [
    "For the purpose of PanKgraph, we will extract some outputs into text files. Example of code is the following:"
   ]
  },
  {
   "cell_type": "code",
   "execution_count": 4,
   "id": "a8f65afa",
   "metadata": {},
   "outputs": [],
   "source": [
    "library(glue)\n",
    "library(tidyr)\n",
    "suppressPackageStartupMessages(library(dplyr))"
   ]
  },
  {
   "cell_type": "code",
   "execution_count": 5,
   "id": "443c3bde",
   "metadata": {},
   "outputs": [
    {
     "data": {
      "text/html": [
       "<table class=\"dataframe\">\n",
       "<caption>A data.frame: 6 × 6</caption>\n",
       "<thead>\n",
       "\t<tr><th></th><th scope=col>chr</th><th scope=col>start</th><th scope=col>end</th><th scope=col>locus</th><th scope=col>gene_id</th><th scope=col>eqtl_input</th></tr>\n",
       "\t<tr><th></th><th scope=col>&lt;chr&gt;</th><th scope=col>&lt;int&gt;</th><th scope=col>&lt;int&gt;</th><th scope=col>&lt;chr&gt;</th><th scope=col>&lt;chr&gt;</th><th scope=col>&lt;chr&gt;</th></tr>\n",
       "</thead>\n",
       "<tbody>\n",
       "\t<tr><th scope=row>1</th><td>chr1</td><td> 959309</td><td> 959310</td><td>NOC2L__rs111463901__chr1:946545:948131:clu_38413:ENSG00000188976.10__P  </td><td>ENSG00000188976</td><td>/nfs/turbo/umms-scjp-pank/vthihong/colocGWAS_T1D/3_t1d-eQTL_GTEx-coloc/results/GTEx_EUR_sQTL/gtex_indexed/ENSG00000188976.10__chr1:946545:948131:clu_38413:ENSG00000188976.10__GTEx_Pancreas_sGene__1:944582.bed.gz   </td></tr>\n",
       "\t<tr><th scope=row>2</th><td>chr1</td><td>1020123</td><td>1020124</td><td>AGRN__rs551305078__chr1:1054551:1054824:clu_38443:ENSG00000188157.14__P </td><td>ENSG00000188157</td><td>/nfs/turbo/umms-scjp-pank/vthihong/colocGWAS_T1D/3_t1d-eQTL_GTEx-coloc/results/GTEx_EUR_sQTL/gtex_indexed/ENSG00000188157.14__chr1:1054551:1054824:clu_38443:ENSG00000188157.14__GTEx_Pancreas_sGene__1:1020123.bed.gz</td></tr>\n",
       "\t<tr><th scope=row>3</th><td>chr1</td><td>1745992</td><td>1745993</td><td>SLC35E2__rs11260600__chr1:1722831:1723800:clu_38554:ENSG00000215790.6__P</td><td>ENSG00000215790</td><td>/nfs/turbo/umms-scjp-pank/vthihong/colocGWAS_T1D/3_t1d-eQTL_GTEx-coloc/results/GTEx_EUR_sQTL/gtex_indexed/ENSG00000215790.6__chr1:1722831:1723800:clu_38554:ENSG00000215790.6__GTEx_Pancreas_sGene__1:1724838.bed.gz  </td></tr>\n",
       "\t<tr><th scope=row>4</th><td>chr1</td><td>1232031</td><td>1232032</td><td>SDF4__rs60252802__chr1:1228946:1231892:clu_38455:ENSG00000078808.16__P  </td><td>ENSG00000078808</td><td>/nfs/turbo/umms-scjp-pank/vthihong/colocGWAS_T1D/3_t1d-eQTL_GTEx-coloc/results/GTEx_EUR_sQTL/gtex_indexed/ENSG00000078808.16__chr1:1228946:1231892:clu_38455:ENSG00000078808.16__GTEx_Pancreas_sGene__1:1216908.bed.gz</td></tr>\n",
       "\t<tr><th scope=row>5</th><td>chr1</td><td>1308567</td><td>1308568</td><td>PUSL1__rs115316182__chr1:1310688:1310909:clu_38477:ENSG00000169972.11__P</td><td>ENSG00000169972</td><td>/nfs/turbo/umms-scjp-pank/vthihong/colocGWAS_T1D/3_t1d-eQTL_GTEx-coloc/results/GTEx_EUR_sQTL/gtex_indexed/ENSG00000169972.11__chr1:1310688:1310909:clu_38477:ENSG00000169972.11__GTEx_Pancreas_sGene__1:1308567.bed.gz</td></tr>\n",
       "\t<tr><th scope=row>6</th><td>chr1</td><td>1399328</td><td>1399329</td><td>CCNL2__rs307377__chr1:1388065:1388626:clu_38489:ENSG00000221978.11__P   </td><td>ENSG00000221978</td><td>/nfs/turbo/umms-scjp-pank/vthihong/colocGWAS_T1D/3_t1d-eQTL_GTEx-coloc/results/GTEx_EUR_sQTL/gtex_indexed/ENSG00000221978.11__chr1:1388065:1388626:clu_38489:ENSG00000221978.11__GTEx_Pancreas_sGene__1:1386482.bed.gz</td></tr>\n",
       "</tbody>\n",
       "</table>\n"
      ],
      "text/latex": [
       "A data.frame: 6 × 6\n",
       "\\begin{tabular}{r|llllll}\n",
       "  & chr & start & end & locus & gene\\_id & eqtl\\_input\\\\\n",
       "  & <chr> & <int> & <int> & <chr> & <chr> & <chr>\\\\\n",
       "\\hline\n",
       "\t1 & chr1 &  959309 &  959310 & NOC2L\\_\\_rs111463901\\_\\_chr1:946545:948131:clu\\_38413:ENSG00000188976.10\\_\\_P   & ENSG00000188976 & /nfs/turbo/umms-scjp-pank/vthihong/colocGWAS\\_T1D/3\\_t1d-eQTL\\_GTEx-coloc/results/GTEx\\_EUR\\_sQTL/gtex\\_indexed/ENSG00000188976.10\\_\\_chr1:946545:948131:clu\\_38413:ENSG00000188976.10\\_\\_GTEx\\_Pancreas\\_sGene\\_\\_1:944582.bed.gz   \\\\\n",
       "\t2 & chr1 & 1020123 & 1020124 & AGRN\\_\\_rs551305078\\_\\_chr1:1054551:1054824:clu\\_38443:ENSG00000188157.14\\_\\_P  & ENSG00000188157 & /nfs/turbo/umms-scjp-pank/vthihong/colocGWAS\\_T1D/3\\_t1d-eQTL\\_GTEx-coloc/results/GTEx\\_EUR\\_sQTL/gtex\\_indexed/ENSG00000188157.14\\_\\_chr1:1054551:1054824:clu\\_38443:ENSG00000188157.14\\_\\_GTEx\\_Pancreas\\_sGene\\_\\_1:1020123.bed.gz\\\\\n",
       "\t3 & chr1 & 1745992 & 1745993 & SLC35E2\\_\\_rs11260600\\_\\_chr1:1722831:1723800:clu\\_38554:ENSG00000215790.6\\_\\_P & ENSG00000215790 & /nfs/turbo/umms-scjp-pank/vthihong/colocGWAS\\_T1D/3\\_t1d-eQTL\\_GTEx-coloc/results/GTEx\\_EUR\\_sQTL/gtex\\_indexed/ENSG00000215790.6\\_\\_chr1:1722831:1723800:clu\\_38554:ENSG00000215790.6\\_\\_GTEx\\_Pancreas\\_sGene\\_\\_1:1724838.bed.gz  \\\\\n",
       "\t4 & chr1 & 1232031 & 1232032 & SDF4\\_\\_rs60252802\\_\\_chr1:1228946:1231892:clu\\_38455:ENSG00000078808.16\\_\\_P   & ENSG00000078808 & /nfs/turbo/umms-scjp-pank/vthihong/colocGWAS\\_T1D/3\\_t1d-eQTL\\_GTEx-coloc/results/GTEx\\_EUR\\_sQTL/gtex\\_indexed/ENSG00000078808.16\\_\\_chr1:1228946:1231892:clu\\_38455:ENSG00000078808.16\\_\\_GTEx\\_Pancreas\\_sGene\\_\\_1:1216908.bed.gz\\\\\n",
       "\t5 & chr1 & 1308567 & 1308568 & PUSL1\\_\\_rs115316182\\_\\_chr1:1310688:1310909:clu\\_38477:ENSG00000169972.11\\_\\_P & ENSG00000169972 & /nfs/turbo/umms-scjp-pank/vthihong/colocGWAS\\_T1D/3\\_t1d-eQTL\\_GTEx-coloc/results/GTEx\\_EUR\\_sQTL/gtex\\_indexed/ENSG00000169972.11\\_\\_chr1:1310688:1310909:clu\\_38477:ENSG00000169972.11\\_\\_GTEx\\_Pancreas\\_sGene\\_\\_1:1308567.bed.gz\\\\\n",
       "\t6 & chr1 & 1399328 & 1399329 & CCNL2\\_\\_rs307377\\_\\_chr1:1388065:1388626:clu\\_38489:ENSG00000221978.11\\_\\_P    & ENSG00000221978 & /nfs/turbo/umms-scjp-pank/vthihong/colocGWAS\\_T1D/3\\_t1d-eQTL\\_GTEx-coloc/results/GTEx\\_EUR\\_sQTL/gtex\\_indexed/ENSG00000221978.11\\_\\_chr1:1388065:1388626:clu\\_38489:ENSG00000221978.11\\_\\_GTEx\\_Pancreas\\_sGene\\_\\_1:1386482.bed.gz\\\\\n",
       "\\end{tabular}\n"
      ],
      "text/markdown": [
       "\n",
       "A data.frame: 6 × 6\n",
       "\n",
       "| <!--/--> | chr &lt;chr&gt; | start &lt;int&gt; | end &lt;int&gt; | locus &lt;chr&gt; | gene_id &lt;chr&gt; | eqtl_input &lt;chr&gt; |\n",
       "|---|---|---|---|---|---|---|\n",
       "| 1 | chr1 |  959309 |  959310 | NOC2L__rs111463901__chr1:946545:948131:clu_38413:ENSG00000188976.10__P   | ENSG00000188976 | /nfs/turbo/umms-scjp-pank/vthihong/colocGWAS_T1D/3_t1d-eQTL_GTEx-coloc/results/GTEx_EUR_sQTL/gtex_indexed/ENSG00000188976.10__chr1:946545:948131:clu_38413:ENSG00000188976.10__GTEx_Pancreas_sGene__1:944582.bed.gz    |\n",
       "| 2 | chr1 | 1020123 | 1020124 | AGRN__rs551305078__chr1:1054551:1054824:clu_38443:ENSG00000188157.14__P  | ENSG00000188157 | /nfs/turbo/umms-scjp-pank/vthihong/colocGWAS_T1D/3_t1d-eQTL_GTEx-coloc/results/GTEx_EUR_sQTL/gtex_indexed/ENSG00000188157.14__chr1:1054551:1054824:clu_38443:ENSG00000188157.14__GTEx_Pancreas_sGene__1:1020123.bed.gz |\n",
       "| 3 | chr1 | 1745992 | 1745993 | SLC35E2__rs11260600__chr1:1722831:1723800:clu_38554:ENSG00000215790.6__P | ENSG00000215790 | /nfs/turbo/umms-scjp-pank/vthihong/colocGWAS_T1D/3_t1d-eQTL_GTEx-coloc/results/GTEx_EUR_sQTL/gtex_indexed/ENSG00000215790.6__chr1:1722831:1723800:clu_38554:ENSG00000215790.6__GTEx_Pancreas_sGene__1:1724838.bed.gz   |\n",
       "| 4 | chr1 | 1232031 | 1232032 | SDF4__rs60252802__chr1:1228946:1231892:clu_38455:ENSG00000078808.16__P   | ENSG00000078808 | /nfs/turbo/umms-scjp-pank/vthihong/colocGWAS_T1D/3_t1d-eQTL_GTEx-coloc/results/GTEx_EUR_sQTL/gtex_indexed/ENSG00000078808.16__chr1:1228946:1231892:clu_38455:ENSG00000078808.16__GTEx_Pancreas_sGene__1:1216908.bed.gz |\n",
       "| 5 | chr1 | 1308567 | 1308568 | PUSL1__rs115316182__chr1:1310688:1310909:clu_38477:ENSG00000169972.11__P | ENSG00000169972 | /nfs/turbo/umms-scjp-pank/vthihong/colocGWAS_T1D/3_t1d-eQTL_GTEx-coloc/results/GTEx_EUR_sQTL/gtex_indexed/ENSG00000169972.11__chr1:1310688:1310909:clu_38477:ENSG00000169972.11__GTEx_Pancreas_sGene__1:1308567.bed.gz |\n",
       "| 6 | chr1 | 1399328 | 1399329 | CCNL2__rs307377__chr1:1388065:1388626:clu_38489:ENSG00000221978.11__P    | ENSG00000221978 | /nfs/turbo/umms-scjp-pank/vthihong/colocGWAS_T1D/3_t1d-eQTL_GTEx-coloc/results/GTEx_EUR_sQTL/gtex_indexed/ENSG00000221978.11__chr1:1388065:1388626:clu_38489:ENSG00000221978.11__GTEx_Pancreas_sGene__1:1386482.bed.gz |\n",
       "\n"
      ],
      "text/plain": [
       "  chr  start   end    \n",
       "1 chr1  959309  959310\n",
       "2 chr1 1020123 1020124\n",
       "3 chr1 1745992 1745993\n",
       "4 chr1 1232031 1232032\n",
       "5 chr1 1308567 1308568\n",
       "6 chr1 1399328 1399329\n",
       "  locus                                                                   \n",
       "1 NOC2L__rs111463901__chr1:946545:948131:clu_38413:ENSG00000188976.10__P  \n",
       "2 AGRN__rs551305078__chr1:1054551:1054824:clu_38443:ENSG00000188157.14__P \n",
       "3 SLC35E2__rs11260600__chr1:1722831:1723800:clu_38554:ENSG00000215790.6__P\n",
       "4 SDF4__rs60252802__chr1:1228946:1231892:clu_38455:ENSG00000078808.16__P  \n",
       "5 PUSL1__rs115316182__chr1:1310688:1310909:clu_38477:ENSG00000169972.11__P\n",
       "6 CCNL2__rs307377__chr1:1388065:1388626:clu_38489:ENSG00000221978.11__P   \n",
       "  gene_id        \n",
       "1 ENSG00000188976\n",
       "2 ENSG00000188157\n",
       "3 ENSG00000215790\n",
       "4 ENSG00000078808\n",
       "5 ENSG00000169972\n",
       "6 ENSG00000221978\n",
       "  eqtl_input                                                                                                                                                                                                            \n",
       "1 /nfs/turbo/umms-scjp-pank/vthihong/colocGWAS_T1D/3_t1d-eQTL_GTEx-coloc/results/GTEx_EUR_sQTL/gtex_indexed/ENSG00000188976.10__chr1:946545:948131:clu_38413:ENSG00000188976.10__GTEx_Pancreas_sGene__1:944582.bed.gz   \n",
       "2 /nfs/turbo/umms-scjp-pank/vthihong/colocGWAS_T1D/3_t1d-eQTL_GTEx-coloc/results/GTEx_EUR_sQTL/gtex_indexed/ENSG00000188157.14__chr1:1054551:1054824:clu_38443:ENSG00000188157.14__GTEx_Pancreas_sGene__1:1020123.bed.gz\n",
       "3 /nfs/turbo/umms-scjp-pank/vthihong/colocGWAS_T1D/3_t1d-eQTL_GTEx-coloc/results/GTEx_EUR_sQTL/gtex_indexed/ENSG00000215790.6__chr1:1722831:1723800:clu_38554:ENSG00000215790.6__GTEx_Pancreas_sGene__1:1724838.bed.gz  \n",
       "4 /nfs/turbo/umms-scjp-pank/vthihong/colocGWAS_T1D/3_t1d-eQTL_GTEx-coloc/results/GTEx_EUR_sQTL/gtex_indexed/ENSG00000078808.16__chr1:1228946:1231892:clu_38455:ENSG00000078808.16__GTEx_Pancreas_sGene__1:1216908.bed.gz\n",
       "5 /nfs/turbo/umms-scjp-pank/vthihong/colocGWAS_T1D/3_t1d-eQTL_GTEx-coloc/results/GTEx_EUR_sQTL/gtex_indexed/ENSG00000169972.11__chr1:1310688:1310909:clu_38477:ENSG00000169972.11__GTEx_Pancreas_sGene__1:1308567.bed.gz\n",
       "6 /nfs/turbo/umms-scjp-pank/vthihong/colocGWAS_T1D/3_t1d-eQTL_GTEx-coloc/results/GTEx_EUR_sQTL/gtex_indexed/ENSG00000221978.11__chr1:1388065:1388626:clu_38489:ENSG00000221978.11__GTEx_Pancreas_sGene__1:1386482.bed.gz"
      ]
     },
     "metadata": {},
     "output_type": "display_data"
    }
   ],
   "source": [
    "process_dosage = function(f, snplist){\n",
    "    ld = read.csv(f, sep='\\t', check.names = F)\n",
    "    dups = ld[ (duplicated(ld$ID) | duplicated(ld$ID, fromLast = TRUE)),]\n",
    "    print(glue(\"N duplicates = {nrow(dups)}\"))\n",
    "    ld = ld[! (duplicated(ld$ID) | duplicated(ld$ID, fromLast = TRUE)),]\n",
    "    row.names(ld) = ld$ID\n",
    "    ld$ID = NULL\n",
    "    idlist = intersect(snplist, row.names(ld))\n",
    "    ld = ld[idlist,]\n",
    "    print(ld[1:5, 1:10])\n",
    "    ld = cor(t(ld))\n",
    "    return(ld)\n",
    "}\n",
    "\n",
    "meta <- read.table(\"/nfs/turbo/umms-scjp-pank/vthihong/colocGWAS_T1D/1_sQTL-gtex-susie/data/gene_sQTLs-selected.tsv\", header = T)\n",
    "meta <- distinct(meta)\n",
    "head(meta)"
   ]
  },
  {
   "cell_type": "code",
   "execution_count": 7,
   "id": "24c48449",
   "metadata": {},
   "outputs": [
    {
     "name": "stderr",
     "output_type": "stream",
     "text": [
      "\u001b[1m\u001b[22mJoining with `by = join_by(snp)`\n"
     ]
    },
    {
     "name": "stdout",
     "output_type": "stream",
     "text": [
      "        pip             snp pval_nominal alt_gtex ref_gtex     slope\n",
      "1 0.5042815    rs177069-A-G  0.000146082        G        A -0.355295\n",
      "2 0.4955759 rs35320372-A-AT  0.000146082       AT        A -0.355295\n",
      "N duplicates = 0\n",
      "                1000251 1000534 1000542 1000766 1000898 1000924 1000961 1001059\n",
      "rs177069-A-G          1       1       1       1       0       1       1       0\n",
      "rs35320372-A-AT       1       1       1       1       0       1       1       0\n",
      "NA                   NA      NA      NA      NA      NA      NA      NA      NA\n",
      "NA.1                 NA      NA      NA      NA      NA      NA      NA      NA\n",
      "NA.2                 NA      NA      NA      NA      NA      NA      NA      NA\n",
      "                1001113 1001172\n",
      "rs177069-A-G          1       0\n",
      "rs35320372-A-AT       1       0\n",
      "NA                   NA      NA\n",
      "NA.1                 NA      NA\n",
      "NA.2                 NA      NA\n",
      "        pip        snp   nominal_p effect_allele other_allele     slope\n",
      "1 0.5042815   rs177069 0.000146082             G            A -0.355295\n",
      "2 0.4955759 rs35320372 0.000146082            AT            A -0.355295\n",
      "       lbf\n",
      "1 86.15186\n",
      "2 86.13444\n",
      "                                                                                                locus\n",
      "1 CFTR__rs2402203__chr7:117542108:117559464:clu_25847:ENSG00000001626.14__P__chr7-117215784-117715785\n",
      "2 CFTR__rs2402203__chr7:117542108:117559464:clu_25847:ENSG00000001626.14__P__chr7-117215784-117715785\n",
      "3 CFTR__rs2402203__chr7:117542108:117559464:clu_25847:ENSG00000001626.14__P__chr7-117215784-117715785\n",
      "     purity  coverage credibleset\n",
      "1 0.9973429 0.9998575           1\n",
      "2 0.9834927 0.9572091           2\n",
      "3 0.9635180 1.0000000           3\n"
     ]
    },
    {
     "name": "stderr",
     "output_type": "stream",
     "text": [
      "\u001b[1m\u001b[22mJoining with `by = join_by(snp)`\n"
     ]
    },
    {
     "name": "stdout",
     "output_type": "stream",
     "text": [
      "         pip            snp pval_nominal alt_gtex ref_gtex      slope\n",
      "1 0.05338450  rs2023708-G-A 0.0006463169        A        G -0.3172549\n",
      "2 0.02907819 rs10264075-G-T 0.0006463169        T        G -0.3172549\n",
      "3 0.02204619  rs6966836-T-C 0.0005624587        C        T -0.3227859\n",
      "4 0.02984861  rs6960356-C-T 0.0005624587        T        C -0.3227859\n",
      "5 0.02777913 rs12534129-T-C 0.0006219257        C        T -0.3249425\n",
      "6 0.02101997 rs10278130-A-G 0.0005349166        G        A -0.3219897\n",
      "N duplicates = 0\n",
      "               1000251 1000534 1000542 1000766 1000898 1000924 1000961 1001059\n",
      "rs2023708-G-A        2       1       1       1       0       1   0.929       1\n",
      "rs10264075-G-T       2       1       1       1       0       1   0.996       1\n",
      "rs6966836-T-C        2       1       1       1       0       1   0.996       1\n",
      "rs6960356-C-T        2       1       1       1       0       1   1.000       1\n",
      "rs12534129-T-C       2       1       1       1       0       1   1.000       1\n",
      "               1001113 1001172\n",
      "rs2023708-G-A        1       0\n",
      "rs10264075-G-T       1       0\n",
      "rs6966836-T-C        1       0\n",
      "rs6960356-C-T        1       0\n",
      "rs12534129-T-C       1       0\n",
      "         pip        snp    nominal_p effect_allele other_allele      slope\n",
      "1 0.05338450  rs2023708 0.0006463169             A            G -0.3172549\n",
      "2 0.02907819 rs10264075 0.0006463169             T            G -0.3172549\n",
      "3 0.02204619  rs6966836 0.0005624587             C            T -0.3227859\n",
      "4 0.02984861  rs6960356 0.0005624587             T            C -0.3227859\n",
      "5 0.02777913 rs12534129 0.0006219257             C            T -0.3249425\n",
      "6 0.02101997 rs10278130 0.0005349166             G            A -0.3219897\n",
      "       lbf\n",
      "1 30.21438\n",
      "2 29.60685\n",
      "3 29.33000\n",
      "4 29.63300\n",
      "5 29.56114\n",
      "6 29.28233\n",
      "                                                                                                locus\n",
      "1 CFTR__rs2402203__chr7:117542108:117559464:clu_25847:ENSG00000001626.14__P__chr7-117215784-117715785\n",
      "2 CFTR__rs2402203__chr7:117542108:117559464:clu_25847:ENSG00000001626.14__P__chr7-117215784-117715785\n",
      "3 CFTR__rs2402203__chr7:117542108:117559464:clu_25847:ENSG00000001626.14__P__chr7-117215784-117715785\n",
      "     purity  coverage credibleset\n",
      "1 0.9973429 0.9998575           1\n",
      "2 0.9834927 0.9572091           2\n",
      "3 0.9635180 1.0000000           3\n"
     ]
    },
    {
     "name": "stderr",
     "output_type": "stream",
     "text": [
      "\u001b[1m\u001b[22mJoining with `by = join_by(snp)`\n"
     ]
    },
    {
     "name": "stdout",
     "output_type": "stream",
     "text": [
      "         pip                         snp pval_nominal alt_gtex ref_gtex\n",
      "1 0.69859430               rs2402203-T-C 4.835496e-17        C        T\n",
      "2 0.21555081              rs11974978-C-T 4.835542e-17        T        C\n",
      "3 0.08585489 7:117320776_CATTA_C-CATTA-C 4.835542e-17        C    CATTA\n",
      "      slope\n",
      "1 -2.361587\n",
      "2  2.361586\n",
      "3  2.361586\n",
      "N duplicates = 0\n",
      "                            1000251 1000534 1000542 1000766 1000898 1000924\n",
      "rs2402203-T-C                     2       2       2       2       2  2.0000\n",
      "rs11974978-C-T                    0       0       0       0       0  0.0353\n",
      "7:117320776_CATTA_C-CATTA-C       0       0       0       0       0  0.0000\n",
      "NA                               NA      NA      NA      NA      NA      NA\n",
      "NA.1                             NA      NA      NA      NA      NA      NA\n",
      "                            1000961 1001059 1001113 1001172\n",
      "rs2402203-T-C                     2       2       2       2\n",
      "rs11974978-C-T                    0       0       0       0\n",
      "7:117320776_CATTA_C-CATTA-C       0       0       0       0\n",
      "NA                               NA      NA      NA      NA\n",
      "NA.1                             NA      NA      NA      NA\n",
      "         pip                 snp    nominal_p effect_allele other_allele\n",
      "1 0.69859430           rs2402203 4.835496e-17             C            T\n",
      "2 0.21555081          rs11974978 4.835542e-17             T            C\n",
      "3 0.08585489 7:117320776_CATTA_C 4.835542e-17             C        CATTA\n",
      "      slope      lbf\n",
      "1 -2.361587 93.01886\n",
      "2  2.361586 91.84299\n",
      "3  2.361586 90.92245\n",
      "                                                                                                locus\n",
      "1 CFTR__rs2402203__chr7:117542108:117559464:clu_25847:ENSG00000001626.14__P__chr7-117215784-117715785\n",
      "2 CFTR__rs2402203__chr7:117542108:117559464:clu_25847:ENSG00000001626.14__P__chr7-117215784-117715785\n",
      "3 CFTR__rs2402203__chr7:117542108:117559464:clu_25847:ENSG00000001626.14__P__chr7-117215784-117715785\n",
      "     purity  coverage credibleset\n",
      "1 0.9973429 0.9998575           1\n",
      "2 0.9834927 0.9572091           2\n",
      "3 0.9635180 1.0000000           3\n"
     ]
    }
   ],
   "source": [
    "l <- \"CFTR__rs2402203__chr7:117542108:117559464:clu_25847:ENSG00000001626.14__P__chr7-117215784-117715785\"\n",
    "input <- meta[meta$locus == \"CFTR__rs2402203__chr7:117542108:117559464:clu_25847:ENSG00000001626.14__P\", \"eqtl_input\"]\n",
    "\n",
    "qtl <- read.csv(input, sep='\\t', header=T, check.names=F)\n",
    "qtl$snp <- paste0(qtl$SNP, \"-\", qtl$REF, \"-\", qtl$ALT)\n",
    "\n",
    "load(paste0(\"/nfs/turbo/umms-scjp-pank/vthihong/colocGWAS_T1D/1_sQTL-gtex-susie/results/susie-prep/gene_sQTLs__\", l, \"__250kb.susie.Rda\"))\n",
    "\n",
    "if (length(S2$sets$cs) > 0) {\n",
    "        for (j in 1:length(S2$sets$cs)) {\n",
    "            pip <- data.frame(pip=S2$pip[names(S2$sets$cs[[j]])])\n",
    "            if (S2$sets$coverage[[j]] < 0.95) {\n",
    "                print(names(S2$sets$cs[[j]]))\n",
    "                next\n",
    "            }\n",
    "\n",
    "            pip$snp <- row.names(pip)\n",
    "            pip <- inner_join(pip, qtl[,c(\"snp\", \"pval_nominal\", \"alt_gtex\", \"ref_gtex\", \"slope\")]) #The effect sizes of eQTLs are defined as the effect of the alternative allele (ALT) relative to the reference (REF) allele in the human genome reference. In other words, the eQTL effect allele is the ALT allele, not the minor allele. https://gtexportal.org/home/faq\n",
    "            print(head(pip))\n",
    "\n",
    "            idx = S2$sets$cs_index[j]\n",
    "            isnps = colnames(S2$lbf_variable)\n",
    "            bf = S2$lbf_variable[idx, isnps, drop=FALSE]\n",
    "            bf = data.frame(snp = isnps, lbf = t(bf)[,1])\n",
    "            pip <- inner_join(pip, bf, by = c(\"snp\" = \"snp\"))\n",
    "            colnames(pip) <- c(\"pip\", \"snp\", \"nominal_p\", \"effect_allele\", \"other_allele\", \"slope\", \"lbf\")\n",
    "\n",
    "            ldf <- process_dosage(paste0(\"/nfs/turbo/umms-scjp-pank/vthihong/colocGWAS_T1D/1_sQTL-gtex-susie/results/susie-prep/gene_sQTLs__\", l, \"__250kb.ukbb-dosages.tsv.gz\"), pip$snp)\n",
    "            ldf <- ldf**2\n",
    "            colnames(ldf) <- stringr::str_extract(colnames(ldf), \"[^-]*\")\n",
    "            rownames(ldf) <- stringr::str_extract(rownames(ldf), \"[^-]*\")\n",
    "            #write.table(ldf, paste0(\"/nfs/turbo/umms-scjp-pank/vthihong/colocGWAS_T1D/1_sQTL-gtex-susie/results/susie/\", l, \"__250kb__credibleSet\", j, \"__ld.txt\"), sep = \"\\t\", quote = F)\n",
    "\n",
    "            pip$snp <- stringr::str_extract(pip$snp, \"[^-]*\")\n",
    "            print(head(pip))\n",
    "            #write.table(pip[, c(\"snp\", \"pip\", \"nominal_p\", \"effect_allele\", \"other_allele\", \"slope\", \"lbf\")], \n",
    "            #            paste0(\"/nfs/turbo/umms-scjp-pank/vthihong/colocGWAS_T1D/1_sQTL-gtex-susie/results/susie/\", l, \"__250kb__credibleSet\", j, \".txt\"), row.names = F, sep = \"\\t\", quote = F)\n",
    "\n",
    "            if (length(S2$sets$cs) > 0) {\n",
    "                purity <- c()\n",
    "                coverage <- c()\n",
    "                p <- data.frame(locus = rep(l, length(S2$sets$cs)), purity = NA, coverage = NA)\n",
    "                for (j in 1:length(S2$sets$cs)) {\n",
    "                    coverage <- c(coverage, S2$sets$coverage[[j]])\n",
    "                    purity <- c(purity, S2$sets$purity[j, 1])\n",
    "                    }\n",
    "                p$purity <- purity\n",
    "                p$coverage <- coverage\n",
    "                p$credibleset <- 1:length(S2$sets$cs)\n",
    "                print(head(p))\n",
    "                #write.table(p, paste0(\"/nfs/turbo/umms-scjp-pank/vthihong/colocGWAS_T1D/1_sQTL-gtex-susie/results/susie/purity/gene_sQTLs__\", \n",
    "                #                \"A1CF\", \"__\", l, \".txt\"), row.names = F, sep = \"\\t\", quote = F)\n",
    "                }\n",
    "        }\n",
    "}"
   ]
  }
 ],
 "metadata": {
  "kernelspec": {
   "display_name": "R",
   "language": "R",
   "name": "ir"
  },
  "language_info": {
   "codemirror_mode": "r",
   "file_extension": ".r",
   "mimetype": "text/x-r-source",
   "name": "R",
   "pygments_lexer": "r",
   "version": "4.3.1"
  }
 },
 "nbformat": 4,
 "nbformat_minor": 5
}
