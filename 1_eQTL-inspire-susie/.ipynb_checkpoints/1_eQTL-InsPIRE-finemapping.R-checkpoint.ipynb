{
 "cells": [
  {
   "cell_type": "markdown",
   "id": "dd942f6c",
   "metadata": {},
   "source": [
    "# How to conduct fine-mapping analysis for eQTL data from islet tissue on gene level"
   ]
  },
  {
   "cell_type": "markdown",
   "id": "989d8ac2",
   "metadata": {},
   "source": [
    "Islet gene-level eQTL data were downloaded from Viñuela, A., Varshney, A., van de Bunt, M. et al. Genetic variant effects on gene expression in human pancreatic islets and their implications for T2D. Nat Commun 11, 4912 (2020). https://doi.org/10.1038/s41467-020-18581-8. Specifically, the list of lead signals and the full summary statistic can be downloaded from https://zenodo.org/record/3408356"
   ]
  },
  {
   "cell_type": "markdown",
   "id": "16bdd9bb",
   "metadata": {},
   "source": [
    "This documentation contains instruction on how to conduct fine-mapping analysis for islet gene-level eQTL data."
   ]
  },
  {
   "cell_type": "markdown",
   "id": "8f522f24",
   "metadata": {},
   "source": [
    "In this analysis, we employed genotype data from 40,000 unrelated British individuals in the UK Biobank."
   ]
  },
  {
   "cell_type": "markdown",
   "id": "5fd9e989",
   "metadata": {},
   "source": [
    "We thank Dr. Arushi Varshney (Parker Lab) for their valuable support in shaping the analysis strategies and code development."
   ]
  },
  {
   "cell_type": "markdown",
   "id": "8c2410cf",
   "metadata": {},
   "source": [
    "## Step 1: LiftOver the summary data from hg19 to hg38"
   ]
  },
  {
   "cell_type": "markdown",
   "id": "16d4adb7",
   "metadata": {},
   "source": [
    "Inputs from this analysis involved the UKBB reference data from 40K unrelated individuals, full summary stat file `InsPIRE_Islets_Gene_eQTLs_Nominal_Pvalues.txt.gz` and list of eGenes (i.e. genes with significant correlation with changes in expression) `PacreaticIslets_independent_Gene_eQTLs.txt`. See example of a Snakemake file at `scripts/hg19liftOverToHg38.sf` and `scripts/hg19liftOverToHg38_leads.sf`."
   ]
  },
  {
   "cell_type": "markdown",
   "id": "6ceb641a",
   "metadata": {},
   "source": [
    "The example Snakefile `scripts/hg19liftOverToHg38.sf` was developed to conduct the follwing steps:\n",
    "- Step 1 (`rule ukbb_rsids`): this rule excludes genotypes from the UKBB reference vcf files to make a smaller vcf file per chromosome.\n",
    "- Step 2 (`rule merge_ukbb`): this rule merges the smaller vcf file per chromosome to create a genome-wide reference file.\n",
    "- Step 3 (`rule liftover`): this rule translates the hg19 coordinates of variants in the summary stat file to hg38. LiftOver tool and hg19toHg19 chain file. To download LiftOver, follow here https://hgdownload.soe.ucsc.edu/downloads.html#liftover\n",
    "- Step 4 (`rule getNewCoor`): this rule will create a file with the new hg38 coordinates and the summary stats\n",
    "- Step 5 (`rule alignGenes`): this rule will keep SNPs within 500kb of gene TSS only, because after liftover some gene and SNP coordinates may change.\n",
    "- Step 6 (`rule splitGene`): this rule gives per-feature (e.g., per gene) variants and summary stats\n",
    "- Step 7 (`rule getSummStatEqtl`): this rule merges variants and summ. stats across all chromosomes and index the file"
   ]
  },
  {
   "cell_type": "markdown",
   "id": "bac7cd22",
   "metadata": {},
   "source": [
    "The Snakefile `scripts/hg19liftOverToHg38_leads.sf` is organized similar to `scripts/hg19liftOverToHg38.sf`; however, it has a different purpose as it was used to liftover lead SNPs of eGenes."
   ]
  },
  {
   "cell_type": "markdown",
   "id": "f7fd92ab",
   "metadata": {},
   "source": [
    "## Step 2: Set up data for the fine-mapping pipeline"
   ]
  },
  {
   "cell_type": "markdown",
   "id": "24dd24ab",
   "metadata": {},
   "source": [
    "We set up a file with gene-level summary stat files for all lead signals, which will be used in the next step."
   ]
  },
  {
   "cell_type": "code",
   "execution_count": 1,
   "id": "3d23e213",
   "metadata": {},
   "outputs": [
    {
     "name": "stderr",
     "output_type": "stream",
     "text": [
      "\n",
      "Attaching package: ‘dplyr’\n",
      "\n",
      "\n",
      "The following objects are masked from ‘package:stats’:\n",
      "\n",
      "    filter, lag\n",
      "\n",
      "\n",
      "The following objects are masked from ‘package:base’:\n",
      "\n",
      "    intersect, setdiff, setequal, union\n",
      "\n",
      "\n"
     ]
    },
    {
     "data": {
      "text/html": [
       "<table class=\"dataframe\">\n",
       "<caption>A data.frame: 6 × 24</caption>\n",
       "<thead>\n",
       "\t<tr><th></th><th scope=col>GeneName</th><th scope=col>Strand</th><th scope=col>GencodeLevel</th><th scope=col>GeneType</th><th scope=col>GeneID</th><th scope=col>ChrPheno</th><th scope=col>StartPheno</th><th scope=col>EndPheno</th><th scope=col>NumSNPs</th><th scope=col>DistanceWithBest</th><th scope=col>⋯</th><th scope=col>chrSNP</th><th scope=col>StartSNP</th><th scope=col>EndSNP</th><th scope=col>Nominal_Pval</th><th scope=col>Slope</th><th scope=col>EmpiricalAdjustedPval</th><th scope=col>BetaAdjustedPval</th><th scope=col>DiscoveryOrder</th><th scope=col>DiscoveryOrder2</th><th scope=col>GeneStableID</th></tr>\n",
       "\t<tr><th></th><th scope=col>&lt;chr&gt;</th><th scope=col>&lt;chr&gt;</th><th scope=col>&lt;int&gt;</th><th scope=col>&lt;chr&gt;</th><th scope=col>&lt;chr&gt;</th><th scope=col>&lt;int&gt;</th><th scope=col>&lt;int&gt;</th><th scope=col>&lt;int&gt;</th><th scope=col>&lt;int&gt;</th><th scope=col>&lt;int&gt;</th><th scope=col>⋯</th><th scope=col>&lt;int&gt;</th><th scope=col>&lt;int&gt;</th><th scope=col>&lt;int&gt;</th><th scope=col>&lt;dbl&gt;</th><th scope=col>&lt;dbl&gt;</th><th scope=col>&lt;dbl&gt;</th><th scope=col>&lt;dbl&gt;</th><th scope=col>&lt;int&gt;</th><th scope=col>&lt;chr&gt;</th><th scope=col>&lt;chr&gt;</th></tr>\n",
       "</thead>\n",
       "<tbody>\n",
       "\t<tr><th scope=row>1</th><td>ACTR8  </td><td>-</td><td>1</td><td>protein_coding</td><td>ENSG00000113812.9 </td><td>3</td><td>53916229</td><td>53916229</td><td>5186</td><td>   6498</td><td>⋯</td><td>3</td><td>53909731</td><td>53909731</td><td>4.59563e-44</td><td>-0.332961</td><td>0.000999001</td><td>7.04865e-37</td><td>1</td><td>P</td><td>ENSG00000113812</td></tr>\n",
       "\t<tr><th scope=row>2</th><td>ERC2   </td><td>-</td><td>2</td><td>protein_coding</td><td>ENSG00000187672.8 </td><td>3</td><td>56502391</td><td>56502391</td><td>5997</td><td>-232239</td><td>⋯</td><td>3</td><td>56734630</td><td>56734630</td><td>9.17441e-07</td><td> 0.212021</td><td>0.002997000</td><td>1.94155e-03</td><td>1</td><td>P</td><td>ENSG00000187672</td></tr>\n",
       "\t<tr><th scope=row>3</th><td>CCDC66 </td><td>+</td><td>2</td><td>protein_coding</td><td>ENSG00000180376.12</td><td>3</td><td>56591189</td><td>56591189</td><td>5981</td><td>-134916</td><td>⋯</td><td>3</td><td>56726105</td><td>56726105</td><td>8.62068e-11</td><td> 0.171517</td><td>0.000999001</td><td>3.52246e-07</td><td>1</td><td>P</td><td>ENSG00000180376</td></tr>\n",
       "\t<tr><th scope=row>4</th><td>ARHGEF3</td><td>-</td><td>1</td><td>protein_coding</td><td>ENSG00000163947.7 </td><td>3</td><td>57113357</td><td>57113357</td><td>5666</td><td> 319635</td><td>⋯</td><td>3</td><td>56793722</td><td>56793722</td><td>8.44758e-07</td><td>-0.149698</td><td>0.000999001</td><td>1.24083e-03</td><td>1</td><td>P</td><td>ENSG00000163947</td></tr>\n",
       "\t<tr><th scope=row>5</th><td>ABHD6  </td><td>+</td><td>2</td><td>protein_coding</td><td>ENSG00000163686.9 </td><td>3</td><td>58223233</td><td>58223233</td><td>4746</td><td> -56828</td><td>⋯</td><td>3</td><td>58280061</td><td>58280061</td><td>6.79776e-12</td><td>-0.228906</td><td>0.000999001</td><td>8.71536e-09</td><td>1</td><td>P</td><td>ENSG00000163686</td></tr>\n",
       "\t<tr><th scope=row>6</th><td>PXK    </td><td>+</td><td>1</td><td>protein_coding</td><td>ENSG00000168297.11</td><td>3</td><td>58318607</td><td>58318607</td><td>4823</td><td>  41071</td><td>⋯</td><td>3</td><td>58277536</td><td>58277536</td><td>1.21914e-16</td><td>-0.299304</td><td>0.000999001</td><td>5.84402e-12</td><td>1</td><td>P</td><td>ENSG00000168297</td></tr>\n",
       "</tbody>\n",
       "</table>\n"
      ],
      "text/latex": [
       "A data.frame: 6 × 24\n",
       "\\begin{tabular}{r|lllllllllllllllllllll}\n",
       "  & GeneName & Strand & GencodeLevel & GeneType & GeneID & ChrPheno & StartPheno & EndPheno & NumSNPs & DistanceWithBest & ⋯ & chrSNP & StartSNP & EndSNP & Nominal\\_Pval & Slope & EmpiricalAdjustedPval & BetaAdjustedPval & DiscoveryOrder & DiscoveryOrder2 & GeneStableID\\\\\n",
       "  & <chr> & <chr> & <int> & <chr> & <chr> & <int> & <int> & <int> & <int> & <int> & ⋯ & <int> & <int> & <int> & <dbl> & <dbl> & <dbl> & <dbl> & <int> & <chr> & <chr>\\\\\n",
       "\\hline\n",
       "\t1 & ACTR8   & - & 1 & protein\\_coding & ENSG00000113812.9  & 3 & 53916229 & 53916229 & 5186 &    6498 & ⋯ & 3 & 53909731 & 53909731 & 4.59563e-44 & -0.332961 & 0.000999001 & 7.04865e-37 & 1 & P & ENSG00000113812\\\\\n",
       "\t2 & ERC2    & - & 2 & protein\\_coding & ENSG00000187672.8  & 3 & 56502391 & 56502391 & 5997 & -232239 & ⋯ & 3 & 56734630 & 56734630 & 9.17441e-07 &  0.212021 & 0.002997000 & 1.94155e-03 & 1 & P & ENSG00000187672\\\\\n",
       "\t3 & CCDC66  & + & 2 & protein\\_coding & ENSG00000180376.12 & 3 & 56591189 & 56591189 & 5981 & -134916 & ⋯ & 3 & 56726105 & 56726105 & 8.62068e-11 &  0.171517 & 0.000999001 & 3.52246e-07 & 1 & P & ENSG00000180376\\\\\n",
       "\t4 & ARHGEF3 & - & 1 & protein\\_coding & ENSG00000163947.7  & 3 & 57113357 & 57113357 & 5666 &  319635 & ⋯ & 3 & 56793722 & 56793722 & 8.44758e-07 & -0.149698 & 0.000999001 & 1.24083e-03 & 1 & P & ENSG00000163947\\\\\n",
       "\t5 & ABHD6   & + & 2 & protein\\_coding & ENSG00000163686.9  & 3 & 58223233 & 58223233 & 4746 &  -56828 & ⋯ & 3 & 58280061 & 58280061 & 6.79776e-12 & -0.228906 & 0.000999001 & 8.71536e-09 & 1 & P & ENSG00000163686\\\\\n",
       "\t6 & PXK     & + & 1 & protein\\_coding & ENSG00000168297.11 & 3 & 58318607 & 58318607 & 4823 &   41071 & ⋯ & 3 & 58277536 & 58277536 & 1.21914e-16 & -0.299304 & 0.000999001 & 5.84402e-12 & 1 & P & ENSG00000168297\\\\\n",
       "\\end{tabular}\n"
      ],
      "text/markdown": [
       "\n",
       "A data.frame: 6 × 24\n",
       "\n",
       "| <!--/--> | GeneName &lt;chr&gt; | Strand &lt;chr&gt; | GencodeLevel &lt;int&gt; | GeneType &lt;chr&gt; | GeneID &lt;chr&gt; | ChrPheno &lt;int&gt; | StartPheno &lt;int&gt; | EndPheno &lt;int&gt; | NumSNPs &lt;int&gt; | DistanceWithBest &lt;int&gt; | ⋯ ⋯ | chrSNP &lt;int&gt; | StartSNP &lt;int&gt; | EndSNP &lt;int&gt; | Nominal_Pval &lt;dbl&gt; | Slope &lt;dbl&gt; | EmpiricalAdjustedPval &lt;dbl&gt; | BetaAdjustedPval &lt;dbl&gt; | DiscoveryOrder &lt;int&gt; | DiscoveryOrder2 &lt;chr&gt; | GeneStableID &lt;chr&gt; |\n",
       "|---|---|---|---|---|---|---|---|---|---|---|---|---|---|---|---|---|---|---|---|---|---|\n",
       "| 1 | ACTR8   | - | 1 | protein_coding | ENSG00000113812.9  | 3 | 53916229 | 53916229 | 5186 |    6498 | ⋯ | 3 | 53909731 | 53909731 | 4.59563e-44 | -0.332961 | 0.000999001 | 7.04865e-37 | 1 | P | ENSG00000113812 |\n",
       "| 2 | ERC2    | - | 2 | protein_coding | ENSG00000187672.8  | 3 | 56502391 | 56502391 | 5997 | -232239 | ⋯ | 3 | 56734630 | 56734630 | 9.17441e-07 |  0.212021 | 0.002997000 | 1.94155e-03 | 1 | P | ENSG00000187672 |\n",
       "| 3 | CCDC66  | + | 2 | protein_coding | ENSG00000180376.12 | 3 | 56591189 | 56591189 | 5981 | -134916 | ⋯ | 3 | 56726105 | 56726105 | 8.62068e-11 |  0.171517 | 0.000999001 | 3.52246e-07 | 1 | P | ENSG00000180376 |\n",
       "| 4 | ARHGEF3 | - | 1 | protein_coding | ENSG00000163947.7  | 3 | 57113357 | 57113357 | 5666 |  319635 | ⋯ | 3 | 56793722 | 56793722 | 8.44758e-07 | -0.149698 | 0.000999001 | 1.24083e-03 | 1 | P | ENSG00000163947 |\n",
       "| 5 | ABHD6   | + | 2 | protein_coding | ENSG00000163686.9  | 3 | 58223233 | 58223233 | 4746 |  -56828 | ⋯ | 3 | 58280061 | 58280061 | 6.79776e-12 | -0.228906 | 0.000999001 | 8.71536e-09 | 1 | P | ENSG00000163686 |\n",
       "| 6 | PXK     | + | 1 | protein_coding | ENSG00000168297.11 | 3 | 58318607 | 58318607 | 4823 |   41071 | ⋯ | 3 | 58277536 | 58277536 | 1.21914e-16 | -0.299304 | 0.000999001 | 5.84402e-12 | 1 | P | ENSG00000168297 |\n",
       "\n"
      ],
      "text/plain": [
       "  GeneName Strand GencodeLevel GeneType       GeneID             ChrPheno\n",
       "1 ACTR8    -      1            protein_coding ENSG00000113812.9  3       \n",
       "2 ERC2     -      2            protein_coding ENSG00000187672.8  3       \n",
       "3 CCDC66   +      2            protein_coding ENSG00000180376.12 3       \n",
       "4 ARHGEF3  -      1            protein_coding ENSG00000163947.7  3       \n",
       "5 ABHD6    +      2            protein_coding ENSG00000163686.9  3       \n",
       "6 PXK      +      1            protein_coding ENSG00000168297.11 3       \n",
       "  StartPheno EndPheno NumSNPs DistanceWithBest ⋯ chrSNP StartSNP EndSNP  \n",
       "1 53916229   53916229 5186       6498          ⋯ 3      53909731 53909731\n",
       "2 56502391   56502391 5997    -232239          ⋯ 3      56734630 56734630\n",
       "3 56591189   56591189 5981    -134916          ⋯ 3      56726105 56726105\n",
       "4 57113357   57113357 5666     319635          ⋯ 3      56793722 56793722\n",
       "5 58223233   58223233 4746     -56828          ⋯ 3      58280061 58280061\n",
       "6 58318607   58318607 4823      41071          ⋯ 3      58277536 58277536\n",
       "  Nominal_Pval Slope     EmpiricalAdjustedPval BetaAdjustedPval DiscoveryOrder\n",
       "1 4.59563e-44  -0.332961 0.000999001           7.04865e-37      1             \n",
       "2 9.17441e-07   0.212021 0.002997000           1.94155e-03      1             \n",
       "3 8.62068e-11   0.171517 0.000999001           3.52246e-07      1             \n",
       "4 8.44758e-07  -0.149698 0.000999001           1.24083e-03      1             \n",
       "5 6.79776e-12  -0.228906 0.000999001           8.71536e-09      1             \n",
       "6 1.21914e-16  -0.299304 0.000999001           5.84402e-12      1             \n",
       "  DiscoveryOrder2 GeneStableID   \n",
       "1 P               ENSG00000113812\n",
       "2 P               ENSG00000187672\n",
       "3 P               ENSG00000180376\n",
       "4 P               ENSG00000163947\n",
       "5 P               ENSG00000163686\n",
       "6 P               ENSG00000168297"
      ]
     },
     "metadata": {},
     "output_type": "display_data"
    }
   ],
   "source": [
    "library(dplyr)\n",
    "\n",
    "#ind are SNPs in hg19 genome\n",
    "ind <- read.table(\"/nfs/turbo/umms-scjp-pank/vthihong/colocGWAS_T1D/1_eQTL-inspire-susie/data/PacreaticIslets_independent_Gene_eQTLs.txt\", header = T)\n",
    "ind$DiscoveryOrder2 <- ifelse(ind$DiscoveryOrder == 1, \"P\", \"S\")\n",
    "ind$GeneStableID <- unlist(lapply(strsplit(ind$GeneID, '\\\\.'), '[', 1))\n",
    "head(ind)"
   ]
  },
  {
   "cell_type": "code",
   "execution_count": 2,
   "id": "785a0b73",
   "metadata": {},
   "outputs": [
    {
     "name": "stderr",
     "output_type": "stream",
     "text": [
      "Warning message in inner_join(lead, ind[, c(\"Nominal_Pval\", \"GeneStableID\", \"DiscoveryOrder2\")], :\n",
      "“\u001b[1m\u001b[22mDetected an unexpected many-to-many relationship between `x` and `y`.\n",
      "\u001b[36mℹ\u001b[39m Row 112 of `x` matches multiple rows in `y`.\n",
      "\u001b[36mℹ\u001b[39m Row 1344 of `y` matches multiple rows in `x`.\n",
      "\u001b[36mℹ\u001b[39m If a many-to-many relationship is expected, set `relationship =\n",
      "  \"many-to-many\"` to silence this warning.”\n"
     ]
    },
    {
     "data": {
      "text/html": [
       "<table class=\"dataframe\">\n",
       "<caption>A data.frame: 6 × 5</caption>\n",
       "<thead>\n",
       "\t<tr><th></th><th scope=col>seqnames</th><th scope=col>start</th><th scope=col>end</th><th scope=col>name</th><th scope=col>gene_id</th></tr>\n",
       "\t<tr><th></th><th scope=col>&lt;chr&gt;</th><th scope=col>&lt;int&gt;</th><th scope=col>&lt;int&gt;</th><th scope=col>&lt;chr&gt;</th><th scope=col>&lt;chr&gt;</th></tr>\n",
       "</thead>\n",
       "<tbody>\n",
       "\t<tr><th scope=row>1</th><td>chr1</td><td> 989147</td><td> 989148</td><td>RP11-54O7.17__rs34712273__P</td><td>ENSG00000272512</td></tr>\n",
       "\t<tr><th scope=row>2</th><td>chr1</td><td>1083799</td><td>1083800</td><td>RP11-54O7.18__rs9442396__P </td><td>ENSG00000273443</td></tr>\n",
       "\t<tr><th scope=row>3</th><td>chr1</td><td>1407231</td><td>1407232</td><td>B3GALT6__rs2275915__P      </td><td>ENSG00000176022</td></tr>\n",
       "\t<tr><th scope=row>4</th><td>chr1</td><td>1407564</td><td>1407565</td><td>MRPL20__rs34442823__P      </td><td>ENSG00000242485</td></tr>\n",
       "\t<tr><th scope=row>5</th><td>chr1</td><td>1418251</td><td>1418252</td><td>ANKRD65__rs4970449__P      </td><td>ENSG00000235098</td></tr>\n",
       "\t<tr><th scope=row>6</th><td>chr1</td><td>1508768</td><td>1508769</td><td>ATAD3B__rs190181683__P     </td><td>ENSG00000160072</td></tr>\n",
       "</tbody>\n",
       "</table>\n"
      ],
      "text/latex": [
       "A data.frame: 6 × 5\n",
       "\\begin{tabular}{r|lllll}\n",
       "  & seqnames & start & end & name & gene\\_id\\\\\n",
       "  & <chr> & <int> & <int> & <chr> & <chr>\\\\\n",
       "\\hline\n",
       "\t1 & chr1 &  989147 &  989148 & RP11-54O7.17\\_\\_rs34712273\\_\\_P & ENSG00000272512\\\\\n",
       "\t2 & chr1 & 1083799 & 1083800 & RP11-54O7.18\\_\\_rs9442396\\_\\_P  & ENSG00000273443\\\\\n",
       "\t3 & chr1 & 1407231 & 1407232 & B3GALT6\\_\\_rs2275915\\_\\_P       & ENSG00000176022\\\\\n",
       "\t4 & chr1 & 1407564 & 1407565 & MRPL20\\_\\_rs34442823\\_\\_P       & ENSG00000242485\\\\\n",
       "\t5 & chr1 & 1418251 & 1418252 & ANKRD65\\_\\_rs4970449\\_\\_P       & ENSG00000235098\\\\\n",
       "\t6 & chr1 & 1508768 & 1508769 & ATAD3B\\_\\_rs190181683\\_\\_P      & ENSG00000160072\\\\\n",
       "\\end{tabular}\n"
      ],
      "text/markdown": [
       "\n",
       "A data.frame: 6 × 5\n",
       "\n",
       "| <!--/--> | seqnames &lt;chr&gt; | start &lt;int&gt; | end &lt;int&gt; | name &lt;chr&gt; | gene_id &lt;chr&gt; |\n",
       "|---|---|---|---|---|---|\n",
       "| 1 | chr1 |  989147 |  989148 | RP11-54O7.17__rs34712273__P | ENSG00000272512 |\n",
       "| 2 | chr1 | 1083799 | 1083800 | RP11-54O7.18__rs9442396__P  | ENSG00000273443 |\n",
       "| 3 | chr1 | 1407231 | 1407232 | B3GALT6__rs2275915__P       | ENSG00000176022 |\n",
       "| 4 | chr1 | 1407564 | 1407565 | MRPL20__rs34442823__P       | ENSG00000242485 |\n",
       "| 5 | chr1 | 1418251 | 1418252 | ANKRD65__rs4970449__P       | ENSG00000235098 |\n",
       "| 6 | chr1 | 1508768 | 1508769 | ATAD3B__rs190181683__P      | ENSG00000160072 |\n",
       "\n"
      ],
      "text/plain": [
       "  seqnames start   end     name                        gene_id        \n",
       "1 chr1      989147  989148 RP11-54O7.17__rs34712273__P ENSG00000272512\n",
       "2 chr1     1083799 1083800 RP11-54O7.18__rs9442396__P  ENSG00000273443\n",
       "3 chr1     1407231 1407232 B3GALT6__rs2275915__P       ENSG00000176022\n",
       "4 chr1     1407564 1407565 MRPL20__rs34442823__P       ENSG00000242485\n",
       "5 chr1     1418251 1418252 ANKRD65__rs4970449__P       ENSG00000235098\n",
       "6 chr1     1508768 1508769 ATAD3B__rs190181683__P      ENSG00000160072"
      ]
     },
     "metadata": {},
     "output_type": "display_data"
    }
   ],
   "source": [
    "#lead are SNPs in hg38 genome and matching with ukbb\n",
    "lead <- read.table(\"/nfs/turbo/umms-scjp-pank/vthihong/colocGWAS_T1D/2_t1d-eQTL-coloc/results/hg38/eqtl_Gene_leads/eqtl_Gene.bed.gz\", \n",
    "                   comment.char = \"\", header = T, fill = T)\n",
    "lead <- inner_join(lead, ind[, c(\"Nominal_Pval\",  \"GeneStableID\", \"DiscoveryOrder2\")], by = c(\"Pvalue\" = \"Nominal_Pval\", \"GeneStableID\" = \"GeneStableID\"))\n",
    "df38 <- data.frame(seqnames = lead$X.snp_chrom, start = lead$snp_start, end = lead$snp_end,\n",
    "                   name = paste0(lead$GeneName, \"__\", lead$SNP, \"__\", lead$DiscoveryOrder2),\n",
    "                   gene_id = lead$GeneStableID)\n",
    "head(df38)"
   ]
  },
  {
   "cell_type": "code",
   "execution_count": 3,
   "id": "071a8af2",
   "metadata": {},
   "outputs": [
    {
     "data": {
      "text/html": [
       "<table class=\"dataframe\">\n",
       "<caption>A data.frame: 6 × 6</caption>\n",
       "<thead>\n",
       "\t<tr><th></th><th scope=col>chr</th><th scope=col>start</th><th scope=col>end</th><th scope=col>locus</th><th scope=col>gene_id</th><th scope=col>eqtl_input</th></tr>\n",
       "\t<tr><th></th><th scope=col>&lt;chr&gt;</th><th scope=col>&lt;int&gt;</th><th scope=col>&lt;int&gt;</th><th scope=col>&lt;chr&gt;</th><th scope=col>&lt;chr&gt;</th><th scope=col>&lt;chr&gt;</th></tr>\n",
       "</thead>\n",
       "<tbody>\n",
       "\t<tr><th scope=row>1</th><td>chr1</td><td> 998051</td><td> 998052</td><td>RP11-54O7.17__rs34712273__P</td><td>ENSG00000272512</td><td>/nfs/turbo/umms-scjp-pank/vthihong/colocGWAS_T1D/2_t1d-eQTL-coloc/results/hg38/eqtl_Gene_indexed/ENSG00000272512.1__InsPIRE_Islets_Gene__1:995966.bed.gz  </td></tr>\n",
       "\t<tr><th scope=row>2</th><td>chr1</td><td>1063288</td><td>1063289</td><td>RP11-54O7.18__rs9442396__P </td><td>ENSG00000273443</td><td>/nfs/turbo/umms-scjp-pank/vthihong/colocGWAS_T1D/2_t1d-eQTL-coloc/results/hg38/eqtl_Gene_indexed/ENSG00000273443.1__InsPIRE_Islets_Gene__1:1062208.bed.gz </td></tr>\n",
       "\t<tr><th scope=row>3</th><td>chr1</td><td>1232265</td><td>1232266</td><td>B3GALT6__rs2275915__P      </td><td>ENSG00000176022</td><td>/nfs/turbo/umms-scjp-pank/vthihong/colocGWAS_T1D/2_t1d-eQTL-coloc/results/hg38/eqtl_Gene_indexed/ENSG00000176022.3__InsPIRE_Islets_Gene__1:1232237.bed.gz </td></tr>\n",
       "\t<tr><th scope=row>4</th><td>chr1</td><td>1407313</td><td>1407314</td><td>MRPL20__rs34442823__P      </td><td>ENSG00000242485</td><td>/nfs/turbo/umms-scjp-pank/vthihong/colocGWAS_T1D/2_t1d-eQTL-coloc/results/hg38/eqtl_Gene_indexed/ENSG00000242485.1__InsPIRE_Islets_Gene__1:1401909.bed.gz </td></tr>\n",
       "\t<tr><th scope=row>5</th><td>chr1</td><td>1421769</td><td>1421770</td><td>ANKRD65__rs4970449__P      </td><td>ENSG00000235098</td><td>/nfs/turbo/umms-scjp-pank/vthihong/colocGWAS_T1D/2_t1d-eQTL-coloc/results/hg38/eqtl_Gene_indexed/ENSG00000235098.4__InsPIRE_Islets_Gene__1:1418420.bed.gz </td></tr>\n",
       "\t<tr><th scope=row>6</th><td>chr1</td><td>1471769</td><td>1471770</td><td>ATAD3B__rs190181683__P     </td><td>ENSG00000160072</td><td>/nfs/turbo/umms-scjp-pank/vthihong/colocGWAS_T1D/2_t1d-eQTL-coloc/results/hg38/eqtl_Gene_indexed/ENSG00000160072.15__InsPIRE_Islets_Gene__1:1471765.bed.gz</td></tr>\n",
       "</tbody>\n",
       "</table>\n"
      ],
      "text/latex": [
       "A data.frame: 6 × 6\n",
       "\\begin{tabular}{r|llllll}\n",
       "  & chr & start & end & locus & gene\\_id & eqtl\\_input\\\\\n",
       "  & <chr> & <int> & <int> & <chr> & <chr> & <chr>\\\\\n",
       "\\hline\n",
       "\t1 & chr1 &  998051 &  998052 & RP11-54O7.17\\_\\_rs34712273\\_\\_P & ENSG00000272512 & /nfs/turbo/umms-scjp-pank/vthihong/colocGWAS\\_T1D/2\\_t1d-eQTL-coloc/results/hg38/eqtl\\_Gene\\_indexed/ENSG00000272512.1\\_\\_InsPIRE\\_Islets\\_Gene\\_\\_1:995966.bed.gz  \\\\\n",
       "\t2 & chr1 & 1063288 & 1063289 & RP11-54O7.18\\_\\_rs9442396\\_\\_P  & ENSG00000273443 & /nfs/turbo/umms-scjp-pank/vthihong/colocGWAS\\_T1D/2\\_t1d-eQTL-coloc/results/hg38/eqtl\\_Gene\\_indexed/ENSG00000273443.1\\_\\_InsPIRE\\_Islets\\_Gene\\_\\_1:1062208.bed.gz \\\\\n",
       "\t3 & chr1 & 1232265 & 1232266 & B3GALT6\\_\\_rs2275915\\_\\_P       & ENSG00000176022 & /nfs/turbo/umms-scjp-pank/vthihong/colocGWAS\\_T1D/2\\_t1d-eQTL-coloc/results/hg38/eqtl\\_Gene\\_indexed/ENSG00000176022.3\\_\\_InsPIRE\\_Islets\\_Gene\\_\\_1:1232237.bed.gz \\\\\n",
       "\t4 & chr1 & 1407313 & 1407314 & MRPL20\\_\\_rs34442823\\_\\_P       & ENSG00000242485 & /nfs/turbo/umms-scjp-pank/vthihong/colocGWAS\\_T1D/2\\_t1d-eQTL-coloc/results/hg38/eqtl\\_Gene\\_indexed/ENSG00000242485.1\\_\\_InsPIRE\\_Islets\\_Gene\\_\\_1:1401909.bed.gz \\\\\n",
       "\t5 & chr1 & 1421769 & 1421770 & ANKRD65\\_\\_rs4970449\\_\\_P       & ENSG00000235098 & /nfs/turbo/umms-scjp-pank/vthihong/colocGWAS\\_T1D/2\\_t1d-eQTL-coloc/results/hg38/eqtl\\_Gene\\_indexed/ENSG00000235098.4\\_\\_InsPIRE\\_Islets\\_Gene\\_\\_1:1418420.bed.gz \\\\\n",
       "\t6 & chr1 & 1471769 & 1471770 & ATAD3B\\_\\_rs190181683\\_\\_P      & ENSG00000160072 & /nfs/turbo/umms-scjp-pank/vthihong/colocGWAS\\_T1D/2\\_t1d-eQTL-coloc/results/hg38/eqtl\\_Gene\\_indexed/ENSG00000160072.15\\_\\_InsPIRE\\_Islets\\_Gene\\_\\_1:1471765.bed.gz\\\\\n",
       "\\end{tabular}\n"
      ],
      "text/markdown": [
       "\n",
       "A data.frame: 6 × 6\n",
       "\n",
       "| <!--/--> | chr &lt;chr&gt; | start &lt;int&gt; | end &lt;int&gt; | locus &lt;chr&gt; | gene_id &lt;chr&gt; | eqtl_input &lt;chr&gt; |\n",
       "|---|---|---|---|---|---|---|\n",
       "| 1 | chr1 |  998051 |  998052 | RP11-54O7.17__rs34712273__P | ENSG00000272512 | /nfs/turbo/umms-scjp-pank/vthihong/colocGWAS_T1D/2_t1d-eQTL-coloc/results/hg38/eqtl_Gene_indexed/ENSG00000272512.1__InsPIRE_Islets_Gene__1:995966.bed.gz   |\n",
       "| 2 | chr1 | 1063288 | 1063289 | RP11-54O7.18__rs9442396__P  | ENSG00000273443 | /nfs/turbo/umms-scjp-pank/vthihong/colocGWAS_T1D/2_t1d-eQTL-coloc/results/hg38/eqtl_Gene_indexed/ENSG00000273443.1__InsPIRE_Islets_Gene__1:1062208.bed.gz  |\n",
       "| 3 | chr1 | 1232265 | 1232266 | B3GALT6__rs2275915__P       | ENSG00000176022 | /nfs/turbo/umms-scjp-pank/vthihong/colocGWAS_T1D/2_t1d-eQTL-coloc/results/hg38/eqtl_Gene_indexed/ENSG00000176022.3__InsPIRE_Islets_Gene__1:1232237.bed.gz  |\n",
       "| 4 | chr1 | 1407313 | 1407314 | MRPL20__rs34442823__P       | ENSG00000242485 | /nfs/turbo/umms-scjp-pank/vthihong/colocGWAS_T1D/2_t1d-eQTL-coloc/results/hg38/eqtl_Gene_indexed/ENSG00000242485.1__InsPIRE_Islets_Gene__1:1401909.bed.gz  |\n",
       "| 5 | chr1 | 1421769 | 1421770 | ANKRD65__rs4970449__P       | ENSG00000235098 | /nfs/turbo/umms-scjp-pank/vthihong/colocGWAS_T1D/2_t1d-eQTL-coloc/results/hg38/eqtl_Gene_indexed/ENSG00000235098.4__InsPIRE_Islets_Gene__1:1418420.bed.gz  |\n",
       "| 6 | chr1 | 1471769 | 1471770 | ATAD3B__rs190181683__P      | ENSG00000160072 | /nfs/turbo/umms-scjp-pank/vthihong/colocGWAS_T1D/2_t1d-eQTL-coloc/results/hg38/eqtl_Gene_indexed/ENSG00000160072.15__InsPIRE_Islets_Gene__1:1471765.bed.gz |\n",
       "\n"
      ],
      "text/plain": [
       "  chr  start   end     locus                       gene_id        \n",
       "1 chr1  998051  998052 RP11-54O7.17__rs34712273__P ENSG00000272512\n",
       "2 chr1 1063288 1063289 RP11-54O7.18__rs9442396__P  ENSG00000273443\n",
       "3 chr1 1232265 1232266 B3GALT6__rs2275915__P       ENSG00000176022\n",
       "4 chr1 1407313 1407314 MRPL20__rs34442823__P       ENSG00000242485\n",
       "5 chr1 1421769 1421770 ANKRD65__rs4970449__P       ENSG00000235098\n",
       "6 chr1 1471769 1471770 ATAD3B__rs190181683__P      ENSG00000160072\n",
       "  eqtl_input                                                                                                                                                \n",
       "1 /nfs/turbo/umms-scjp-pank/vthihong/colocGWAS_T1D/2_t1d-eQTL-coloc/results/hg38/eqtl_Gene_indexed/ENSG00000272512.1__InsPIRE_Islets_Gene__1:995966.bed.gz  \n",
       "2 /nfs/turbo/umms-scjp-pank/vthihong/colocGWAS_T1D/2_t1d-eQTL-coloc/results/hg38/eqtl_Gene_indexed/ENSG00000273443.1__InsPIRE_Islets_Gene__1:1062208.bed.gz \n",
       "3 /nfs/turbo/umms-scjp-pank/vthihong/colocGWAS_T1D/2_t1d-eQTL-coloc/results/hg38/eqtl_Gene_indexed/ENSG00000176022.3__InsPIRE_Islets_Gene__1:1232237.bed.gz \n",
       "4 /nfs/turbo/umms-scjp-pank/vthihong/colocGWAS_T1D/2_t1d-eQTL-coloc/results/hg38/eqtl_Gene_indexed/ENSG00000242485.1__InsPIRE_Islets_Gene__1:1401909.bed.gz \n",
       "5 /nfs/turbo/umms-scjp-pank/vthihong/colocGWAS_T1D/2_t1d-eQTL-coloc/results/hg38/eqtl_Gene_indexed/ENSG00000235098.4__InsPIRE_Islets_Gene__1:1418420.bed.gz \n",
       "6 /nfs/turbo/umms-scjp-pank/vthihong/colocGWAS_T1D/2_t1d-eQTL-coloc/results/hg38/eqtl_Gene_indexed/ENSG00000160072.15__InsPIRE_Islets_Gene__1:1471765.bed.gz"
      ]
     },
     "metadata": {},
     "output_type": "display_data"
    }
   ],
   "source": [
    "files <- list.files(\"/nfs/turbo/umms-scjp-pank/vthihong/colocGWAS_T1D/2_t1d-eQTL-coloc/results/hg38/eqtl_Gene_indexed/\", pattern = \"gz\")\n",
    "files <- files[grep(\"tbi\", files, invert = T)]\n",
    "file_df <- data.frame(eqtl_input = files)\n",
    "file_df$gene <- unlist(lapply(strsplit(file_df$eqtl_input, '__'), '[', 1))\n",
    "file_df$GeneStableID <- unlist(lapply(strsplit(file_df$gene, '\\\\.'), '[', 1))\n",
    "\n",
    "df38 <- inner_join(df38, file_df, by = c(\"gene_id\" = \"GeneStableID\"))\n",
    "df38$eqtl_input <- paste0(\"/nfs/turbo/umms-scjp-pank/vthihong/colocGWAS_T1D/2_t1d-eQTL-coloc/results/hg38/eqtl_Gene_indexed/\",\n",
    "                          df38$eqtl_input)\n",
    "\n",
    "tss <- read.table(\"/scratch/scjp_root/scjp99/vthihong/genome/geneTSS.bed\", header = F)\n",
    "df38 <- inner_join(df38, tss[, c(1, 2, 3, 6)], by = c(\"gene_id\" = \"V6\"))\n",
    "df <- df38[, c(\"V1\", \"V2\", \"V3\", \"name\", \"gene_id\", \"eqtl_input\")]\n",
    "df <- distinct(df)\n",
    "colnames(df) <- c(\"chr\", \"start\", \"end\", \"locus\", \"gene_id\", \"eqtl_input\")\n",
    "head(df)\n",
    "\n",
    "write.table(df, row.names = F, sep = \"\\t\", quote = F,\n",
    "            \"/nfs/turbo/umms-scjp-pank/vthihong/colocGWAS_T1D/1_eQTL-inspire-susie/data/gene_eQTLs-selected.tsv\")"
   ]
  },
  {
   "cell_type": "markdown",
   "id": "c005a277",
   "metadata": {},
   "source": [
    "Save the `df` object in a file named `gene_eQTLs-selected.tsv`"
   ]
  },
  {
   "cell_type": "markdown",
   "id": "9ddea941",
   "metadata": {},
   "source": [
    "## Step 3: Set up scripts for every eGene of interest"
   ]
  },
  {
   "cell_type": "markdown",
   "id": "193ca363",
   "metadata": {},
   "source": [
    "First, we need to set up a config file with some house-keeping information such as directory of files and parameters. See example in `config.yaml`. The file `gene_eQTLs-selected.tsv` is used for `trait1-leads` and `selected-stats`. Then, we can use `scripts/make_susie-sh.py` script to create a SLURM job per region of interest."
   ]
  },
  {
   "cell_type": "markdown",
   "id": "b02e6bcd",
   "metadata": {},
   "source": [
    "Important note: the script `scripts/make_susie-sh.py` requires two other scripts that should be specified in the config file, namely:\n",
    "```\n",
    "prep-template: \"{base}/scripts/dosage-template.sh\"\n",
    "susie-template: \"{base}/scripts/susie-template.sh\"\n",
    "```\n",
    "\n",
    "```\n",
    "cd /scratch/scjp_root/scjp99/vthihong/2_PanKBase/colocGWAS_T1D/1_eQTL-inspire-susie/results/susie-region\n",
    "\n",
    "python /scratch/scjp_root/scjp99/vthihong/2_PanKBase/colocGWAS_T1D/1_eQTL-inspire-susie/scripts/make_susie-sh.py --config /scratch/scjp_root/scjp99/vthihong/2_PanKBase/colocGWAS_T1D/1_eQTL-inspire-susie/scripts/config.yaml\n",
    "```"
   ]
  },
  {
   "cell_type": "markdown",
   "id": "55448236",
   "metadata": {},
   "source": [
    "At this point, we have a series of individual scripts for each region, with names in the format `gene_eQTLs__<locus name, no other special characters like ;() etc>__<lead snp rsid>__<primary P or secondary S>__<region>__<window>.susieprep.sh` and `gene_eQTLs___<locus name, no other special characters like ;() etc>__<lead snp rsid>__<primary P or secondary S>__<region>__<window>.susie.sh`. The `*susieprep.sh` is necessary to fetch information such as variants and dosages. The `*susie.sh` is to run the fine-mapping analysis."
   ]
  },
  {
   "cell_type": "markdown",
   "id": "a0693801",
   "metadata": {},
   "source": [
    "Example of a `susieprep.sh` file is as the following:\n",
    "```\n",
    "cat gene_eQTLs__A1CF__rs12244405__P__chr10-50635675-51135676__250kb.susieprep.sh\n",
    "\n",
    "#!/bin/bash\n",
    "\n",
    "## fetch variants in the region and intersect UKBB vcfs\n",
    "for i in /nfs/turbo/umms-scjp-pank/vthihong/colocGWAS_T1D/0_data/hg38/chr10.imputed.poly.vcf.gz; do tabix $i chr10:50635675-51135676 | awk '{if (($0 !~ /^#/ && $0 !~ /^chr/)) print \"chr\"$0; else print $0}' ; done | sort | uniq > gene_eQTLs__A1CF__rs12244405__P__chr10-50635675-51135676__250kb.ukbb.genotypes\n",
    "zcat /nfs/turbo/umms-scjp-pank/vthihong/colocGWAS_T1D/0_data/hg38/chr10.imputed.poly.vcf.gz | head -10000 | awk '{if (($0 ~ /^#/)) print $0}' > gene_eQTLs__A1CF__rs12244405__P__chr10-50635675-51135676__250kb.ukbb.header\n",
    "cat gene_eQTLs__A1CF__rs12244405__P__chr10-50635675-51135676__250kb.ukbb.header gene_eQTLs__A1CF__rs12244405__P__chr10-50635675-51135676__250kb.ukbb.genotypes | bgzip -c > gene_eQTLs__A1CF__rs12244405__P__chr10-50635675-51135676__250kb.ukbb.vcf.gz; tabix gene_eQTLs__A1CF__rs12244405__P__chr10-50635675-51135676__250kb.ukbb.vcf.gz\n",
    "rm gene_eQTLs__A1CF__rs12244405__P__chr10-50635675-51135676__250kb.ukbb.genotypes gene_eQTLs__A1CF__rs12244405__P__chr10-50635675-51135676__250kb.ukbb.header\n",
    "\n",
    "## fetch UKBB dosages \n",
    "zcat gene_eQTLs__A1CF__rs12244405__P__chr10-50635675-51135676__250kb.ukbb.vcf.gz | head -10000 | awk -F'\\t' '{if (($0 ~/^#CHROM/)) print $0}' OFS='\\t' | sed -e 's:#CHROM\\tPOS\\tID\\tREF\\tALT\\tQUAL\\tFILTER\\tINFO\\tFORMAT:ID:g' > gene_eQTLs__A1CF__rs12244405__P__chr10-50635675-51135676__250kb.ukbb-header.txt \n",
    "bcftools query -f \"%ID-%REF-%ALT[\\t%DS]\\n\" gene_eQTLs__A1CF__rs12244405__P__chr10-50635675-51135676__250kb.ukbb.vcf.gz | cat gene_eQTLs__A1CF__rs12244405__P__chr10-50635675-51135676__250kb.ukbb-header.txt - > gene_eQTLs__A1CF__rs12244405__P__chr10-50635675-51135676__250kb.ukbb-dosages.tsv \n",
    "\n",
    "## bgzip to save space\n",
    "module load Bioinformatics\n",
    "module load Bioinformatics  gcc/10.3.0-k2osx5y\n",
    "module load samtools/1.13-fwwss5n\n",
    "\n",
    "bgzip -@ 2 gene_eQTLs__A1CF__rs12244405__P__chr10-50635675-51135676__250kb.ukbb-dosages.tsv\n",
    "\n",
    "## cleanup\n",
    "rm -rf gene_eQTLs__A1CF__rs12244405__P__chr10-50635675-51135676__250kb.ukbb-header.txt gene_eQTLs__A1CF__rs12244405__P__chr10-50635675-51135676__250kb.ukbb.vcf.gz*\n",
    "```"
   ]
  },
  {
   "cell_type": "markdown",
   "id": "4a2c4b03",
   "metadata": {},
   "source": [
    "Example of a `susie.sh` file is as the following:\n",
    "```\n",
    "cat gene_eQTLs__A1CF__rs12244405__P__chr10-50635675-51135676__250kb.susie.sh\n",
    "\n",
    "#!/bin/bash\n",
    "\n",
    "################## running SuSiE for  gene_eQTLs__A1CF__rs12244405__P__chr10-50635675-51135676__250kb:\n",
    "\n",
    "## Susie \n",
    "/nfs/turbo/umms-scjp-pank/vthihong/colocGWAS_T1D/scripts/PanKgraph-finemap-coloc/1_eQTL-inspire-susie/scripts/susie-eqtl.R --prefix gene_eQTLs__A1CF__rs12244405__P__chr10-50635675-51135676__250kb --type quant --beta beta --p p_nominal --effect ALT --non_effect REF --sdY 1 --coverage 0.95 --maxit 10000 --min_abs_corr 0.1 --s_threshold 0.3 --number_signals_default 10 --number_signals_high_s 1 --marker rs12244405 --trait1 /nfs/turbo/umms-scjp-pank/vthihong/colocGWAS_T1D/2_t1d-eQTL-coloc/results/hg38/eqtl_Gene_indexed/ENSG00000148584.10__InsPIRE_Islets_Gene__10:50799409.bed.gz --trait1_ld gene_eQTLs__A1CF__rs12244405__P__chr10-50635675-51135676__250kb.ukbb-dosages.tsv.gz \n",
    "```"
   ]
  },
  {
   "cell_type": "markdown",
   "id": "ab2b1dac",
   "metadata": {},
   "source": [
    "## Step 4: Conduct fine-mapping analysis for all regions of interest"
   ]
  },
  {
   "cell_type": "markdown",
   "id": "495f180f",
   "metadata": {},
   "source": [
    "After we set up analysis scripts for each eGene, we can run the analysis for every eGene using Snakemake. See example of a Snakemake file at `scripts/susie.sf`."
   ]
  },
  {
   "cell_type": "markdown",
   "id": "a9a5388e",
   "metadata": {},
   "source": [
    "Signals of each eGene by default will be saved in a R object names `*.susie.Rda`."
   ]
  },
  {
   "cell_type": "markdown",
   "id": "30bf000c",
   "metadata": {},
   "source": [
    "## Step 5: Obtain output files for PanKgraph"
   ]
  },
  {
   "cell_type": "markdown",
   "id": "227f74c2",
   "metadata": {},
   "source": [
    "For the purpose of PanKgraph, we will extract some outputs into text files. Example of code is the following:"
   ]
  },
  {
   "cell_type": "code",
   "execution_count": 4,
   "id": "a8f65afa",
   "metadata": {},
   "outputs": [],
   "source": [
    "library(glue)\n",
    "library(tidyr)\n",
    "suppressPackageStartupMessages(library(dplyr))"
   ]
  },
  {
   "cell_type": "code",
   "execution_count": 5,
   "id": "443c3bde",
   "metadata": {},
   "outputs": [
    {
     "data": {
      "text/html": [
       "<table class=\"dataframe\">\n",
       "<caption>A data.frame: 6 × 6</caption>\n",
       "<thead>\n",
       "\t<tr><th></th><th scope=col>chr</th><th scope=col>start</th><th scope=col>end</th><th scope=col>locus</th><th scope=col>gene_id</th><th scope=col>eqtl_input</th></tr>\n",
       "\t<tr><th></th><th scope=col>&lt;chr&gt;</th><th scope=col>&lt;int&gt;</th><th scope=col>&lt;int&gt;</th><th scope=col>&lt;chr&gt;</th><th scope=col>&lt;chr&gt;</th><th scope=col>&lt;chr&gt;</th></tr>\n",
       "</thead>\n",
       "<tbody>\n",
       "\t<tr><th scope=row>1</th><td>chr1</td><td> 998051</td><td> 998052</td><td>RP11-54O7.17__rs34712273__P</td><td>ENSG00000272512</td><td>/nfs/turbo/umms-scjp-pank/vthihong/colocGWAS_T1D/2_t1d-eQTL-coloc/results/hg38/eqtl_Gene_indexed/ENSG00000272512.1__InsPIRE_Islets_Gene__1:995966.bed.gz  </td></tr>\n",
       "\t<tr><th scope=row>2</th><td>chr1</td><td>1063288</td><td>1063289</td><td>RP11-54O7.18__rs9442396__P </td><td>ENSG00000273443</td><td>/nfs/turbo/umms-scjp-pank/vthihong/colocGWAS_T1D/2_t1d-eQTL-coloc/results/hg38/eqtl_Gene_indexed/ENSG00000273443.1__InsPIRE_Islets_Gene__1:1062208.bed.gz </td></tr>\n",
       "\t<tr><th scope=row>3</th><td>chr1</td><td>1232265</td><td>1232266</td><td>B3GALT6__rs2275915__P      </td><td>ENSG00000176022</td><td>/nfs/turbo/umms-scjp-pank/vthihong/colocGWAS_T1D/2_t1d-eQTL-coloc/results/hg38/eqtl_Gene_indexed/ENSG00000176022.3__InsPIRE_Islets_Gene__1:1232237.bed.gz </td></tr>\n",
       "\t<tr><th scope=row>4</th><td>chr1</td><td>1407313</td><td>1407314</td><td>MRPL20__rs34442823__P      </td><td>ENSG00000242485</td><td>/nfs/turbo/umms-scjp-pank/vthihong/colocGWAS_T1D/2_t1d-eQTL-coloc/results/hg38/eqtl_Gene_indexed/ENSG00000242485.1__InsPIRE_Islets_Gene__1:1401909.bed.gz </td></tr>\n",
       "\t<tr><th scope=row>5</th><td>chr1</td><td>1421769</td><td>1421770</td><td>ANKRD65__rs4970449__P      </td><td>ENSG00000235098</td><td>/nfs/turbo/umms-scjp-pank/vthihong/colocGWAS_T1D/2_t1d-eQTL-coloc/results/hg38/eqtl_Gene_indexed/ENSG00000235098.4__InsPIRE_Islets_Gene__1:1418420.bed.gz </td></tr>\n",
       "\t<tr><th scope=row>6</th><td>chr1</td><td>1471769</td><td>1471770</td><td>ATAD3B__rs190181683__P     </td><td>ENSG00000160072</td><td>/nfs/turbo/umms-scjp-pank/vthihong/colocGWAS_T1D/2_t1d-eQTL-coloc/results/hg38/eqtl_Gene_indexed/ENSG00000160072.15__InsPIRE_Islets_Gene__1:1471765.bed.gz</td></tr>\n",
       "</tbody>\n",
       "</table>\n"
      ],
      "text/latex": [
       "A data.frame: 6 × 6\n",
       "\\begin{tabular}{r|llllll}\n",
       "  & chr & start & end & locus & gene\\_id & eqtl\\_input\\\\\n",
       "  & <chr> & <int> & <int> & <chr> & <chr> & <chr>\\\\\n",
       "\\hline\n",
       "\t1 & chr1 &  998051 &  998052 & RP11-54O7.17\\_\\_rs34712273\\_\\_P & ENSG00000272512 & /nfs/turbo/umms-scjp-pank/vthihong/colocGWAS\\_T1D/2\\_t1d-eQTL-coloc/results/hg38/eqtl\\_Gene\\_indexed/ENSG00000272512.1\\_\\_InsPIRE\\_Islets\\_Gene\\_\\_1:995966.bed.gz  \\\\\n",
       "\t2 & chr1 & 1063288 & 1063289 & RP11-54O7.18\\_\\_rs9442396\\_\\_P  & ENSG00000273443 & /nfs/turbo/umms-scjp-pank/vthihong/colocGWAS\\_T1D/2\\_t1d-eQTL-coloc/results/hg38/eqtl\\_Gene\\_indexed/ENSG00000273443.1\\_\\_InsPIRE\\_Islets\\_Gene\\_\\_1:1062208.bed.gz \\\\\n",
       "\t3 & chr1 & 1232265 & 1232266 & B3GALT6\\_\\_rs2275915\\_\\_P       & ENSG00000176022 & /nfs/turbo/umms-scjp-pank/vthihong/colocGWAS\\_T1D/2\\_t1d-eQTL-coloc/results/hg38/eqtl\\_Gene\\_indexed/ENSG00000176022.3\\_\\_InsPIRE\\_Islets\\_Gene\\_\\_1:1232237.bed.gz \\\\\n",
       "\t4 & chr1 & 1407313 & 1407314 & MRPL20\\_\\_rs34442823\\_\\_P       & ENSG00000242485 & /nfs/turbo/umms-scjp-pank/vthihong/colocGWAS\\_T1D/2\\_t1d-eQTL-coloc/results/hg38/eqtl\\_Gene\\_indexed/ENSG00000242485.1\\_\\_InsPIRE\\_Islets\\_Gene\\_\\_1:1401909.bed.gz \\\\\n",
       "\t5 & chr1 & 1421769 & 1421770 & ANKRD65\\_\\_rs4970449\\_\\_P       & ENSG00000235098 & /nfs/turbo/umms-scjp-pank/vthihong/colocGWAS\\_T1D/2\\_t1d-eQTL-coloc/results/hg38/eqtl\\_Gene\\_indexed/ENSG00000235098.4\\_\\_InsPIRE\\_Islets\\_Gene\\_\\_1:1418420.bed.gz \\\\\n",
       "\t6 & chr1 & 1471769 & 1471770 & ATAD3B\\_\\_rs190181683\\_\\_P      & ENSG00000160072 & /nfs/turbo/umms-scjp-pank/vthihong/colocGWAS\\_T1D/2\\_t1d-eQTL-coloc/results/hg38/eqtl\\_Gene\\_indexed/ENSG00000160072.15\\_\\_InsPIRE\\_Islets\\_Gene\\_\\_1:1471765.bed.gz\\\\\n",
       "\\end{tabular}\n"
      ],
      "text/markdown": [
       "\n",
       "A data.frame: 6 × 6\n",
       "\n",
       "| <!--/--> | chr &lt;chr&gt; | start &lt;int&gt; | end &lt;int&gt; | locus &lt;chr&gt; | gene_id &lt;chr&gt; | eqtl_input &lt;chr&gt; |\n",
       "|---|---|---|---|---|---|---|\n",
       "| 1 | chr1 |  998051 |  998052 | RP11-54O7.17__rs34712273__P | ENSG00000272512 | /nfs/turbo/umms-scjp-pank/vthihong/colocGWAS_T1D/2_t1d-eQTL-coloc/results/hg38/eqtl_Gene_indexed/ENSG00000272512.1__InsPIRE_Islets_Gene__1:995966.bed.gz   |\n",
       "| 2 | chr1 | 1063288 | 1063289 | RP11-54O7.18__rs9442396__P  | ENSG00000273443 | /nfs/turbo/umms-scjp-pank/vthihong/colocGWAS_T1D/2_t1d-eQTL-coloc/results/hg38/eqtl_Gene_indexed/ENSG00000273443.1__InsPIRE_Islets_Gene__1:1062208.bed.gz  |\n",
       "| 3 | chr1 | 1232265 | 1232266 | B3GALT6__rs2275915__P       | ENSG00000176022 | /nfs/turbo/umms-scjp-pank/vthihong/colocGWAS_T1D/2_t1d-eQTL-coloc/results/hg38/eqtl_Gene_indexed/ENSG00000176022.3__InsPIRE_Islets_Gene__1:1232237.bed.gz  |\n",
       "| 4 | chr1 | 1407313 | 1407314 | MRPL20__rs34442823__P       | ENSG00000242485 | /nfs/turbo/umms-scjp-pank/vthihong/colocGWAS_T1D/2_t1d-eQTL-coloc/results/hg38/eqtl_Gene_indexed/ENSG00000242485.1__InsPIRE_Islets_Gene__1:1401909.bed.gz  |\n",
       "| 5 | chr1 | 1421769 | 1421770 | ANKRD65__rs4970449__P       | ENSG00000235098 | /nfs/turbo/umms-scjp-pank/vthihong/colocGWAS_T1D/2_t1d-eQTL-coloc/results/hg38/eqtl_Gene_indexed/ENSG00000235098.4__InsPIRE_Islets_Gene__1:1418420.bed.gz  |\n",
       "| 6 | chr1 | 1471769 | 1471770 | ATAD3B__rs190181683__P      | ENSG00000160072 | /nfs/turbo/umms-scjp-pank/vthihong/colocGWAS_T1D/2_t1d-eQTL-coloc/results/hg38/eqtl_Gene_indexed/ENSG00000160072.15__InsPIRE_Islets_Gene__1:1471765.bed.gz |\n",
       "\n"
      ],
      "text/plain": [
       "  chr  start   end     locus                       gene_id        \n",
       "1 chr1  998051  998052 RP11-54O7.17__rs34712273__P ENSG00000272512\n",
       "2 chr1 1063288 1063289 RP11-54O7.18__rs9442396__P  ENSG00000273443\n",
       "3 chr1 1232265 1232266 B3GALT6__rs2275915__P       ENSG00000176022\n",
       "4 chr1 1407313 1407314 MRPL20__rs34442823__P       ENSG00000242485\n",
       "5 chr1 1421769 1421770 ANKRD65__rs4970449__P       ENSG00000235098\n",
       "6 chr1 1471769 1471770 ATAD3B__rs190181683__P      ENSG00000160072\n",
       "  eqtl_input                                                                                                                                                \n",
       "1 /nfs/turbo/umms-scjp-pank/vthihong/colocGWAS_T1D/2_t1d-eQTL-coloc/results/hg38/eqtl_Gene_indexed/ENSG00000272512.1__InsPIRE_Islets_Gene__1:995966.bed.gz  \n",
       "2 /nfs/turbo/umms-scjp-pank/vthihong/colocGWAS_T1D/2_t1d-eQTL-coloc/results/hg38/eqtl_Gene_indexed/ENSG00000273443.1__InsPIRE_Islets_Gene__1:1062208.bed.gz \n",
       "3 /nfs/turbo/umms-scjp-pank/vthihong/colocGWAS_T1D/2_t1d-eQTL-coloc/results/hg38/eqtl_Gene_indexed/ENSG00000176022.3__InsPIRE_Islets_Gene__1:1232237.bed.gz \n",
       "4 /nfs/turbo/umms-scjp-pank/vthihong/colocGWAS_T1D/2_t1d-eQTL-coloc/results/hg38/eqtl_Gene_indexed/ENSG00000242485.1__InsPIRE_Islets_Gene__1:1401909.bed.gz \n",
       "5 /nfs/turbo/umms-scjp-pank/vthihong/colocGWAS_T1D/2_t1d-eQTL-coloc/results/hg38/eqtl_Gene_indexed/ENSG00000235098.4__InsPIRE_Islets_Gene__1:1418420.bed.gz \n",
       "6 /nfs/turbo/umms-scjp-pank/vthihong/colocGWAS_T1D/2_t1d-eQTL-coloc/results/hg38/eqtl_Gene_indexed/ENSG00000160072.15__InsPIRE_Islets_Gene__1:1471765.bed.gz"
      ]
     },
     "metadata": {},
     "output_type": "display_data"
    }
   ],
   "source": [
    "process_dosage = function(f, snplist){\n",
    "    ld = read.csv(f, sep='\\t', check.names = F)\n",
    "    dups = ld[ (duplicated(ld$ID) | duplicated(ld$ID, fromLast = TRUE)),]\n",
    "    print(glue(\"N duplicates = {nrow(dups)}\"))\n",
    "    ld = ld[! (duplicated(ld$ID) | duplicated(ld$ID, fromLast = TRUE)),]\n",
    "    row.names(ld) = ld$ID\n",
    "    ld$ID = NULL\n",
    "    idlist = intersect(snplist, row.names(ld))\n",
    "    ld = ld[idlist,]\n",
    "    print(ld[1:5, 1:10])\n",
    "    ld = cor(t(ld))\n",
    "    return(ld)\n",
    "}\n",
    "\n",
    "meta <- read.table(\"/nfs/turbo/umms-scjp-pank/vthihong/colocGWAS_T1D/1_eQTL-inspire-susie/data/gene_eQTLs-selected.tsv\", header = T)\n",
    "meta <- distinct(meta)\n",
    "head(meta)"
   ]
  },
  {
   "cell_type": "code",
   "execution_count": 6,
   "id": "24c48449",
   "metadata": {},
   "outputs": [
    {
     "name": "stderr",
     "output_type": "stream",
     "text": [
      "\u001b[1m\u001b[22mJoining with `by = join_by(snp)`\n"
     ]
    },
    {
     "name": "stdout",
     "output_type": "stream",
     "text": [
      "         pip            snp      Pvalue effect_allele other_allele     Slope\n",
      "1 0.06585744 rs61856594-A-G 1.89082e-07             G            A  0.154257\n",
      "2 0.10735381 rs17500776-G-C 1.11974e-07             C            G  0.155543\n",
      "3 0.11757846 rs17500846-A-G 1.01574e-07             G            A  0.155280\n",
      "4 0.10256088  rs7075575-A-G 1.17591e-07             G            A -0.154399\n",
      "5 0.16948025 rs12244405-C-T 6.86634e-08             T            C  0.156916\n",
      "6 0.10257797  rs6479769-T-C 1.17570e-07             C            T -0.154400\n",
      "       lbf\n",
      "1 11.42003\n",
      "2 11.90867\n",
      "3 11.99964\n",
      "4 11.86299\n",
      "5 12.36527\n",
      "6 11.86316\n",
      "N duplicates = 0\n",
      "               1000251 1000534 1000542 1000766 1000898 1000924 1000961 1001059\n",
      "rs61856594-A-G       0       1       2       1   1.000       1       1       1\n",
      "rs17500776-G-C       0       1       2       1   1.000       1       1       1\n",
      "rs17500846-A-G       0       1       2       1   0.996       1       1       1\n",
      "rs7075575-A-G        2       1       0       1   1.000       1       1       1\n",
      "rs12244405-C-T       0       1       2       1   1.000       1       1       1\n",
      "               1001113 1001172\n",
      "rs61856594-A-G       0       0\n",
      "rs17500776-G-C       0       0\n",
      "rs17500846-A-G       0       0\n",
      "rs7075575-A-G        2       2\n",
      "rs12244405-C-T       0       0\n",
      "         pip        snp   nominal_p effect_allele other_allele     slope\n",
      "1 0.06585744 rs61856594 1.89082e-07             G            A  0.154257\n",
      "2 0.10735381 rs17500776 1.11974e-07             C            G  0.155543\n",
      "3 0.11757846 rs17500846 1.01574e-07             G            A  0.155280\n",
      "4 0.10256088  rs7075575 1.17591e-07             G            A -0.154399\n",
      "5 0.16948025 rs12244405 6.86634e-08             T            C  0.156916\n",
      "6 0.10257797  rs6479769 1.17570e-07             C            T -0.154400\n",
      "       lbf\n",
      "1 11.42003\n",
      "2 11.90867\n",
      "3 11.99964\n",
      "4 11.86299\n",
      "5 12.36527\n",
      "6 11.86316\n",
      "                                         locus    purity  coverage credibleset\n",
      "1 A1CF__rs12244405__P__chr10-50635675-51135676 0.9933322 0.9570241           1\n"
     ]
    }
   ],
   "source": [
    "l <- \"A1CF__rs12244405__P__chr10-50635675-51135676\"\n",
    "input <- meta[meta$locus == \"A1CF__rs12244405__P\", \"eqtl_input\"]\n",
    "\n",
    "for (k in 1:length(input)) {\n",
    "        qtl <- read.csv(input[k], sep='\\t', header=T, check.names=F)\n",
    "        qtl$snp <- paste0(qtl$SNP, \"-\", qtl$REF, \"-\", qtl$ALT)\n",
    "        qtl$Slope <- qtl$Slope / qtl$multiply #get the slope originally reported by the study\n",
    "        load(paste0(\"/nfs/turbo/umms-scjp-pank/vthihong/colocGWAS_T1D/1_eQTL-inspire-susie/results/susie-prep/gene_eQTLs__\", \n",
    "                    l, \"__250kb.susie.Rda\"))\n",
    "\n",
    "        if (length(S2$sets$cs) > 0) {\n",
    "        for (j in 1:length(S2$sets$cs)) {\n",
    "                pip <- data.frame(pip=S2$pip[names(S2$sets$cs[[j]])])\n",
    "                if (S2$sets$coverage[[j]] < 0.95) {\n",
    "                        print(names(S2$sets$cs[[j]]))\n",
    "                        next\n",
    "                }\n",
    "\n",
    "                pip$snp <- row.names(pip)\n",
    "                pip <- inner_join(pip, qtl[,c(\"snp\", \"Pvalue\", \"effect_allele\", \"other_allele\", \"Slope\")])\n",
    "                idx = S2$sets$cs_index[j]\n",
    "                isnps = colnames(S2$lbf_variable)\n",
    "                bf = S2$lbf_variable[idx, isnps, drop=FALSE]\n",
    "                bf = data.frame(snp = isnps, lbf = t(bf)[,1])\n",
    "                pip <- inner_join(pip, bf, by = c(\"snp\" = \"snp\"))\n",
    "                print(head(pip))\n",
    "                colnames(pip) <- c(\"pip\", \"snp\", \"nominal_p\", \"effect_allele\", \"other_allele\", \"slope\", \"lbf\")\n",
    "\n",
    "                ldf <- process_dosage(paste0(\"/nfs/turbo/umms-scjp-pank/vthihong/colocGWAS_T1D/1_eQTL-inspire-susie/results/susie-prep/gene_eQTLs__\", \n",
    "                                             l, \"__250kb.ukbb-dosages.tsv.gz\"), pip$snp)\n",
    "                ldf <- ldf**2\n",
    "                colnames(ldf) <- stringr::str_extract(colnames(ldf), \"[^-]*\")\n",
    "                rownames(ldf) <- stringr::str_extract(rownames(ldf), \"[^-]*\")\n",
    "                #write.table(ldf, paste0(\"/nfs/turbo/umms-scjp-pank/vthihong/colocGWAS_T1D/1_eQTL-inspire-susie/results/susie/gene_eQTLs__\", \n",
    "                #                            report$V1[i], \"__250kb__credibleSet\", j, \"__ld.txt\"), sep = \"\\t\", quote = F)\n",
    "\n",
    "                pip$snp <- stringr::str_extract(pip$snp, \"[^-]*\")\n",
    "                print(head(pip))\n",
    "                #write.table(pip[, c(\"snp\", \"pip\", \"nominal_p\", \"effect_allele\", \"other_allele\", \"slope\", \"lbf\")], \n",
    "                #            paste0(\"/nfs/turbo/umms-scjp-pank/vthihong/colocGWAS_T1D/1_eQTL-inspire-susie/results/susie/gene_eQTLs__\", l, \"__250kb__credibleSet\", j, \".txt\"), row.names = F, sep = \"\\t\", quote = F)\n",
    "                }\n",
    "        }\n",
    "\n",
    "        if (length(S2$sets$cs) > 0) {\n",
    "            purity <- c()\n",
    "            coverage <- c()\n",
    "            p <- data.frame(locus = rep(l, length(S2$sets$cs)), purity = NA, coverage = NA)\n",
    "            for (j in 1:length(S2$sets$cs)) {\n",
    "                coverage <- c(coverage, S2$sets$coverage[[j]])\n",
    "                purity <- c(purity, S2$sets$purity[j, 1])\n",
    "            }\n",
    "            p$purity <- purity\n",
    "            p$coverage <- coverage\n",
    "            p$credibleset <- 1:length(S2$sets$cs)\n",
    "            print(head(p))\n",
    "            #write.table(p, paste0(\"/nfs/turbo/umms-scjp-pank/vthihong/colocGWAS_T1D/1_eQTL-inspire-susie/results/susie/purity/gene_eQTLs__\", \n",
    "            #                \"A1CF\", \"__\", l, \".txt\"), row.names = F, sep = \"\\t\", quote = F)\n",
    "        }\n",
    "}\n"
   ]
  }
 ],
 "metadata": {
  "kernelspec": {
   "display_name": "R",
   "language": "R",
   "name": "ir"
  },
  "language_info": {
   "codemirror_mode": "r",
   "file_extension": ".r",
   "mimetype": "text/x-r-source",
   "name": "R",
   "pygments_lexer": "r",
   "version": "4.3.1"
  }
 },
 "nbformat": 4,
 "nbformat_minor": 5
}
