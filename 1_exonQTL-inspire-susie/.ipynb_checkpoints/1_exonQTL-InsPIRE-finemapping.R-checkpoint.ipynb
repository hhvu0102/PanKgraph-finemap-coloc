{
 "cells": [
  {
   "cell_type": "markdown",
   "id": "dd942f6c",
   "metadata": {},
   "source": [
    "# How to conduct fine-mapping analysis for eQTL data from islet tissue on exon level"
   ]
  },
  {
   "cell_type": "markdown",
   "id": "989d8ac2",
   "metadata": {},
   "source": [
    "Islet exon-level QTL data were downloaded from Viñuela, A., Varshney, A., van de Bunt, M. et al. Genetic variant effects on gene expression in human pancreatic islets and their implications for T2D. Nat Commun 11, 4912 (2020). https://doi.org/10.1038/s41467-020-18581-8. Specifically, the list of lead signals and the full summary statistic can be downloaded from https://zenodo.org/record/3408356"
   ]
  },
  {
   "cell_type": "markdown",
   "id": "16bdd9bb",
   "metadata": {},
   "source": [
    "This documentation contains instruction on how to conduct fine-mapping analysis for islet exon-level eQTL data."
   ]
  },
  {
   "cell_type": "markdown",
   "id": "8f522f24",
   "metadata": {},
   "source": [
    "In this analysis, we employed genotype data from 40,000 unrelated British individuals in the UK Biobank."
   ]
  },
  {
   "cell_type": "markdown",
   "id": "5fd9e989",
   "metadata": {},
   "source": [
    "We thank Dr. Arushi Varshney (Parker Lab) for their valuable support in shaping the analysis strategies and code development."
   ]
  },
  {
   "cell_type": "markdown",
   "id": "8c2410cf",
   "metadata": {},
   "source": [
    "## Step 1: LiftOver the summary data from hg19 to hg38"
   ]
  },
  {
   "cell_type": "markdown",
   "id": "16d4adb7",
   "metadata": {},
   "source": [
    "Inputs from this analysis involved the UKBB reference data from 40K unrelated individuals, full summary stat file `InsPIRE_Islets_Exons_eQTLs_Nominal_Pvalues.txt.gz` and list of eGenes (i.e. genes with significant correlation with changes in expression) `PacreaticIslets_independent_Exons_eQTLs.txt`. See example of a Snakemake file at `scripts/hg19liftOverToHg38.sf` and `scripts/hg19liftOverToHg38_leads.sf`."
   ]
  },
  {
   "cell_type": "markdown",
   "id": "6ceb641a",
   "metadata": {},
   "source": [
    "The example Snakefile `scripts/hg19liftOverToHg38.sf` was developed to conduct the follwing steps:\n",
    "- Step 1 (`rule ukbb_rsids`): this rule excludes genotypes from the UKBB reference vcf files to make a smaller vcf file per chromosome.\n",
    "- Step 2 (`rule merge_ukbb`): this rule merges the smaller vcf file per chromosome to create a genome-wide reference file.\n",
    "- Step 3 (`rule liftover`): this rule translates the hg19 coordinates of variants in the summary stat file to hg38. LiftOver tool and hg19toHg19 chain file. To download LiftOver, follow here https://hgdownload.soe.ucsc.edu/downloads.html#liftover\n",
    "- Step 4 (`rule getNewCoor`): this rule will create a file with the new hg38 coordinates and the summary stats\n",
    "- Step 5 (`rule alignGenes`): this rule will keep SNPs within 500kb of gene TSS only, because after liftover some gene and SNP coordinates may change.\n",
    "- Step 6 (`rule splitGene`): this rule gives per-feature (e.g., per exon) variants and summary stats\n",
    "- Step 7 (`rule getSummStatEqtl`): this rule merges variants and summ. stats across all chromosomes and index the file"
   ]
  },
  {
   "cell_type": "markdown",
   "id": "bac7cd22",
   "metadata": {},
   "source": [
    "The Snakefile `scripts/hg19liftOverToHg38_leads.sf` is organized similar to `scripts/hg19liftOverToHg38.sf`; however, it has a different purpose as it was used to liftover lead SNPs of eGenes."
   ]
  },
  {
   "cell_type": "markdown",
   "id": "d3e622ec",
   "metadata": {},
   "source": [
    "It is worth noting that although we liftover'd all variant coordinates from hg19 to hg38, all exon IDs are kept the same as those in the original study for tracking purpose."
   ]
  },
  {
   "cell_type": "markdown",
   "id": "f7fd92ab",
   "metadata": {},
   "source": [
    "## Step 2: Set up data for the fine-mapping pipeline"
   ]
  },
  {
   "cell_type": "markdown",
   "id": "24dd24ab",
   "metadata": {},
   "source": [
    "We set up a file with gene-level summary stat files for all lead signals, which will be used in the next step."
   ]
  },
  {
   "cell_type": "code",
   "execution_count": 5,
   "id": "3d23e213",
   "metadata": {},
   "outputs": [
    {
     "data": {
      "text/html": [
       "<table class=\"dataframe\">\n",
       "<caption>A data.frame: 6 × 30</caption>\n",
       "<thead>\n",
       "\t<tr><th></th><th scope=col>GeneName</th><th scope=col>Strand</th><th scope=col>GencodeLevel</th><th scope=col>GeneType</th><th scope=col>GeneID</th><th scope=col>ChrPheno</th><th scope=col>StartPheno</th><th scope=col>EndPheno</th><th scope=col>BestExonID</th><th scope=col>NumExons</th><th scope=col>⋯</th><th scope=col>Slope</th><th scope=col>EmpiricalAdjustedPval</th><th scope=col>BetaAdjustedPval</th><th scope=col>eQTLnum</th><th scope=col>OrderByDistanceTSS</th><th scope=col>OrderBySlope</th><th scope=col>PvalueOrder</th><th scope=col>Probability</th><th scope=col>DiscoveryOrder2</th><th scope=col>GeneStableID</th></tr>\n",
       "\t<tr><th></th><th scope=col>&lt;chr&gt;</th><th scope=col>&lt;chr&gt;</th><th scope=col>&lt;int&gt;</th><th scope=col>&lt;chr&gt;</th><th scope=col>&lt;chr&gt;</th><th scope=col>&lt;int&gt;</th><th scope=col>&lt;int&gt;</th><th scope=col>&lt;int&gt;</th><th scope=col>&lt;chr&gt;</th><th scope=col>&lt;int&gt;</th><th scope=col>⋯</th><th scope=col>&lt;dbl&gt;</th><th scope=col>&lt;dbl&gt;</th><th scope=col>&lt;dbl&gt;</th><th scope=col>&lt;int&gt;</th><th scope=col>&lt;int&gt;</th><th scope=col>&lt;int&gt;</th><th scope=col>&lt;int&gt;</th><th scope=col>&lt;dbl&gt;</th><th scope=col>&lt;chr&gt;</th><th scope=col>&lt;chr&gt;</th></tr>\n",
       "</thead>\n",
       "<tbody>\n",
       "\t<tr><th scope=row>1</th><td>GCLC  </td><td>-</td><td>2</td><td>protein_coding</td><td>ENSG00000001084.6 </td><td>6</td><td>53481768</td><td>53481768</td><td>ENSG00000001084.6_53373974_53375246 </td><td>14</td><td>⋯</td><td>-0.188911</td><td>0.000999001</td><td>2.38377e-03</td><td>1</td><td>1</td><td>1</td><td>1</td><td>0.271240</td><td>P</td><td>ENSG00000001084</td></tr>\n",
       "\t<tr><th scope=row>2</th><td>STPG1 </td><td>-</td><td>2</td><td>protein_coding</td><td>ENSG00000001460.13</td><td>1</td><td>24743424</td><td>24743424</td><td>ENSG00000001460.13_24717693_24718169</td><td>10</td><td>⋯</td><td> 0.320629</td><td>0.020979000</td><td>2.08192e-02</td><td>2</td><td>1</td><td>2</td><td>2</td><td>0.400682</td><td>S</td><td>ENSG00000001460</td></tr>\n",
       "\t<tr><th scope=row>3</th><td>STPG1 </td><td>-</td><td>2</td><td>protein_coding</td><td>ENSG00000001460.13</td><td>1</td><td>24743424</td><td>24743424</td><td>ENSG00000001460.13_24717693_24718169</td><td>10</td><td>⋯</td><td>-0.790738</td><td>0.000999001</td><td>4.74265e-44</td><td>1</td><td>1</td><td>1</td><td>1</td><td>0.863734</td><td>P</td><td>ENSG00000001460</td></tr>\n",
       "\t<tr><th scope=row>4</th><td>ENPP4 </td><td>+</td><td>2</td><td>protein_coding</td><td>ENSG00000001561.6 </td><td>6</td><td>46097730</td><td>46097730</td><td>ENSG00000001561.6_46107288_46108146 </td><td> 4</td><td>⋯</td><td> 0.110524</td><td>0.011988000</td><td>1.25329e-02</td><td>2</td><td>1</td><td>2</td><td>2</td><td>0.212939</td><td>S</td><td>ENSG00000001561</td></tr>\n",
       "\t<tr><th scope=row>5</th><td>ENPP4 </td><td>+</td><td>2</td><td>protein_coding</td><td>ENSG00000001561.6 </td><td>6</td><td>46097730</td><td>46097730</td><td>ENSG00000001561.6_46111013_46114436 </td><td> 4</td><td>⋯</td><td>-0.169294</td><td>0.000999001</td><td>1.15947e-06</td><td>1</td><td>1</td><td>1</td><td>1</td><td>0.342110</td><td>P</td><td>ENSG00000001561</td></tr>\n",
       "\t<tr><th scope=row>6</th><td>ANKIB1</td><td>+</td><td>2</td><td>protein_coding</td><td>ENSG00000001629.5 </td><td>7</td><td>91875548</td><td>91875548</td><td>ENSG00000001629.5_91948934_91949280 </td><td>21</td><td>⋯</td><td>-0.425168</td><td>0.000999001</td><td>7.29654e-05</td><td>1</td><td>2</td><td>1</td><td>1</td><td>0.258469</td><td>P</td><td>ENSG00000001629</td></tr>\n",
       "</tbody>\n",
       "</table>\n"
      ],
      "text/latex": [
       "A data.frame: 6 × 30\n",
       "\\begin{tabular}{r|lllllllllllllllllllll}\n",
       "  & GeneName & Strand & GencodeLevel & GeneType & GeneID & ChrPheno & StartPheno & EndPheno & BestExonID & NumExons & ⋯ & Slope & EmpiricalAdjustedPval & BetaAdjustedPval & eQTLnum & OrderByDistanceTSS & OrderBySlope & PvalueOrder & Probability & DiscoveryOrder2 & GeneStableID\\\\\n",
       "  & <chr> & <chr> & <int> & <chr> & <chr> & <int> & <int> & <int> & <chr> & <int> & ⋯ & <dbl> & <dbl> & <dbl> & <int> & <int> & <int> & <int> & <dbl> & <chr> & <chr>\\\\\n",
       "\\hline\n",
       "\t1 & GCLC   & - & 2 & protein\\_coding & ENSG00000001084.6  & 6 & 53481768 & 53481768 & ENSG00000001084.6\\_53373974\\_53375246  & 14 & ⋯ & -0.188911 & 0.000999001 & 2.38377e-03 & 1 & 1 & 1 & 1 & 0.271240 & P & ENSG00000001084\\\\\n",
       "\t2 & STPG1  & - & 2 & protein\\_coding & ENSG00000001460.13 & 1 & 24743424 & 24743424 & ENSG00000001460.13\\_24717693\\_24718169 & 10 & ⋯ &  0.320629 & 0.020979000 & 2.08192e-02 & 2 & 1 & 2 & 2 & 0.400682 & S & ENSG00000001460\\\\\n",
       "\t3 & STPG1  & - & 2 & protein\\_coding & ENSG00000001460.13 & 1 & 24743424 & 24743424 & ENSG00000001460.13\\_24717693\\_24718169 & 10 & ⋯ & -0.790738 & 0.000999001 & 4.74265e-44 & 1 & 1 & 1 & 1 & 0.863734 & P & ENSG00000001460\\\\\n",
       "\t4 & ENPP4  & + & 2 & protein\\_coding & ENSG00000001561.6  & 6 & 46097730 & 46097730 & ENSG00000001561.6\\_46107288\\_46108146  &  4 & ⋯ &  0.110524 & 0.011988000 & 1.25329e-02 & 2 & 1 & 2 & 2 & 0.212939 & S & ENSG00000001561\\\\\n",
       "\t5 & ENPP4  & + & 2 & protein\\_coding & ENSG00000001561.6  & 6 & 46097730 & 46097730 & ENSG00000001561.6\\_46111013\\_46114436  &  4 & ⋯ & -0.169294 & 0.000999001 & 1.15947e-06 & 1 & 1 & 1 & 1 & 0.342110 & P & ENSG00000001561\\\\\n",
       "\t6 & ANKIB1 & + & 2 & protein\\_coding & ENSG00000001629.5  & 7 & 91875548 & 91875548 & ENSG00000001629.5\\_91948934\\_91949280  & 21 & ⋯ & -0.425168 & 0.000999001 & 7.29654e-05 & 1 & 2 & 1 & 1 & 0.258469 & P & ENSG00000001629\\\\\n",
       "\\end{tabular}\n"
      ],
      "text/markdown": [
       "\n",
       "A data.frame: 6 × 30\n",
       "\n",
       "| <!--/--> | GeneName &lt;chr&gt; | Strand &lt;chr&gt; | GencodeLevel &lt;int&gt; | GeneType &lt;chr&gt; | GeneID &lt;chr&gt; | ChrPheno &lt;int&gt; | StartPheno &lt;int&gt; | EndPheno &lt;int&gt; | BestExonID &lt;chr&gt; | NumExons &lt;int&gt; | ⋯ ⋯ | Slope &lt;dbl&gt; | EmpiricalAdjustedPval &lt;dbl&gt; | BetaAdjustedPval &lt;dbl&gt; | eQTLnum &lt;int&gt; | OrderByDistanceTSS &lt;int&gt; | OrderBySlope &lt;int&gt; | PvalueOrder &lt;int&gt; | Probability &lt;dbl&gt; | DiscoveryOrder2 &lt;chr&gt; | GeneStableID &lt;chr&gt; |\n",
       "|---|---|---|---|---|---|---|---|---|---|---|---|---|---|---|---|---|---|---|---|---|---|\n",
       "| 1 | GCLC   | - | 2 | protein_coding | ENSG00000001084.6  | 6 | 53481768 | 53481768 | ENSG00000001084.6_53373974_53375246  | 14 | ⋯ | -0.188911 | 0.000999001 | 2.38377e-03 | 1 | 1 | 1 | 1 | 0.271240 | P | ENSG00000001084 |\n",
       "| 2 | STPG1  | - | 2 | protein_coding | ENSG00000001460.13 | 1 | 24743424 | 24743424 | ENSG00000001460.13_24717693_24718169 | 10 | ⋯ |  0.320629 | 0.020979000 | 2.08192e-02 | 2 | 1 | 2 | 2 | 0.400682 | S | ENSG00000001460 |\n",
       "| 3 | STPG1  | - | 2 | protein_coding | ENSG00000001460.13 | 1 | 24743424 | 24743424 | ENSG00000001460.13_24717693_24718169 | 10 | ⋯ | -0.790738 | 0.000999001 | 4.74265e-44 | 1 | 1 | 1 | 1 | 0.863734 | P | ENSG00000001460 |\n",
       "| 4 | ENPP4  | + | 2 | protein_coding | ENSG00000001561.6  | 6 | 46097730 | 46097730 | ENSG00000001561.6_46107288_46108146  |  4 | ⋯ |  0.110524 | 0.011988000 | 1.25329e-02 | 2 | 1 | 2 | 2 | 0.212939 | S | ENSG00000001561 |\n",
       "| 5 | ENPP4  | + | 2 | protein_coding | ENSG00000001561.6  | 6 | 46097730 | 46097730 | ENSG00000001561.6_46111013_46114436  |  4 | ⋯ | -0.169294 | 0.000999001 | 1.15947e-06 | 1 | 1 | 1 | 1 | 0.342110 | P | ENSG00000001561 |\n",
       "| 6 | ANKIB1 | + | 2 | protein_coding | ENSG00000001629.5  | 7 | 91875548 | 91875548 | ENSG00000001629.5_91948934_91949280  | 21 | ⋯ | -0.425168 | 0.000999001 | 7.29654e-05 | 1 | 2 | 1 | 1 | 0.258469 | P | ENSG00000001629 |\n",
       "\n"
      ],
      "text/plain": [
       "  GeneName Strand GencodeLevel GeneType       GeneID             ChrPheno\n",
       "1 GCLC     -      2            protein_coding ENSG00000001084.6  6       \n",
       "2 STPG1    -      2            protein_coding ENSG00000001460.13 1       \n",
       "3 STPG1    -      2            protein_coding ENSG00000001460.13 1       \n",
       "4 ENPP4    +      2            protein_coding ENSG00000001561.6  6       \n",
       "5 ENPP4    +      2            protein_coding ENSG00000001561.6  6       \n",
       "6 ANKIB1   +      2            protein_coding ENSG00000001629.5  7       \n",
       "  StartPheno EndPheno BestExonID                           NumExons ⋯ Slope    \n",
       "1 53481768   53481768 ENSG00000001084.6_53373974_53375246  14       ⋯ -0.188911\n",
       "2 24743424   24743424 ENSG00000001460.13_24717693_24718169 10       ⋯  0.320629\n",
       "3 24743424   24743424 ENSG00000001460.13_24717693_24718169 10       ⋯ -0.790738\n",
       "4 46097730   46097730 ENSG00000001561.6_46107288_46108146   4       ⋯  0.110524\n",
       "5 46097730   46097730 ENSG00000001561.6_46111013_46114436   4       ⋯ -0.169294\n",
       "6 91875548   91875548 ENSG00000001629.5_91948934_91949280  21       ⋯ -0.425168\n",
       "  EmpiricalAdjustedPval BetaAdjustedPval eQTLnum OrderByDistanceTSS\n",
       "1 0.000999001           2.38377e-03      1       1                 \n",
       "2 0.020979000           2.08192e-02      2       1                 \n",
       "3 0.000999001           4.74265e-44      1       1                 \n",
       "4 0.011988000           1.25329e-02      2       1                 \n",
       "5 0.000999001           1.15947e-06      1       1                 \n",
       "6 0.000999001           7.29654e-05      1       2                 \n",
       "  OrderBySlope PvalueOrder Probability DiscoveryOrder2 GeneStableID   \n",
       "1 1            1           0.271240    P               ENSG00000001084\n",
       "2 2            2           0.400682    S               ENSG00000001460\n",
       "3 1            1           0.863734    P               ENSG00000001460\n",
       "4 2            2           0.212939    S               ENSG00000001561\n",
       "5 1            1           0.342110    P               ENSG00000001561\n",
       "6 1            1           0.258469    P               ENSG00000001629"
      ]
     },
     "metadata": {},
     "output_type": "display_data"
    }
   ],
   "source": [
    "library(dplyr)\n",
    "\n",
    "#ind are SNPs in hg19 genome\n",
    "# exons\n",
    "ind <- read.table(\"/nfs/turbo/umms-scjp-pank/vthihong/colocGWAS_T1D/1_exonQTL-inspire-susie/data/PacreaticIslets_independent_Exons_eQTLs.txt\", header = T)\n",
    "ind <- distinct(ind)\n",
    "ind$DiscoveryOrder2 <- ifelse(ind$PvalueOrder == 1, \"P\", \"S\")\n",
    "ind$GeneStableID <- unlist(lapply(strsplit(ind$GeneID, '\\\\.'), '[', 1))\n",
    "head(ind)"
   ]
  },
  {
   "cell_type": "code",
   "execution_count": 6,
   "id": "785a0b73",
   "metadata": {},
   "outputs": [
    {
     "data": {
      "text/html": [
       "<table class=\"dataframe\">\n",
       "<caption>A data.frame: 6 × 6</caption>\n",
       "<thead>\n",
       "\t<tr><th></th><th scope=col>seqnames</th><th scope=col>start</th><th scope=col>end</th><th scope=col>name</th><th scope=col>gene_id</th><th scope=col>exons_id</th></tr>\n",
       "\t<tr><th></th><th scope=col>&lt;chr&gt;</th><th scope=col>&lt;int&gt;</th><th scope=col>&lt;int&gt;</th><th scope=col>&lt;chr&gt;</th><th scope=col>&lt;chr&gt;</th><th scope=col>&lt;chr&gt;</th></tr>\n",
       "</thead>\n",
       "<tbody>\n",
       "\t<tr><th scope=row>1</th><td>chr1</td><td> 958250</td><td> 958251</td><td>NOC2L__rs6605069__ENSG00000188976.6_888555_888668__P          </td><td>ENSG00000188976</td><td>ENSG00000188976.6_888555_888668  </td></tr>\n",
       "\t<tr><th scope=row>2</th><td>chr1</td><td> 998409</td><td> 998410</td><td>RP11-54O7.17__rs9442392__ENSG00000272512.1_931346_933431__P   </td><td>ENSG00000272512</td><td>ENSG00000272512.1_931346_933431  </td></tr>\n",
       "\t<tr><th scope=row>3</th><td>chr1</td><td>1063201</td><td>1063202</td><td>RP11-54O7.18__rs3813194__ENSG00000273443.1_998441_998668__P   </td><td>ENSG00000273443</td><td>ENSG00000273443.1_998441_998668  </td></tr>\n",
       "\t<tr><th scope=row>4</th><td>chr1</td><td>1303111</td><td>1303112</td><td>MRPL20__rs12408158__ENSG00000242485.1_1340489_1342399__P      </td><td>ENSG00000242485</td><td>ENSG00000242485.1_1340489_1342399</td></tr>\n",
       "\t<tr><th scope=row>5</th><td>chr1</td><td>1385552</td><td>1385553</td><td>RP4-758J18.13__rs9661288__ENSG00000272455.1_1344476_1345998__P</td><td>ENSG00000272455</td><td>ENSG00000272455.1_1344476_1345998</td></tr>\n",
       "\t<tr><th scope=row>6</th><td>chr1</td><td>1407231</td><td>1407232</td><td>B3GALT6__rs2275915__ENSG00000176022.3_1167629_1170421__P      </td><td>ENSG00000176022</td><td>ENSG00000176022.3_1167629_1170421</td></tr>\n",
       "</tbody>\n",
       "</table>\n"
      ],
      "text/latex": [
       "A data.frame: 6 × 6\n",
       "\\begin{tabular}{r|llllll}\n",
       "  & seqnames & start & end & name & gene\\_id & exons\\_id\\\\\n",
       "  & <chr> & <int> & <int> & <chr> & <chr> & <chr>\\\\\n",
       "\\hline\n",
       "\t1 & chr1 &  958250 &  958251 & NOC2L\\_\\_rs6605069\\_\\_ENSG00000188976.6\\_888555\\_888668\\_\\_P           & ENSG00000188976 & ENSG00000188976.6\\_888555\\_888668  \\\\\n",
       "\t2 & chr1 &  998409 &  998410 & RP11-54O7.17\\_\\_rs9442392\\_\\_ENSG00000272512.1\\_931346\\_933431\\_\\_P    & ENSG00000272512 & ENSG00000272512.1\\_931346\\_933431  \\\\\n",
       "\t3 & chr1 & 1063201 & 1063202 & RP11-54O7.18\\_\\_rs3813194\\_\\_ENSG00000273443.1\\_998441\\_998668\\_\\_P    & ENSG00000273443 & ENSG00000273443.1\\_998441\\_998668  \\\\\n",
       "\t4 & chr1 & 1303111 & 1303112 & MRPL20\\_\\_rs12408158\\_\\_ENSG00000242485.1\\_1340489\\_1342399\\_\\_P       & ENSG00000242485 & ENSG00000242485.1\\_1340489\\_1342399\\\\\n",
       "\t5 & chr1 & 1385552 & 1385553 & RP4-758J18.13\\_\\_rs9661288\\_\\_ENSG00000272455.1\\_1344476\\_1345998\\_\\_P & ENSG00000272455 & ENSG00000272455.1\\_1344476\\_1345998\\\\\n",
       "\t6 & chr1 & 1407231 & 1407232 & B3GALT6\\_\\_rs2275915\\_\\_ENSG00000176022.3\\_1167629\\_1170421\\_\\_P       & ENSG00000176022 & ENSG00000176022.3\\_1167629\\_1170421\\\\\n",
       "\\end{tabular}\n"
      ],
      "text/markdown": [
       "\n",
       "A data.frame: 6 × 6\n",
       "\n",
       "| <!--/--> | seqnames &lt;chr&gt; | start &lt;int&gt; | end &lt;int&gt; | name &lt;chr&gt; | gene_id &lt;chr&gt; | exons_id &lt;chr&gt; |\n",
       "|---|---|---|---|---|---|---|\n",
       "| 1 | chr1 |  958250 |  958251 | NOC2L__rs6605069__ENSG00000188976.6_888555_888668__P           | ENSG00000188976 | ENSG00000188976.6_888555_888668   |\n",
       "| 2 | chr1 |  998409 |  998410 | RP11-54O7.17__rs9442392__ENSG00000272512.1_931346_933431__P    | ENSG00000272512 | ENSG00000272512.1_931346_933431   |\n",
       "| 3 | chr1 | 1063201 | 1063202 | RP11-54O7.18__rs3813194__ENSG00000273443.1_998441_998668__P    | ENSG00000273443 | ENSG00000273443.1_998441_998668   |\n",
       "| 4 | chr1 | 1303111 | 1303112 | MRPL20__rs12408158__ENSG00000242485.1_1340489_1342399__P       | ENSG00000242485 | ENSG00000242485.1_1340489_1342399 |\n",
       "| 5 | chr1 | 1385552 | 1385553 | RP4-758J18.13__rs9661288__ENSG00000272455.1_1344476_1345998__P | ENSG00000272455 | ENSG00000272455.1_1344476_1345998 |\n",
       "| 6 | chr1 | 1407231 | 1407232 | B3GALT6__rs2275915__ENSG00000176022.3_1167629_1170421__P       | ENSG00000176022 | ENSG00000176022.3_1167629_1170421 |\n",
       "\n"
      ],
      "text/plain": [
       "  seqnames start   end    \n",
       "1 chr1      958250  958251\n",
       "2 chr1      998409  998410\n",
       "3 chr1     1063201 1063202\n",
       "4 chr1     1303111 1303112\n",
       "5 chr1     1385552 1385553\n",
       "6 chr1     1407231 1407232\n",
       "  name                                                          \n",
       "1 NOC2L__rs6605069__ENSG00000188976.6_888555_888668__P          \n",
       "2 RP11-54O7.17__rs9442392__ENSG00000272512.1_931346_933431__P   \n",
       "3 RP11-54O7.18__rs3813194__ENSG00000273443.1_998441_998668__P   \n",
       "4 MRPL20__rs12408158__ENSG00000242485.1_1340489_1342399__P      \n",
       "5 RP4-758J18.13__rs9661288__ENSG00000272455.1_1344476_1345998__P\n",
       "6 B3GALT6__rs2275915__ENSG00000176022.3_1167629_1170421__P      \n",
       "  gene_id         exons_id                         \n",
       "1 ENSG00000188976 ENSG00000188976.6_888555_888668  \n",
       "2 ENSG00000272512 ENSG00000272512.1_931346_933431  \n",
       "3 ENSG00000273443 ENSG00000273443.1_998441_998668  \n",
       "4 ENSG00000242485 ENSG00000242485.1_1340489_1342399\n",
       "5 ENSG00000272455 ENSG00000272455.1_1344476_1345998\n",
       "6 ENSG00000176022 ENSG00000176022.3_1167629_1170421"
      ]
     },
     "metadata": {},
     "output_type": "display_data"
    }
   ],
   "source": [
    "#lead are SNPs in hg38 genome and matching with ukbb\n",
    "lead <- read.table(\"/nfs/turbo/umms-scjp-pank/vthihong/colocGWAS_T1D/2_t1d-eQTL-coloc/results/hg38/eqtl_Exons_leads/eqtl_Exons.bed.gz\",\n",
    "                   comment.char = \"\", header = T, fill = T)\n",
    "lead <- inner_join(lead, ind[, c(\"Nominal_Pval\",  \"GeneStableID\", \"DiscoveryOrder2\")], by = c(\"Pvalue\" = \"Nominal_Pval\", \"GeneStableID\" = \"GeneStableID\"))\n",
    "lead <- distinct(lead)\n",
    "df38 <- data.frame(seqnames = lead$X.snp_chrom, start = lead$snp_start, end = lead$snp_end,\n",
    "                   name = paste0(lead$GeneName, \"__\", lead$SNP, \"__\", lead$ExonsID, \"__\", lead$DiscoveryOrder2),\n",
    "                   gene_id = lead$GeneStableID, exons_id = lead$ExonsID)\n",
    "\n",
    "head(df38)"
   ]
  },
  {
   "cell_type": "code",
   "execution_count": 7,
   "id": "071a8af2",
   "metadata": {},
   "outputs": [
    {
     "data": {
      "text/html": [
       "<table class=\"dataframe\">\n",
       "<caption>A data.frame: 6 × 7</caption>\n",
       "<thead>\n",
       "\t<tr><th></th><th scope=col>chr</th><th scope=col>start</th><th scope=col>end</th><th scope=col>locus</th><th scope=col>gene_id</th><th scope=col>eqtl_input</th><th scope=col>exons_id</th></tr>\n",
       "\t<tr><th></th><th scope=col>&lt;chr&gt;</th><th scope=col>&lt;int&gt;</th><th scope=col>&lt;int&gt;</th><th scope=col>&lt;chr&gt;</th><th scope=col>&lt;chr&gt;</th><th scope=col>&lt;chr&gt;</th><th scope=col>&lt;chr&gt;</th></tr>\n",
       "</thead>\n",
       "<tbody>\n",
       "\t<tr><th scope=row>1</th><td>chr1</td><td> 959309</td><td> 959310</td><td>NOC2L__rs6605069__ENSG00000188976.6_888555_888668__P          </td><td>ENSG00000188976</td><td>/nfs/turbo/umms-scjp-pank/vthihong/colocGWAS_T1D/2_t1d-eQTL-coloc/results/hg38/eqtl_Exons_indexed/ENSG00000188976.6__InsPIRE_Islets_Exons__1:944203.bed.gz </td><td>ENSG00000188976.6_888555_888668  </td></tr>\n",
       "\t<tr><th scope=row>2</th><td>chr1</td><td> 998051</td><td> 998052</td><td>RP11-54O7.17__rs9442392__ENSG00000272512.1_931346_933431__P   </td><td>ENSG00000272512</td><td>/nfs/turbo/umms-scjp-pank/vthihong/colocGWAS_T1D/2_t1d-eQTL-coloc/results/hg38/eqtl_Exons_indexed/ENSG00000272512.1__InsPIRE_Islets_Exons__1:995966.bed.gz </td><td>ENSG00000272512.1_931346_933431  </td></tr>\n",
       "\t<tr><th scope=row>3</th><td>chr1</td><td>1063288</td><td>1063289</td><td>RP11-54O7.18__rs3813194__ENSG00000273443.1_998441_998668__P   </td><td>ENSG00000273443</td><td>/nfs/turbo/umms-scjp-pank/vthihong/colocGWAS_T1D/2_t1d-eQTL-coloc/results/hg38/eqtl_Exons_indexed/ENSG00000273443.1__InsPIRE_Islets_Exons__1:1062208.bed.gz</td><td>ENSG00000273443.1_998441_998668  </td></tr>\n",
       "\t<tr><th scope=row>4</th><td>chr1</td><td>1407313</td><td>1407314</td><td>MRPL20__rs12408158__ENSG00000242485.1_1340489_1342399__P      </td><td>ENSG00000242485</td><td>/nfs/turbo/umms-scjp-pank/vthihong/colocGWAS_T1D/2_t1d-eQTL-coloc/results/hg38/eqtl_Exons_indexed/ENSG00000242485.1__InsPIRE_Islets_Exons__1:1401909.bed.gz</td><td>ENSG00000242485.1_1340489_1342399</td></tr>\n",
       "\t<tr><th scope=row>5</th><td>chr1</td><td>1409096</td><td>1409097</td><td>RP4-758J18.13__rs9661288__ENSG00000272455.1_1344476_1345998__P</td><td>ENSG00000272455</td><td>/nfs/turbo/umms-scjp-pank/vthihong/colocGWAS_T1D/2_t1d-eQTL-coloc/results/hg38/eqtl_Exons_indexed/ENSG00000272455.1__InsPIRE_Islets_Exons__1:1409096.bed.gz</td><td>ENSG00000272455.1_1344476_1345998</td></tr>\n",
       "\t<tr><th scope=row>6</th><td>chr1</td><td>1232265</td><td>1232266</td><td>B3GALT6__rs2275915__ENSG00000176022.3_1167629_1170421__P      </td><td>ENSG00000176022</td><td>/nfs/turbo/umms-scjp-pank/vthihong/colocGWAS_T1D/2_t1d-eQTL-coloc/results/hg38/eqtl_Exons_indexed/ENSG00000176022.3__InsPIRE_Islets_Exons__1:1232237.bed.gz</td><td>ENSG00000176022.3_1167629_1170421</td></tr>\n",
       "</tbody>\n",
       "</table>\n"
      ],
      "text/latex": [
       "A data.frame: 6 × 7\n",
       "\\begin{tabular}{r|lllllll}\n",
       "  & chr & start & end & locus & gene\\_id & eqtl\\_input & exons\\_id\\\\\n",
       "  & <chr> & <int> & <int> & <chr> & <chr> & <chr> & <chr>\\\\\n",
       "\\hline\n",
       "\t1 & chr1 &  959309 &  959310 & NOC2L\\_\\_rs6605069\\_\\_ENSG00000188976.6\\_888555\\_888668\\_\\_P           & ENSG00000188976 & /nfs/turbo/umms-scjp-pank/vthihong/colocGWAS\\_T1D/2\\_t1d-eQTL-coloc/results/hg38/eqtl\\_Exons\\_indexed/ENSG00000188976.6\\_\\_InsPIRE\\_Islets\\_Exons\\_\\_1:944203.bed.gz  & ENSG00000188976.6\\_888555\\_888668  \\\\\n",
       "\t2 & chr1 &  998051 &  998052 & RP11-54O7.17\\_\\_rs9442392\\_\\_ENSG00000272512.1\\_931346\\_933431\\_\\_P    & ENSG00000272512 & /nfs/turbo/umms-scjp-pank/vthihong/colocGWAS\\_T1D/2\\_t1d-eQTL-coloc/results/hg38/eqtl\\_Exons\\_indexed/ENSG00000272512.1\\_\\_InsPIRE\\_Islets\\_Exons\\_\\_1:995966.bed.gz  & ENSG00000272512.1\\_931346\\_933431  \\\\\n",
       "\t3 & chr1 & 1063288 & 1063289 & RP11-54O7.18\\_\\_rs3813194\\_\\_ENSG00000273443.1\\_998441\\_998668\\_\\_P    & ENSG00000273443 & /nfs/turbo/umms-scjp-pank/vthihong/colocGWAS\\_T1D/2\\_t1d-eQTL-coloc/results/hg38/eqtl\\_Exons\\_indexed/ENSG00000273443.1\\_\\_InsPIRE\\_Islets\\_Exons\\_\\_1:1062208.bed.gz & ENSG00000273443.1\\_998441\\_998668  \\\\\n",
       "\t4 & chr1 & 1407313 & 1407314 & MRPL20\\_\\_rs12408158\\_\\_ENSG00000242485.1\\_1340489\\_1342399\\_\\_P       & ENSG00000242485 & /nfs/turbo/umms-scjp-pank/vthihong/colocGWAS\\_T1D/2\\_t1d-eQTL-coloc/results/hg38/eqtl\\_Exons\\_indexed/ENSG00000242485.1\\_\\_InsPIRE\\_Islets\\_Exons\\_\\_1:1401909.bed.gz & ENSG00000242485.1\\_1340489\\_1342399\\\\\n",
       "\t5 & chr1 & 1409096 & 1409097 & RP4-758J18.13\\_\\_rs9661288\\_\\_ENSG00000272455.1\\_1344476\\_1345998\\_\\_P & ENSG00000272455 & /nfs/turbo/umms-scjp-pank/vthihong/colocGWAS\\_T1D/2\\_t1d-eQTL-coloc/results/hg38/eqtl\\_Exons\\_indexed/ENSG00000272455.1\\_\\_InsPIRE\\_Islets\\_Exons\\_\\_1:1409096.bed.gz & ENSG00000272455.1\\_1344476\\_1345998\\\\\n",
       "\t6 & chr1 & 1232265 & 1232266 & B3GALT6\\_\\_rs2275915\\_\\_ENSG00000176022.3\\_1167629\\_1170421\\_\\_P       & ENSG00000176022 & /nfs/turbo/umms-scjp-pank/vthihong/colocGWAS\\_T1D/2\\_t1d-eQTL-coloc/results/hg38/eqtl\\_Exons\\_indexed/ENSG00000176022.3\\_\\_InsPIRE\\_Islets\\_Exons\\_\\_1:1232237.bed.gz & ENSG00000176022.3\\_1167629\\_1170421\\\\\n",
       "\\end{tabular}\n"
      ],
      "text/markdown": [
       "\n",
       "A data.frame: 6 × 7\n",
       "\n",
       "| <!--/--> | chr &lt;chr&gt; | start &lt;int&gt; | end &lt;int&gt; | locus &lt;chr&gt; | gene_id &lt;chr&gt; | eqtl_input &lt;chr&gt; | exons_id &lt;chr&gt; |\n",
       "|---|---|---|---|---|---|---|---|\n",
       "| 1 | chr1 |  959309 |  959310 | NOC2L__rs6605069__ENSG00000188976.6_888555_888668__P           | ENSG00000188976 | /nfs/turbo/umms-scjp-pank/vthihong/colocGWAS_T1D/2_t1d-eQTL-coloc/results/hg38/eqtl_Exons_indexed/ENSG00000188976.6__InsPIRE_Islets_Exons__1:944203.bed.gz  | ENSG00000188976.6_888555_888668   |\n",
       "| 2 | chr1 |  998051 |  998052 | RP11-54O7.17__rs9442392__ENSG00000272512.1_931346_933431__P    | ENSG00000272512 | /nfs/turbo/umms-scjp-pank/vthihong/colocGWAS_T1D/2_t1d-eQTL-coloc/results/hg38/eqtl_Exons_indexed/ENSG00000272512.1__InsPIRE_Islets_Exons__1:995966.bed.gz  | ENSG00000272512.1_931346_933431   |\n",
       "| 3 | chr1 | 1063288 | 1063289 | RP11-54O7.18__rs3813194__ENSG00000273443.1_998441_998668__P    | ENSG00000273443 | /nfs/turbo/umms-scjp-pank/vthihong/colocGWAS_T1D/2_t1d-eQTL-coloc/results/hg38/eqtl_Exons_indexed/ENSG00000273443.1__InsPIRE_Islets_Exons__1:1062208.bed.gz | ENSG00000273443.1_998441_998668   |\n",
       "| 4 | chr1 | 1407313 | 1407314 | MRPL20__rs12408158__ENSG00000242485.1_1340489_1342399__P       | ENSG00000242485 | /nfs/turbo/umms-scjp-pank/vthihong/colocGWAS_T1D/2_t1d-eQTL-coloc/results/hg38/eqtl_Exons_indexed/ENSG00000242485.1__InsPIRE_Islets_Exons__1:1401909.bed.gz | ENSG00000242485.1_1340489_1342399 |\n",
       "| 5 | chr1 | 1409096 | 1409097 | RP4-758J18.13__rs9661288__ENSG00000272455.1_1344476_1345998__P | ENSG00000272455 | /nfs/turbo/umms-scjp-pank/vthihong/colocGWAS_T1D/2_t1d-eQTL-coloc/results/hg38/eqtl_Exons_indexed/ENSG00000272455.1__InsPIRE_Islets_Exons__1:1409096.bed.gz | ENSG00000272455.1_1344476_1345998 |\n",
       "| 6 | chr1 | 1232265 | 1232266 | B3GALT6__rs2275915__ENSG00000176022.3_1167629_1170421__P       | ENSG00000176022 | /nfs/turbo/umms-scjp-pank/vthihong/colocGWAS_T1D/2_t1d-eQTL-coloc/results/hg38/eqtl_Exons_indexed/ENSG00000176022.3__InsPIRE_Islets_Exons__1:1232237.bed.gz | ENSG00000176022.3_1167629_1170421 |\n",
       "\n"
      ],
      "text/plain": [
       "  chr  start   end    \n",
       "1 chr1  959309  959310\n",
       "2 chr1  998051  998052\n",
       "3 chr1 1063288 1063289\n",
       "4 chr1 1407313 1407314\n",
       "5 chr1 1409096 1409097\n",
       "6 chr1 1232265 1232266\n",
       "  locus                                                         \n",
       "1 NOC2L__rs6605069__ENSG00000188976.6_888555_888668__P          \n",
       "2 RP11-54O7.17__rs9442392__ENSG00000272512.1_931346_933431__P   \n",
       "3 RP11-54O7.18__rs3813194__ENSG00000273443.1_998441_998668__P   \n",
       "4 MRPL20__rs12408158__ENSG00000242485.1_1340489_1342399__P      \n",
       "5 RP4-758J18.13__rs9661288__ENSG00000272455.1_1344476_1345998__P\n",
       "6 B3GALT6__rs2275915__ENSG00000176022.3_1167629_1170421__P      \n",
       "  gene_id        \n",
       "1 ENSG00000188976\n",
       "2 ENSG00000272512\n",
       "3 ENSG00000273443\n",
       "4 ENSG00000242485\n",
       "5 ENSG00000272455\n",
       "6 ENSG00000176022\n",
       "  eqtl_input                                                                                                                                                 \n",
       "1 /nfs/turbo/umms-scjp-pank/vthihong/colocGWAS_T1D/2_t1d-eQTL-coloc/results/hg38/eqtl_Exons_indexed/ENSG00000188976.6__InsPIRE_Islets_Exons__1:944203.bed.gz \n",
       "2 /nfs/turbo/umms-scjp-pank/vthihong/colocGWAS_T1D/2_t1d-eQTL-coloc/results/hg38/eqtl_Exons_indexed/ENSG00000272512.1__InsPIRE_Islets_Exons__1:995966.bed.gz \n",
       "3 /nfs/turbo/umms-scjp-pank/vthihong/colocGWAS_T1D/2_t1d-eQTL-coloc/results/hg38/eqtl_Exons_indexed/ENSG00000273443.1__InsPIRE_Islets_Exons__1:1062208.bed.gz\n",
       "4 /nfs/turbo/umms-scjp-pank/vthihong/colocGWAS_T1D/2_t1d-eQTL-coloc/results/hg38/eqtl_Exons_indexed/ENSG00000242485.1__InsPIRE_Islets_Exons__1:1401909.bed.gz\n",
       "5 /nfs/turbo/umms-scjp-pank/vthihong/colocGWAS_T1D/2_t1d-eQTL-coloc/results/hg38/eqtl_Exons_indexed/ENSG00000272455.1__InsPIRE_Islets_Exons__1:1409096.bed.gz\n",
       "6 /nfs/turbo/umms-scjp-pank/vthihong/colocGWAS_T1D/2_t1d-eQTL-coloc/results/hg38/eqtl_Exons_indexed/ENSG00000176022.3__InsPIRE_Islets_Exons__1:1232237.bed.gz\n",
       "  exons_id                         \n",
       "1 ENSG00000188976.6_888555_888668  \n",
       "2 ENSG00000272512.1_931346_933431  \n",
       "3 ENSG00000273443.1_998441_998668  \n",
       "4 ENSG00000242485.1_1340489_1342399\n",
       "5 ENSG00000272455.1_1344476_1345998\n",
       "6 ENSG00000176022.3_1167629_1170421"
      ]
     },
     "metadata": {},
     "output_type": "display_data"
    }
   ],
   "source": [
    "files <- list.files(\"/nfs/turbo/umms-scjp-pank/vthihong/colocGWAS_T1D/2_t1d-eQTL-coloc/results/hg38/eqtl_Exons_indexed/\", pattern = \"gz\")\n",
    "files <- files[grep(\"tbi\", files, invert = T)]\n",
    "file_df <- data.frame(eqtl_input = files)\n",
    "file_df$gene <- unlist(lapply(strsplit(file_df$eqtl_input, '__'), '[', 1))\n",
    "file_df$GeneStableID <- unlist(lapply(strsplit(file_df$gene, '\\\\.'), '[', 1))\n",
    "\n",
    "df38 <- inner_join(df38, file_df, by = c(\"gene_id\" = \"GeneStableID\"))\n",
    "df38$eqtl_input <- paste0(\"/nfs/turbo/umms-scjp-pank/vthihong/colocGWAS_T1D/2_t1d-eQTL-coloc/results/hg38/eqtl_Exons_indexed/\",\n",
    "                          df38$eqtl_input)\n",
    "\n",
    "tss <- read.table(\"/scratch/scjp_root/scjp99/vthihong/genome/geneTSS.bed\", header = F)\n",
    "df38 <- inner_join(df38, tss[, c(1, 2, 3, 6)], by = c(\"gene_id\" = \"V6\"))\n",
    "df <- df38[, c(\"V1\", \"V2\", \"V3\", \"name\", \"gene_id\", \"eqtl_input\", \"exons_id\")]\n",
    "colnames(df) <- c(\"chr\", \"start\", \"end\", \"locus\", \"gene_id\", \"eqtl_input\", \"exons_id\")\n",
    "head(df)\n",
    "\n",
    "write.table(df, row.names = F, sep = \"\\t\", quote = F,\n",
    "            \"/nfs/turbo/umms-scjp-pank/vthihong/colocGWAS_T1D/1_exonQTL-inspire-susie/data/exons_eQTLs-selected.tsv\")"
   ]
  },
  {
   "cell_type": "markdown",
   "id": "c005a277",
   "metadata": {},
   "source": [
    "Save the `df` object in a file named `exons_eQTLs-selected.tsv`"
   ]
  },
  {
   "cell_type": "markdown",
   "id": "9ddea941",
   "metadata": {},
   "source": [
    "## Step 3: Set up scripts for every eGene of interest"
   ]
  },
  {
   "cell_type": "markdown",
   "id": "193ca363",
   "metadata": {},
   "source": [
    "First, we need to set up a config file with some house-keeping information such as directory of files and parameters. See example in `config.yaml`. The file `exons_eQTLs-selected.tsv` is used for `trait1-leads` and `selected-stats`. Then, we can use `scripts/make_susie-sh.py` script to create a SLURM job per region of interest."
   ]
  },
  {
   "cell_type": "markdown",
   "id": "b02e6bcd",
   "metadata": {},
   "source": [
    "Important note: the script `scripts/make_susie-sh.py` requires two other scripts that should be specified in the config file, namely:\n",
    "```\n",
    "prep-template: \"{base}/scripts/dosage-template.sh\"\n",
    "susie-template: \"{base}/scripts/susie-template.sh\"\n",
    "```\n",
    "\n",
    "```\n",
    "cd /scratch/scjp_root/scjp99/vthihong/2_PanKBase/colocGWAS_T1D/1_exonQTL-inspire-susie/results/susie-region\n",
    "\n",
    "python /scratch/scjp_root/scjp99/vthihong/2_PanKBase/colocGWAS_T1D/1_exonQTL-inspire-susie/scripts/make_susie-sh.py --config /scratch/scjp_root/scjp99/vthihong/2_PanKBase/colocGWAS_T1D/1_exonQTL-inspire-susie/scripts/config.yaml\n",
    "```"
   ]
  },
  {
   "cell_type": "markdown",
   "id": "55448236",
   "metadata": {},
   "source": [
    "At this point, we have a series of individual scripts for each region, with names in the format `exons_eQTLs__<locus name, no other special characters like ;() etc>__<lead snp rsid>__<exon IDs>__<primary P or secondary S>__<region>__<window>.susieprep.sh` and `exons_eQTLs__<locus name, no other special characters like ;() etc>__<lead snp rsid>__<exon IDs>__<primary P or secondary S>__<region>__<window>.susie.sh`. The `*susieprep.sh` is necessary to fetch information such as variants and dosages. The `*susie.sh` is to run the fine-mapping analysis."
   ]
  },
  {
   "cell_type": "markdown",
   "id": "a0693801",
   "metadata": {},
   "source": [
    "Example of a `susieprep.sh` file is as the following:\n",
    "```\n",
    "cat exons_eQTLs__A4GALT__rs8138197__ENSG00000128274.11_43088127_43090003__P__chr22-42471298-42971299__250kb.susieprep.sh\n",
    "\n",
    "#!/bin/bash\n",
    "\n",
    "## fetch variants in the region and intersect UKBB and FUSION vcfs\n",
    "for i in /scratch/scjp_root/scjp99/vthihong/2_PanKBase/colocGWAS_T1D/0_data/hg38/chr22.imputed.poly.vcf.gz; do tabix $i chr22:42471298-42971299 | awk '{if (($0 !~ /^#/ && $0 !~ /^chr/)) print \"chr\"$0; else print $0}' ; done | sort | uniq > exons_eQTLs__A4GALT__rs8138197__ENSG00000128274.11_43088127_43090003__P__chr22-42471298-42971299__250kb.ukbb.genotypes\n",
    "zcat /scratch/scjp_root/scjp99/vthihong/2_PanKBase/colocGWAS_T1D/0_data/hg38/chr22.imputed.poly.vcf.gz | head -10000 | awk '{if (($0 ~ /^#/)) print $0}' > exons_eQTLs__A4GALT__rs8138197__ENSG00000128274.11_43088127_43090003__P__chr22-42471298-42971299__250kb.ukbb.header\n",
    "cat exons_eQTLs__A4GALT__rs8138197__ENSG00000128274.11_43088127_43090003__P__chr22-42471298-42971299__250kb.ukbb.header exons_eQTLs__A4GALT__rs8138197__ENSG00000128274.11_43088127_43090003__P__chr22-42471298-42971299__250kb.ukbb.genotypes | bgzip -c > exons_eQTLs__A4GALT__rs8138197__ENSG00000128274.11_43088127_43090003__P__chr22-42471298-42971299__250kb.ukbb.vcf.gz; tabix exons_eQTLs__A4GALT__rs8138197__ENSG00000128274.11_43088127_43090003__P__chr22-42471298-42971299__250kb.ukbb.vcf.gz\n",
    "rm exons_eQTLs__A4GALT__rs8138197__ENSG00000128274.11_43088127_43090003__P__chr22-42471298-42971299__250kb.ukbb.genotypes exons_eQTLs__A4GALT__rs8138197__ENSG00000128274.11_43088127_43090003__P__chr22-42471298-42971299__250kb.ukbb.header\n",
    "\n",
    "## fetch UKBB dosages \n",
    "zcat exons_eQTLs__A4GALT__rs8138197__ENSG00000128274.11_43088127_43090003__P__chr22-42471298-42971299__250kb.ukbb.vcf.gz | head -10000 | awk -F'\\t' '{if (($0 ~/^#CHROM/)) print $0}' OFS='\\t' | sed -e 's:#CHROM\\tPOS\\tID\\tREF\\tALT\\tQUAL\\tFILTER\\tINFO\\tFORMAT:ID:g' > exons_eQTLs__A4GALT__rs8138197__ENSG00000128274.11_43088127_43090003__P__chr22-42471298-42971299__250kb.ukbb-header.txt \n",
    "bcftools query -f \"%ID-%REF-%ALT[\\t%DS]\\n\" exons_eQTLs__A4GALT__rs8138197__ENSG00000128274.11_43088127_43090003__P__chr22-42471298-42971299__250kb.ukbb.vcf.gz | cat exons_eQTLs__A4GALT__rs8138197__ENSG00000128274.11_43088127_43090003__P__chr22-42471298-42971299__250kb.ukbb-header.txt - > exons_eQTLs__A4GALT__rs8138197__ENSG00000128274.11_43088127_43090003__P__chr22-42471298-42971299__250kb.ukbb-dosages.tsv \n",
    "\n",
    "## bgzip to save space\n",
    "module load Bioinformatics\n",
    "module load Bioinformatics  gcc/10.3.0-k2osx5y\n",
    "module load samtools/1.13-fwwss5n\n",
    "\n",
    "bgzip -@ 2 exons_eQTLs__A4GALT__rs8138197__ENSG00000128274.11_43088127_43090003__P__chr22-42471298-42971299__250kb.ukbb-dosages.tsv\n",
    "\n",
    "## cleanup\n",
    "rm -rf exons_eQTLs__A4GALT__rs8138197__ENSG00000128274.11_43088127_43090003__P__chr22-42471298-42971299__250kb.ukbb-header.txt exons_eQTLs__A4GALT__rs8138197__ENSG00000128274.11_43088127_43090003__P__chr22-42471298-42971299__250kb.ukbb.vcf.gz*\n",
    "```"
   ]
  },
  {
   "cell_type": "markdown",
   "id": "2106c9ec",
   "metadata": {},
   "source": [
    "Example of a `susie.sh` file is as the following:\n",
    "```\n",
    "cat exons_eQTLs__A4GALT__rs8138197__ENSG00000128274.11_43088127_43090003__P__chr22-42471298-42971299__250kb.susie.sh \n",
    "\n",
    "#!/bin/bash\n",
    "\n",
    "################## running SuSiE for  exons_eQTLs__A4GALT__rs8138197__ENSG00000128274.11_43088127_43090003__P__chr22-42471298-42971299__250kb:\n",
    "\n",
    "## Susie \n",
    "/scratch/scjp_root/scjp99/vthihong/2_PanKBase/colocGWAS_T1D/1_exonQTL-inspire-susie/scripts/susie-eqtl.R --prefix exons_eQTLs__A4GALT__rs8138197__ENSG00000128274.11_43088127_43090003__P__chr22-42471298-42971299__250kb --type quant --beta beta --p p_nominal --effect ALT --non_effect REF --sdY 1 --coverage 0.95 --maxit 10000 --min_abs_corr 0.1 --s_threshold 0.3 --number_signals_default 10 --number_signals_high_s 1 --marker rs8138197 --trait1 /scratch/scjp_root/scjp99/vthihong/2_PanKBase/colocGWAS_T1D/2_t1d-eQTL-coloc/results/hg38/eqtl_Exons_indexed/ENSG00000128274.11__InsPIRE_Islets_Exons__22:42692121.bed.gz --trait1_ld exons_eQTLs__A4GALT__rs8138197__ENSG00000128274.11_43088127_43090003__P__chr22-42471298-42971299__250kb.ukbb-dosages.tsv.gz  --exon_id ENSG00000128274.11_43088127_43090003\n",
    "```"
   ]
  },
  {
   "cell_type": "markdown",
   "id": "ab2b1dac",
   "metadata": {},
   "source": [
    "## Step 4: Conduct fine-mapping analysis for all regions of interest"
   ]
  },
  {
   "cell_type": "markdown",
   "id": "495f180f",
   "metadata": {},
   "source": [
    "After we set up analysis scripts for each eGene, we can run the analysis for every eGene using Snakemake. See example of a Snakemake file at `scripts/susie.sf`."
   ]
  },
  {
   "cell_type": "markdown",
   "id": "a9a5388e",
   "metadata": {},
   "source": [
    "Signals of each eGene by default will be saved in a R object names `*.susie.Rda`."
   ]
  },
  {
   "cell_type": "markdown",
   "id": "30bf000c",
   "metadata": {},
   "source": [
    "## Step 5: Obtain output files for PanKgraph"
   ]
  },
  {
   "cell_type": "markdown",
   "id": "227f74c2",
   "metadata": {},
   "source": [
    "For the purpose of PanKgraph, we will extract some outputs into text files. Example of code is the following:"
   ]
  },
  {
   "cell_type": "code",
   "execution_count": 8,
   "id": "a8f65afa",
   "metadata": {},
   "outputs": [],
   "source": [
    "library(glue)\n",
    "library(tidyr)\n",
    "suppressPackageStartupMessages(library(dplyr))"
   ]
  },
  {
   "cell_type": "code",
   "execution_count": 9,
   "id": "443c3bde",
   "metadata": {},
   "outputs": [
    {
     "data": {
      "text/html": [
       "<table class=\"dataframe\">\n",
       "<caption>A data.frame: 6 × 7</caption>\n",
       "<thead>\n",
       "\t<tr><th></th><th scope=col>chr</th><th scope=col>start</th><th scope=col>end</th><th scope=col>locus</th><th scope=col>gene_id</th><th scope=col>eqtl_input</th><th scope=col>exons_id</th></tr>\n",
       "\t<tr><th></th><th scope=col>&lt;chr&gt;</th><th scope=col>&lt;int&gt;</th><th scope=col>&lt;int&gt;</th><th scope=col>&lt;chr&gt;</th><th scope=col>&lt;chr&gt;</th><th scope=col>&lt;chr&gt;</th><th scope=col>&lt;chr&gt;</th></tr>\n",
       "</thead>\n",
       "<tbody>\n",
       "\t<tr><th scope=row>1</th><td>chr1</td><td> 959309</td><td> 959310</td><td>NOC2L__rs6605069__ENSG00000188976.6_888555_888668__P          </td><td>ENSG00000188976</td><td>/nfs/turbo/umms-scjp-pank/vthihong/colocGWAS_T1D/2_t1d-eQTL-coloc/results/hg38/eqtl_Exons_indexed/ENSG00000188976.6__InsPIRE_Islets_Exons__1:944203.bed.gz </td><td>ENSG00000188976.6_888555_888668  </td></tr>\n",
       "\t<tr><th scope=row>2</th><td>chr1</td><td> 998051</td><td> 998052</td><td>RP11-54O7.17__rs9442392__ENSG00000272512.1_931346_933431__P   </td><td>ENSG00000272512</td><td>/nfs/turbo/umms-scjp-pank/vthihong/colocGWAS_T1D/2_t1d-eQTL-coloc/results/hg38/eqtl_Exons_indexed/ENSG00000272512.1__InsPIRE_Islets_Exons__1:995966.bed.gz </td><td>ENSG00000272512.1_931346_933431  </td></tr>\n",
       "\t<tr><th scope=row>3</th><td>chr1</td><td>1063288</td><td>1063289</td><td>RP11-54O7.18__rs3813194__ENSG00000273443.1_998441_998668__P   </td><td>ENSG00000273443</td><td>/nfs/turbo/umms-scjp-pank/vthihong/colocGWAS_T1D/2_t1d-eQTL-coloc/results/hg38/eqtl_Exons_indexed/ENSG00000273443.1__InsPIRE_Islets_Exons__1:1062208.bed.gz</td><td>ENSG00000273443.1_998441_998668  </td></tr>\n",
       "\t<tr><th scope=row>4</th><td>chr1</td><td>1407313</td><td>1407314</td><td>MRPL20__rs12408158__ENSG00000242485.1_1340489_1342399__P      </td><td>ENSG00000242485</td><td>/nfs/turbo/umms-scjp-pank/vthihong/colocGWAS_T1D/2_t1d-eQTL-coloc/results/hg38/eqtl_Exons_indexed/ENSG00000242485.1__InsPIRE_Islets_Exons__1:1401909.bed.gz</td><td>ENSG00000242485.1_1340489_1342399</td></tr>\n",
       "\t<tr><th scope=row>5</th><td>chr1</td><td>1409096</td><td>1409097</td><td>RP4-758J18.13__rs9661288__ENSG00000272455.1_1344476_1345998__P</td><td>ENSG00000272455</td><td>/nfs/turbo/umms-scjp-pank/vthihong/colocGWAS_T1D/2_t1d-eQTL-coloc/results/hg38/eqtl_Exons_indexed/ENSG00000272455.1__InsPIRE_Islets_Exons__1:1409096.bed.gz</td><td>ENSG00000272455.1_1344476_1345998</td></tr>\n",
       "\t<tr><th scope=row>6</th><td>chr1</td><td>1232265</td><td>1232266</td><td>B3GALT6__rs2275915__ENSG00000176022.3_1167629_1170421__P      </td><td>ENSG00000176022</td><td>/nfs/turbo/umms-scjp-pank/vthihong/colocGWAS_T1D/2_t1d-eQTL-coloc/results/hg38/eqtl_Exons_indexed/ENSG00000176022.3__InsPIRE_Islets_Exons__1:1232237.bed.gz</td><td>ENSG00000176022.3_1167629_1170421</td></tr>\n",
       "</tbody>\n",
       "</table>\n"
      ],
      "text/latex": [
       "A data.frame: 6 × 7\n",
       "\\begin{tabular}{r|lllllll}\n",
       "  & chr & start & end & locus & gene\\_id & eqtl\\_input & exons\\_id\\\\\n",
       "  & <chr> & <int> & <int> & <chr> & <chr> & <chr> & <chr>\\\\\n",
       "\\hline\n",
       "\t1 & chr1 &  959309 &  959310 & NOC2L\\_\\_rs6605069\\_\\_ENSG00000188976.6\\_888555\\_888668\\_\\_P           & ENSG00000188976 & /nfs/turbo/umms-scjp-pank/vthihong/colocGWAS\\_T1D/2\\_t1d-eQTL-coloc/results/hg38/eqtl\\_Exons\\_indexed/ENSG00000188976.6\\_\\_InsPIRE\\_Islets\\_Exons\\_\\_1:944203.bed.gz  & ENSG00000188976.6\\_888555\\_888668  \\\\\n",
       "\t2 & chr1 &  998051 &  998052 & RP11-54O7.17\\_\\_rs9442392\\_\\_ENSG00000272512.1\\_931346\\_933431\\_\\_P    & ENSG00000272512 & /nfs/turbo/umms-scjp-pank/vthihong/colocGWAS\\_T1D/2\\_t1d-eQTL-coloc/results/hg38/eqtl\\_Exons\\_indexed/ENSG00000272512.1\\_\\_InsPIRE\\_Islets\\_Exons\\_\\_1:995966.bed.gz  & ENSG00000272512.1\\_931346\\_933431  \\\\\n",
       "\t3 & chr1 & 1063288 & 1063289 & RP11-54O7.18\\_\\_rs3813194\\_\\_ENSG00000273443.1\\_998441\\_998668\\_\\_P    & ENSG00000273443 & /nfs/turbo/umms-scjp-pank/vthihong/colocGWAS\\_T1D/2\\_t1d-eQTL-coloc/results/hg38/eqtl\\_Exons\\_indexed/ENSG00000273443.1\\_\\_InsPIRE\\_Islets\\_Exons\\_\\_1:1062208.bed.gz & ENSG00000273443.1\\_998441\\_998668  \\\\\n",
       "\t4 & chr1 & 1407313 & 1407314 & MRPL20\\_\\_rs12408158\\_\\_ENSG00000242485.1\\_1340489\\_1342399\\_\\_P       & ENSG00000242485 & /nfs/turbo/umms-scjp-pank/vthihong/colocGWAS\\_T1D/2\\_t1d-eQTL-coloc/results/hg38/eqtl\\_Exons\\_indexed/ENSG00000242485.1\\_\\_InsPIRE\\_Islets\\_Exons\\_\\_1:1401909.bed.gz & ENSG00000242485.1\\_1340489\\_1342399\\\\\n",
       "\t5 & chr1 & 1409096 & 1409097 & RP4-758J18.13\\_\\_rs9661288\\_\\_ENSG00000272455.1\\_1344476\\_1345998\\_\\_P & ENSG00000272455 & /nfs/turbo/umms-scjp-pank/vthihong/colocGWAS\\_T1D/2\\_t1d-eQTL-coloc/results/hg38/eqtl\\_Exons\\_indexed/ENSG00000272455.1\\_\\_InsPIRE\\_Islets\\_Exons\\_\\_1:1409096.bed.gz & ENSG00000272455.1\\_1344476\\_1345998\\\\\n",
       "\t6 & chr1 & 1232265 & 1232266 & B3GALT6\\_\\_rs2275915\\_\\_ENSG00000176022.3\\_1167629\\_1170421\\_\\_P       & ENSG00000176022 & /nfs/turbo/umms-scjp-pank/vthihong/colocGWAS\\_T1D/2\\_t1d-eQTL-coloc/results/hg38/eqtl\\_Exons\\_indexed/ENSG00000176022.3\\_\\_InsPIRE\\_Islets\\_Exons\\_\\_1:1232237.bed.gz & ENSG00000176022.3\\_1167629\\_1170421\\\\\n",
       "\\end{tabular}\n"
      ],
      "text/markdown": [
       "\n",
       "A data.frame: 6 × 7\n",
       "\n",
       "| <!--/--> | chr &lt;chr&gt; | start &lt;int&gt; | end &lt;int&gt; | locus &lt;chr&gt; | gene_id &lt;chr&gt; | eqtl_input &lt;chr&gt; | exons_id &lt;chr&gt; |\n",
       "|---|---|---|---|---|---|---|---|\n",
       "| 1 | chr1 |  959309 |  959310 | NOC2L__rs6605069__ENSG00000188976.6_888555_888668__P           | ENSG00000188976 | /nfs/turbo/umms-scjp-pank/vthihong/colocGWAS_T1D/2_t1d-eQTL-coloc/results/hg38/eqtl_Exons_indexed/ENSG00000188976.6__InsPIRE_Islets_Exons__1:944203.bed.gz  | ENSG00000188976.6_888555_888668   |\n",
       "| 2 | chr1 |  998051 |  998052 | RP11-54O7.17__rs9442392__ENSG00000272512.1_931346_933431__P    | ENSG00000272512 | /nfs/turbo/umms-scjp-pank/vthihong/colocGWAS_T1D/2_t1d-eQTL-coloc/results/hg38/eqtl_Exons_indexed/ENSG00000272512.1__InsPIRE_Islets_Exons__1:995966.bed.gz  | ENSG00000272512.1_931346_933431   |\n",
       "| 3 | chr1 | 1063288 | 1063289 | RP11-54O7.18__rs3813194__ENSG00000273443.1_998441_998668__P    | ENSG00000273443 | /nfs/turbo/umms-scjp-pank/vthihong/colocGWAS_T1D/2_t1d-eQTL-coloc/results/hg38/eqtl_Exons_indexed/ENSG00000273443.1__InsPIRE_Islets_Exons__1:1062208.bed.gz | ENSG00000273443.1_998441_998668   |\n",
       "| 4 | chr1 | 1407313 | 1407314 | MRPL20__rs12408158__ENSG00000242485.1_1340489_1342399__P       | ENSG00000242485 | /nfs/turbo/umms-scjp-pank/vthihong/colocGWAS_T1D/2_t1d-eQTL-coloc/results/hg38/eqtl_Exons_indexed/ENSG00000242485.1__InsPIRE_Islets_Exons__1:1401909.bed.gz | ENSG00000242485.1_1340489_1342399 |\n",
       "| 5 | chr1 | 1409096 | 1409097 | RP4-758J18.13__rs9661288__ENSG00000272455.1_1344476_1345998__P | ENSG00000272455 | /nfs/turbo/umms-scjp-pank/vthihong/colocGWAS_T1D/2_t1d-eQTL-coloc/results/hg38/eqtl_Exons_indexed/ENSG00000272455.1__InsPIRE_Islets_Exons__1:1409096.bed.gz | ENSG00000272455.1_1344476_1345998 |\n",
       "| 6 | chr1 | 1232265 | 1232266 | B3GALT6__rs2275915__ENSG00000176022.3_1167629_1170421__P       | ENSG00000176022 | /nfs/turbo/umms-scjp-pank/vthihong/colocGWAS_T1D/2_t1d-eQTL-coloc/results/hg38/eqtl_Exons_indexed/ENSG00000176022.3__InsPIRE_Islets_Exons__1:1232237.bed.gz | ENSG00000176022.3_1167629_1170421 |\n",
       "\n"
      ],
      "text/plain": [
       "  chr  start   end    \n",
       "1 chr1  959309  959310\n",
       "2 chr1  998051  998052\n",
       "3 chr1 1063288 1063289\n",
       "4 chr1 1407313 1407314\n",
       "5 chr1 1409096 1409097\n",
       "6 chr1 1232265 1232266\n",
       "  locus                                                         \n",
       "1 NOC2L__rs6605069__ENSG00000188976.6_888555_888668__P          \n",
       "2 RP11-54O7.17__rs9442392__ENSG00000272512.1_931346_933431__P   \n",
       "3 RP11-54O7.18__rs3813194__ENSG00000273443.1_998441_998668__P   \n",
       "4 MRPL20__rs12408158__ENSG00000242485.1_1340489_1342399__P      \n",
       "5 RP4-758J18.13__rs9661288__ENSG00000272455.1_1344476_1345998__P\n",
       "6 B3GALT6__rs2275915__ENSG00000176022.3_1167629_1170421__P      \n",
       "  gene_id        \n",
       "1 ENSG00000188976\n",
       "2 ENSG00000272512\n",
       "3 ENSG00000273443\n",
       "4 ENSG00000242485\n",
       "5 ENSG00000272455\n",
       "6 ENSG00000176022\n",
       "  eqtl_input                                                                                                                                                 \n",
       "1 /nfs/turbo/umms-scjp-pank/vthihong/colocGWAS_T1D/2_t1d-eQTL-coloc/results/hg38/eqtl_Exons_indexed/ENSG00000188976.6__InsPIRE_Islets_Exons__1:944203.bed.gz \n",
       "2 /nfs/turbo/umms-scjp-pank/vthihong/colocGWAS_T1D/2_t1d-eQTL-coloc/results/hg38/eqtl_Exons_indexed/ENSG00000272512.1__InsPIRE_Islets_Exons__1:995966.bed.gz \n",
       "3 /nfs/turbo/umms-scjp-pank/vthihong/colocGWAS_T1D/2_t1d-eQTL-coloc/results/hg38/eqtl_Exons_indexed/ENSG00000273443.1__InsPIRE_Islets_Exons__1:1062208.bed.gz\n",
       "4 /nfs/turbo/umms-scjp-pank/vthihong/colocGWAS_T1D/2_t1d-eQTL-coloc/results/hg38/eqtl_Exons_indexed/ENSG00000242485.1__InsPIRE_Islets_Exons__1:1401909.bed.gz\n",
       "5 /nfs/turbo/umms-scjp-pank/vthihong/colocGWAS_T1D/2_t1d-eQTL-coloc/results/hg38/eqtl_Exons_indexed/ENSG00000272455.1__InsPIRE_Islets_Exons__1:1409096.bed.gz\n",
       "6 /nfs/turbo/umms-scjp-pank/vthihong/colocGWAS_T1D/2_t1d-eQTL-coloc/results/hg38/eqtl_Exons_indexed/ENSG00000176022.3__InsPIRE_Islets_Exons__1:1232237.bed.gz\n",
       "  exons_id                         \n",
       "1 ENSG00000188976.6_888555_888668  \n",
       "2 ENSG00000272512.1_931346_933431  \n",
       "3 ENSG00000273443.1_998441_998668  \n",
       "4 ENSG00000242485.1_1340489_1342399\n",
       "5 ENSG00000272455.1_1344476_1345998\n",
       "6 ENSG00000176022.3_1167629_1170421"
      ]
     },
     "metadata": {},
     "output_type": "display_data"
    }
   ],
   "source": [
    "process_dosage = function(f, snplist){\n",
    "    ld = read.csv(f, sep='\\t', check.names = F)\n",
    "    dups = ld[ (duplicated(ld$ID) | duplicated(ld$ID, fromLast = TRUE)),]\n",
    "    print(glue(\"N duplicates = {nrow(dups)}\"))\n",
    "    ld = ld[! (duplicated(ld$ID) | duplicated(ld$ID, fromLast = TRUE)),]\n",
    "    row.names(ld) = ld$ID\n",
    "    ld$ID = NULL\n",
    "    idlist = intersect(snplist, row.names(ld))\n",
    "    ld = ld[idlist,]\n",
    "    print(ld[1:5, 1:10])\n",
    "    ld = cor(t(ld))\n",
    "    return(ld)\n",
    "}\n",
    "\n",
    "meta <- read.table(\"/nfs/turbo/umms-scjp-pank/vthihong/colocGWAS_T1D/1_exonQTL-inspire-susie/data/exons_eQTLs-selected.tsv\", header = T)\n",
    "meta <- distinct(meta)\n",
    "head(meta)"
   ]
  },
  {
   "cell_type": "code",
   "execution_count": 11,
   "id": "24c48449",
   "metadata": {},
   "outputs": [
    {
     "name": "stderr",
     "output_type": "stream",
     "text": [
      "\u001b[1m\u001b[22mJoining with `by = join_by(snp)`\n"
     ]
    },
    {
     "name": "stdout",
     "output_type": "stream",
     "text": [
      "        pip           snp      Pvalue effect_allele other_allele     Slope\n",
      "1 0.3220922 rs5751348-C-A 8.67839e-17             A            C -0.174645\n",
      "2 0.3220922 rs5751348-C-A 1.73304e-06             A            C -0.241271\n",
      "3 0.3220922 rs5751348-C-A 3.52230e-13             A            C -0.268396\n",
      "4 0.3222278 rs2143918-A-C 8.68527e-17             C            A -0.174644\n",
      "5 0.3222278 rs2143918-A-C 1.73689e-06             C            A -0.241249\n",
      "6 0.3222278 rs2143918-A-C 3.54455e-13             C            A -0.268367\n",
      "       lbf\n",
      "1 33.71260\n",
      "2 33.71260\n",
      "3 33.71260\n",
      "4 33.71303\n",
      "5 33.71303\n",
      "6 33.71303\n",
      "N duplicates = 0\n",
      "              1000251 1000534 1000542 1000766 1000898 1000924 1000961 1001059\n",
      "rs5751348-C-A       2       2       0       0       2       2       0       2\n",
      "rs2143918-A-C       2       2       0       0       2       2       0       2\n",
      "rs8138197-G-A       2       2       0       0       2       2       0       2\n",
      "NA                 NA      NA      NA      NA      NA      NA      NA      NA\n",
      "NA.1               NA      NA      NA      NA      NA      NA      NA      NA\n",
      "              1001113 1001172\n",
      "rs5751348-C-A       0       1\n",
      "rs2143918-A-C       0       1\n",
      "rs8138197-G-A       0       1\n",
      "NA                 NA      NA\n",
      "NA.1               NA      NA\n",
      "        pip       snp   nominal_p effect_allele other_allele     slope      lbf\n",
      "1 0.3220922 rs5751348 8.67839e-17             A            C -0.174645 33.71260\n",
      "2 0.3220922 rs5751348 1.73304e-06             A            C -0.241271 33.71260\n",
      "3 0.3220922 rs5751348 3.52230e-13             A            C -0.268396 33.71260\n",
      "4 0.3222278 rs2143918 8.68527e-17             C            A -0.174644 33.71303\n",
      "5 0.3222278 rs2143918 1.73689e-06             C            A -0.241249 33.71303\n",
      "6 0.3222278 rs2143918 3.54455e-13             C            A -0.268367 33.71303\n",
      "                                                                                locus\n",
      "1 A4GALT__rs8138197__ENSG00000128274.11_43088127_43090003__P__chr22-42471298-42971299\n",
      "     purity  coverage credibleset\n",
      "1 0.9988858 0.9967681           1\n"
     ]
    }
   ],
   "source": [
    "l <- \"A4GALT__rs8138197__ENSG00000128274.11_43088127_43090003__P__chr22-42471298-42971299\"\n",
    "input <- meta[meta$locus == \"A4GALT__rs8138197__ENSG00000128274.11_43088127_43090003__P\", \"eqtl_input\"]\n",
    "\n",
    "for (k in 1:length(input)) {\n",
    "        qtl <- read.csv(input[k], sep='\\t', header=T, check.names=F)\n",
    "        qtl$snp <- paste0(qtl$SNP, \"-\", qtl$REF, \"-\", qtl$ALT)\n",
    "        qtl$Slope <- qtl$Slope / qtl$multiply #get the slope originally reported by the study\n",
    "        load(paste0(\"/nfs/turbo/umms-scjp-pank/vthihong/colocGWAS_T1D/1_exonQTL-inspire-susie/results/susie-prep/exons_eQTLs__\", \n",
    "                    l, \"__250kb.susie.Rda\"))\n",
    "\n",
    "        if (length(S2$sets$cs) > 0) {\n",
    "        for (j in 1:length(S2$sets$cs)) {\n",
    "                pip <- data.frame(pip=S2$pip[names(S2$sets$cs[[j]])])\n",
    "                if (S2$sets$coverage[[j]] < 0.95) {\n",
    "                        print(names(S2$sets$cs[[j]]))\n",
    "                        next\n",
    "                }\n",
    "\n",
    "                pip$snp <- row.names(pip)\n",
    "                pip <- inner_join(pip, qtl[,c(\"snp\", \"Pvalue\", \"effect_allele\", \"other_allele\", \"Slope\")])\n",
    "                idx = S2$sets$cs_index[j]\n",
    "                isnps = colnames(S2$lbf_variable)\n",
    "                bf = S2$lbf_variable[idx, isnps, drop=FALSE]\n",
    "                bf = data.frame(snp = isnps, lbf = t(bf)[,1])\n",
    "                pip <- inner_join(pip, bf, by = c(\"snp\" = \"snp\"))\n",
    "                print(head(pip))\n",
    "                colnames(pip) <- c(\"pip\", \"snp\", \"nominal_p\", \"effect_allele\", \"other_allele\", \"slope\", \"lbf\")\n",
    "\n",
    "                ldf <- process_dosage(paste0(\"/nfs/turbo/umms-scjp-pank/vthihong/colocGWAS_T1D/1_exonQTL-inspire-susie/results/susie-prep/exons_eQTLs__\", \n",
    "                                             l, \"__250kb.ukbb-dosages.tsv.gz\"), pip$snp)\n",
    "                ldf <- ldf**2\n",
    "                colnames(ldf) <- stringr::str_extract(colnames(ldf), \"[^-]*\")\n",
    "                rownames(ldf) <- stringr::str_extract(rownames(ldf), \"[^-]*\")\n",
    "                #write.table(ldf, paste0(\"/nfs/turbo/umms-scjp-pank/vthihong/colocGWAS_T1D/1_exonQTL-inspire-susie/results/susie/exons_eQTLs__\", \n",
    "                #                            report$V1[i], \"__250kb__credibleSet\", j, \"__ld.txt\"), sep = \"\\t\", quote = F)\n",
    "\n",
    "                pip$snp <- stringr::str_extract(pip$snp, \"[^-]*\")\n",
    "                print(head(pip))\n",
    "                #write.table(pip[, c(\"snp\", \"pip\", \"nominal_p\", \"effect_allele\", \"other_allele\", \"slope\", \"lbf\")], \n",
    "                #            paste0(\"/nfs/turbo/umms-scjp-pank/vthihong/colocGWAS_T1D/1_exonQTL-inspire-susie/results/susie/exons_eQTLs__\", l, \"__250kb__credibleSet\", j, \".txt\"), row.names = F, sep = \"\\t\", quote = F)\n",
    "                }\n",
    "        }\n",
    "\n",
    "        if (length(S2$sets$cs) > 0) {\n",
    "            purity <- c()\n",
    "            coverage <- c()\n",
    "            p <- data.frame(locus = rep(l, length(S2$sets$cs)), purity = NA, coverage = NA)\n",
    "            for (j in 1:length(S2$sets$cs)) {\n",
    "                coverage <- c(coverage, S2$sets$coverage[[j]])\n",
    "                purity <- c(purity, S2$sets$purity[j, 1])\n",
    "            }\n",
    "            p$purity <- purity\n",
    "            p$coverage <- coverage\n",
    "            p$credibleset <- 1:length(S2$sets$cs)\n",
    "            print(head(p))\n",
    "            #write.table(p, paste0(\"/nfs/turbo/umms-scjp-pank/vthihong/colocGWAS_T1D/1_exonQTL-inspire-susie/results/susie/purity/exon_eQTLs__\", \n",
    "            #                l, \".txt\"), row.names = F, sep = \"\\t\", quote = F)\n",
    "        }\n",
    "}\n"
   ]
  }
 ],
 "metadata": {
  "kernelspec": {
   "display_name": "R",
   "language": "R",
   "name": "ir"
  },
  "language_info": {
   "codemirror_mode": "r",
   "file_extension": ".r",
   "mimetype": "text/x-r-source",
   "name": "R",
   "pygments_lexer": "r",
   "version": "4.3.1"
  }
 },
 "nbformat": 4,
 "nbformat_minor": 5
}
