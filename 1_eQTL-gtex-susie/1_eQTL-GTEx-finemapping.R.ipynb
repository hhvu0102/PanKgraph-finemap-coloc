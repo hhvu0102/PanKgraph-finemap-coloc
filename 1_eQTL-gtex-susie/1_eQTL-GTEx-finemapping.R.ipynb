{
 "cells": [
  {
   "cell_type": "markdown",
   "id": "dd942f6c",
   "metadata": {},
   "source": [
    "# How to conduct fine-mapping analysis for eQTL data from pancreatic tissue on gene level"
   ]
  },
  {
   "cell_type": "markdown",
   "id": "989d8ac2",
   "metadata": {},
   "source": [
    "Pancreatic gene-level eQTL data were downloaded from https://www.gtexportal.org/home/downloads/adult-gtex/qtl from GTEx v8."
   ]
  },
  {
   "cell_type": "markdown",
   "id": "16bdd9bb",
   "metadata": {},
   "source": [
    "This documentation contains instruction on how to conduct fine-mapping analysis for pancreatic gene-level eQTL data."
   ]
  },
  {
   "cell_type": "markdown",
   "id": "8f522f24",
   "metadata": {},
   "source": [
    "In this analysis, we employed genotype data from 40,000 unrelated British individuals in the UK Biobank."
   ]
  },
  {
   "cell_type": "markdown",
   "id": "5fd9e989",
   "metadata": {},
   "source": [
    "We thank Dr. Arushi Varshney (Parker Lab) for their valuable support in shaping the analysis strategies and code development."
   ]
  },
  {
   "cell_type": "markdown",
   "id": "2bf03bdf",
   "metadata": {},
   "source": [
    "General steps:\n",
    "- Split summary files into chromosome files, then gene files.\n",
    "- Bgzip and index gene files.\n",
    "- Get lead SNPs and bgzip and index.\n",
    "- Run finaemapping for eQTLs."
   ]
  },
  {
   "cell_type": "markdown",
   "id": "f7fd92ab",
   "metadata": {},
   "source": [
    "## Step 1: Set up data for the fine-mapping pipeline"
   ]
  },
  {
   "cell_type": "markdown",
   "id": "24dd24ab",
   "metadata": {},
   "source": [
    "We set up a file with gene-level summary stat files for all lead signals, which will be used in the next step."
   ]
  },
  {
   "cell_type": "markdown",
   "id": "05294357",
   "metadata": {},
   "source": [
    "### Step 1.1: Convert `parquet` format"
   ]
  },
  {
   "cell_type": "markdown",
   "id": "827155db",
   "metadata": {},
   "source": [
    "Data from GTEx is in `parquet` format which can be converted into txt files using the following code:"
   ]
  },
  {
   "cell_type": "code",
   "execution_count": null,
   "id": "73cdfd4f",
   "metadata": {},
   "outputs": [],
   "source": [
    "library(\"dplyr\")\n",
    "library(\"tidyr\")\n",
    "library(\"data.table\")\n",
    "library(arrow)\n",
    "files <- list.files(\"/scratch/scjp_root/scjp99/vthihong/2_PanKBase/colocGWAS_T1D/0_data/GTEx_EUR/\", pattern=\"parquet\")\n",
    "for (i in files) {\n",
    "        chr <- gsub(\".parquet\", \"\", \n",
    "                    gsub(\"GTEx_Analysis_v8_QTLs_GTEx_Analysis_v8_EUR_eQTL_all_associations_Pancreas.v8.EUR.allpairs.\", \"\", i))\n",
    "        a <- read_parquet(paste0(\"/scratch/scjp_root/scjp99/vthihong/2_PanKBase/colocGWAS_T1D/0_data/GTEx_EUR/\", i))\n",
    "        a <- a[,1:(ncol(a)-1)]\n",
    "        setDT(a)\n",
    "        a[, c(\"snp_chr\", \"snp_stop\", \"ref_gtex\", \"alt_gtex\", \"gtex_code\") := tstrsplit(variant_id, \"_\")]\n",
    "        a <- as.data.frame(a)\n",
    "        colnames(a) <- c(\"gene_id\", \"variant_id\", \"tss_distance\", \"maf\", \"ma_samples\", \"ma_count\", \"pval_nominal\", \"slope\", \n",
    "                         \"slope_se\", \"snp_chr\", \"snp_stop\", \"ref_gtex\", \"alt_gtex\", \"gtex_code\")\n",
    "        a$snp_stop <- as.numeric(a$snp_stop)\n",
    "        a$snp_start <- a$snp_stop-1\n",
    "        a <- a[, c(\"gene_id\", \"variant_id\", \"tss_distance\", \"ma_samples\", \"ma_count\", \"maf\", \"pval_nominal\", \"slope\", \"slope_se\", \n",
    "                   \"snp_chr\", \"snp_stop\", \"ref_gtex\", \"alt_gtex\", \"gtex_code\", \"snp_start\")]\n",
    "        write.table(a, \n",
    "                    paste0(\"/scratch/scjp_root/scjp99/vthihong/2_PanKBase/colocGWAS_T1D/3_t1d-eQTL_GTEx-coloc/results/GTEx_EUR/gtex_indexed/\", chr, \".bed\"), \n",
    "                    col.names=T, row.names=F, sep=\"\\t\", quote=F)\n",
    "}"
   ]
  },
  {
   "cell_type": "markdown",
   "id": "4dec3cdf",
   "metadata": {},
   "source": [
    "### Step 1.2: Split all variants based on feature-level (in this case, gene-level)"
   ]
  },
  {
   "cell_type": "markdown",
   "id": "ac50e078",
   "metadata": {},
   "source": [
    "GTEx has variant names in the form `chr1_666028_G_A_b38` which is different from our reference data, so we need to map GTEx variants to our reference. Additionally, we'd want variants for each gene in its own separate files for downstream steps."
   ]
  },
  {
   "cell_type": "markdown",
   "id": "c64c043e",
   "metadata": {},
   "source": [
    "This step can be done with Snakemake. See example Snakemake file at `scripts/splitGenes.sf`. This Snakemake task utilizes a genome-wide vcf file which could be obtained using instruction in Step 1 of fine-mapping eQTL InsPIRE code. Then every gene file needs indexing, which can be done using the following code\n",
    "```\n",
    "cd /scratch/scjp_root/scjp99/vthihong/2_PanKBase/colocGWAS_T1D/3_t1d-eQTL_GTEx-coloc/results/GTEx_EUR/gtex_indexed\n",
    "module load Bioinformatics\n",
    "module load Bioinformatics  gcc/10.3.0-k2osx5y\n",
    "module load samtools/1.13-fwwss5n\n",
    "\n",
    "chr=$1\n",
    "\n",
    "a=`ls *__\"$chr\":*bed`\n",
    "\n",
    "for i in $a\n",
    "do\n",
    "bgzip -@ 2 $i\n",
    "tabix --preset=bed \"$i\".gz\n",
    "done\n",
    "```"
   ]
  },
  {
   "cell_type": "markdown",
   "id": "de34a51c",
   "metadata": {},
   "source": [
    "To map GTEx variant names to our reference data for lead SNPs (which is supplied in the file `Pancreas.v8.egenes.txt.gz`), one can use the script `scripts/getHg38SummStats_leads.R`. The end result of this script is a file named `eQTL_EUR_leads.txt`, which should be indexed, and it will be used in the next step."
   ]
  },
  {
   "cell_type": "markdown",
   "id": "f11979c2",
   "metadata": {},
   "source": [
    "### Step 1.3: Set up a file with gene-level summary stat files for all lead signals"
   ]
  },
  {
   "cell_type": "code",
   "execution_count": 2,
   "id": "3d23e213",
   "metadata": {},
   "outputs": [],
   "source": [
    "library(dplyr)\n",
    "\n",
    "\n",
    "ind <- read.table(\"/nfs/turbo/umms-scjp-pank/vthihong/colocGWAS_T1D/1_eQTL-gtex-susie/data/eQTL_EUR_leads.txt.gz\", header = F)\n",
    "df38 <- ind[, c(\"V9\", \"V4\")]"
   ]
  },
  {
   "cell_type": "code",
   "execution_count": 3,
   "id": "785a0b73",
   "metadata": {},
   "outputs": [],
   "source": [
    "files <- list.files(\"/nfs/turbo/umms-scjp-pank/vthihong/colocGWAS_T1D/3_t1d-eQTL_GTEx-coloc/results/GTEx_EUR/gtex_indexed/\", pattern = \"gz\")\n",
    "files <- files[grep(\"tbi\", files, invert = T)]\n",
    "file_df <- data.frame(eqtl_input = files)\n",
    "file_df$gene <- unlist(lapply(strsplit(file_df$eqtl_input, '__'), '[', 1))\n",
    "df38 <- inner_join(df38, file_df, by = c(\"V9\" = \"gene\"))\n",
    "df38$eqtl_input <- paste0(\"/nfs/turbo/umms-scjp-pank/vthihong/colocGWAS_T1D/3_t1d-eQTL_GTEx-coloc/results/GTEx_EUR/gtex_indexed/\",\n",
    "                          df38$eqtl_input)\n",
    "df38$gene_id <- unlist(lapply(strsplit(df38$V9, '\\\\.'), '[', 1))"
   ]
  },
  {
   "cell_type": "code",
   "execution_count": 4,
   "id": "071a8af2",
   "metadata": {},
   "outputs": [
    {
     "data": {
      "text/html": [
       "<table class=\"dataframe\">\n",
       "<caption>A data.frame: 6 × 6</caption>\n",
       "<thead>\n",
       "\t<tr><th></th><th scope=col>chr</th><th scope=col>start</th><th scope=col>end</th><th scope=col>locus</th><th scope=col>gene_id</th><th scope=col>eqtl_input</th></tr>\n",
       "\t<tr><th></th><th scope=col>&lt;chr&gt;</th><th scope=col>&lt;int&gt;</th><th scope=col>&lt;int&gt;</th><th scope=col>&lt;chr&gt;</th><th scope=col>&lt;chr&gt;</th><th scope=col>&lt;chr&gt;</th></tr>\n",
       "</thead>\n",
       "<tbody>\n",
       "\t<tr><th scope=row>1</th><td>chr1</td><td>778770</td><td>778771</td><td>RP11-206L10.9__rs187772768__P</td><td>ENSG00000237491</td><td>/nfs/turbo/umms-scjp-pank/vthihong/colocGWAS_T1D/3_t1d-eQTL_GTEx-coloc/results/GTEx_EUR/gtex_indexed/ENSG00000237491.8__GTEx_Pancreas_Gene__1:778770.bed.gz </td></tr>\n",
       "\t<tr><th scope=row>2</th><td>chr1</td><td>817371</td><td>817372</td><td>FAM87B__rs187772768__P       </td><td>ENSG00000177757</td><td>/nfs/turbo/umms-scjp-pank/vthihong/colocGWAS_T1D/3_t1d-eQTL_GTEx-coloc/results/GTEx_EUR/gtex_indexed/ENSG00000177757.2__GTEx_Pancreas_Gene__1:817371.bed.gz </td></tr>\n",
       "\t<tr><th scope=row>3</th><td>chr1</td><td>817712</td><td>817713</td><td>RP11-206L10.8__rs114525117__P</td><td>ENSG00000230092</td><td>/nfs/turbo/umms-scjp-pank/vthihong/colocGWAS_T1D/3_t1d-eQTL_GTEx-coloc/results/GTEx_EUR/gtex_indexed/ENSG00000230092.7__GTEx_Pancreas_Gene__1:800879.bed.gz </td></tr>\n",
       "\t<tr><th scope=row>4</th><td>chr1</td><td>827522</td><td>827523</td><td>LINC00115__rs114525117__P    </td><td>ENSG00000225880</td><td>/nfs/turbo/umms-scjp-pank/vthihong/colocGWAS_T1D/3_t1d-eQTL_GTEx-coloc/results/GTEx_EUR/gtex_indexed/ENSG00000225880.5__GTEx_Pancreas_Gene__1:826206.bed.gz </td></tr>\n",
       "\t<tr><th scope=row>5</th><td>chr1</td><td>825138</td><td>825139</td><td>LINC01128__rs4970388__P      </td><td>ENSG00000228794</td><td>/nfs/turbo/umms-scjp-pank/vthihong/colocGWAS_T1D/3_t1d-eQTL_GTEx-coloc/results/GTEx_EUR/gtex_indexed/ENSG00000228794.8__GTEx_Pancreas_Gene__1:825138.bed.gz </td></tr>\n",
       "\t<tr><th scope=row>6</th><td>chr1</td><td>959309</td><td>959310</td><td>NOC2L__rs4970441__P          </td><td>ENSG00000188976</td><td>/nfs/turbo/umms-scjp-pank/vthihong/colocGWAS_T1D/3_t1d-eQTL_GTEx-coloc/results/GTEx_EUR/gtex_indexed/ENSG00000188976.10__GTEx_Pancreas_Gene__1:944582.bed.gz</td></tr>\n",
       "</tbody>\n",
       "</table>\n"
      ],
      "text/latex": [
       "A data.frame: 6 × 6\n",
       "\\begin{tabular}{r|llllll}\n",
       "  & chr & start & end & locus & gene\\_id & eqtl\\_input\\\\\n",
       "  & <chr> & <int> & <int> & <chr> & <chr> & <chr>\\\\\n",
       "\\hline\n",
       "\t1 & chr1 & 778770 & 778771 & RP11-206L10.9\\_\\_rs187772768\\_\\_P & ENSG00000237491 & /nfs/turbo/umms-scjp-pank/vthihong/colocGWAS\\_T1D/3\\_t1d-eQTL\\_GTEx-coloc/results/GTEx\\_EUR/gtex\\_indexed/ENSG00000237491.8\\_\\_GTEx\\_Pancreas\\_Gene\\_\\_1:778770.bed.gz \\\\\n",
       "\t2 & chr1 & 817371 & 817372 & FAM87B\\_\\_rs187772768\\_\\_P        & ENSG00000177757 & /nfs/turbo/umms-scjp-pank/vthihong/colocGWAS\\_T1D/3\\_t1d-eQTL\\_GTEx-coloc/results/GTEx\\_EUR/gtex\\_indexed/ENSG00000177757.2\\_\\_GTEx\\_Pancreas\\_Gene\\_\\_1:817371.bed.gz \\\\\n",
       "\t3 & chr1 & 817712 & 817713 & RP11-206L10.8\\_\\_rs114525117\\_\\_P & ENSG00000230092 & /nfs/turbo/umms-scjp-pank/vthihong/colocGWAS\\_T1D/3\\_t1d-eQTL\\_GTEx-coloc/results/GTEx\\_EUR/gtex\\_indexed/ENSG00000230092.7\\_\\_GTEx\\_Pancreas\\_Gene\\_\\_1:800879.bed.gz \\\\\n",
       "\t4 & chr1 & 827522 & 827523 & LINC00115\\_\\_rs114525117\\_\\_P     & ENSG00000225880 & /nfs/turbo/umms-scjp-pank/vthihong/colocGWAS\\_T1D/3\\_t1d-eQTL\\_GTEx-coloc/results/GTEx\\_EUR/gtex\\_indexed/ENSG00000225880.5\\_\\_GTEx\\_Pancreas\\_Gene\\_\\_1:826206.bed.gz \\\\\n",
       "\t5 & chr1 & 825138 & 825139 & LINC01128\\_\\_rs4970388\\_\\_P       & ENSG00000228794 & /nfs/turbo/umms-scjp-pank/vthihong/colocGWAS\\_T1D/3\\_t1d-eQTL\\_GTEx-coloc/results/GTEx\\_EUR/gtex\\_indexed/ENSG00000228794.8\\_\\_GTEx\\_Pancreas\\_Gene\\_\\_1:825138.bed.gz \\\\\n",
       "\t6 & chr1 & 959309 & 959310 & NOC2L\\_\\_rs4970441\\_\\_P           & ENSG00000188976 & /nfs/turbo/umms-scjp-pank/vthihong/colocGWAS\\_T1D/3\\_t1d-eQTL\\_GTEx-coloc/results/GTEx\\_EUR/gtex\\_indexed/ENSG00000188976.10\\_\\_GTEx\\_Pancreas\\_Gene\\_\\_1:944582.bed.gz\\\\\n",
       "\\end{tabular}\n"
      ],
      "text/markdown": [
       "\n",
       "A data.frame: 6 × 6\n",
       "\n",
       "| <!--/--> | chr &lt;chr&gt; | start &lt;int&gt; | end &lt;int&gt; | locus &lt;chr&gt; | gene_id &lt;chr&gt; | eqtl_input &lt;chr&gt; |\n",
       "|---|---|---|---|---|---|---|\n",
       "| 1 | chr1 | 778770 | 778771 | RP11-206L10.9__rs187772768__P | ENSG00000237491 | /nfs/turbo/umms-scjp-pank/vthihong/colocGWAS_T1D/3_t1d-eQTL_GTEx-coloc/results/GTEx_EUR/gtex_indexed/ENSG00000237491.8__GTEx_Pancreas_Gene__1:778770.bed.gz  |\n",
       "| 2 | chr1 | 817371 | 817372 | FAM87B__rs187772768__P        | ENSG00000177757 | /nfs/turbo/umms-scjp-pank/vthihong/colocGWAS_T1D/3_t1d-eQTL_GTEx-coloc/results/GTEx_EUR/gtex_indexed/ENSG00000177757.2__GTEx_Pancreas_Gene__1:817371.bed.gz  |\n",
       "| 3 | chr1 | 817712 | 817713 | RP11-206L10.8__rs114525117__P | ENSG00000230092 | /nfs/turbo/umms-scjp-pank/vthihong/colocGWAS_T1D/3_t1d-eQTL_GTEx-coloc/results/GTEx_EUR/gtex_indexed/ENSG00000230092.7__GTEx_Pancreas_Gene__1:800879.bed.gz  |\n",
       "| 4 | chr1 | 827522 | 827523 | LINC00115__rs114525117__P     | ENSG00000225880 | /nfs/turbo/umms-scjp-pank/vthihong/colocGWAS_T1D/3_t1d-eQTL_GTEx-coloc/results/GTEx_EUR/gtex_indexed/ENSG00000225880.5__GTEx_Pancreas_Gene__1:826206.bed.gz  |\n",
       "| 5 | chr1 | 825138 | 825139 | LINC01128__rs4970388__P       | ENSG00000228794 | /nfs/turbo/umms-scjp-pank/vthihong/colocGWAS_T1D/3_t1d-eQTL_GTEx-coloc/results/GTEx_EUR/gtex_indexed/ENSG00000228794.8__GTEx_Pancreas_Gene__1:825138.bed.gz  |\n",
       "| 6 | chr1 | 959309 | 959310 | NOC2L__rs4970441__P           | ENSG00000188976 | /nfs/turbo/umms-scjp-pank/vthihong/colocGWAS_T1D/3_t1d-eQTL_GTEx-coloc/results/GTEx_EUR/gtex_indexed/ENSG00000188976.10__GTEx_Pancreas_Gene__1:944582.bed.gz |\n",
       "\n"
      ],
      "text/plain": [
       "  chr  start  end    locus                         gene_id        \n",
       "1 chr1 778770 778771 RP11-206L10.9__rs187772768__P ENSG00000237491\n",
       "2 chr1 817371 817372 FAM87B__rs187772768__P        ENSG00000177757\n",
       "3 chr1 817712 817713 RP11-206L10.8__rs114525117__P ENSG00000230092\n",
       "4 chr1 827522 827523 LINC00115__rs114525117__P     ENSG00000225880\n",
       "5 chr1 825138 825139 LINC01128__rs4970388__P       ENSG00000228794\n",
       "6 chr1 959309 959310 NOC2L__rs4970441__P           ENSG00000188976\n",
       "  eqtl_input                                                                                                                                                  \n",
       "1 /nfs/turbo/umms-scjp-pank/vthihong/colocGWAS_T1D/3_t1d-eQTL_GTEx-coloc/results/GTEx_EUR/gtex_indexed/ENSG00000237491.8__GTEx_Pancreas_Gene__1:778770.bed.gz \n",
       "2 /nfs/turbo/umms-scjp-pank/vthihong/colocGWAS_T1D/3_t1d-eQTL_GTEx-coloc/results/GTEx_EUR/gtex_indexed/ENSG00000177757.2__GTEx_Pancreas_Gene__1:817371.bed.gz \n",
       "3 /nfs/turbo/umms-scjp-pank/vthihong/colocGWAS_T1D/3_t1d-eQTL_GTEx-coloc/results/GTEx_EUR/gtex_indexed/ENSG00000230092.7__GTEx_Pancreas_Gene__1:800879.bed.gz \n",
       "4 /nfs/turbo/umms-scjp-pank/vthihong/colocGWAS_T1D/3_t1d-eQTL_GTEx-coloc/results/GTEx_EUR/gtex_indexed/ENSG00000225880.5__GTEx_Pancreas_Gene__1:826206.bed.gz \n",
       "5 /nfs/turbo/umms-scjp-pank/vthihong/colocGWAS_T1D/3_t1d-eQTL_GTEx-coloc/results/GTEx_EUR/gtex_indexed/ENSG00000228794.8__GTEx_Pancreas_Gene__1:825138.bed.gz \n",
       "6 /nfs/turbo/umms-scjp-pank/vthihong/colocGWAS_T1D/3_t1d-eQTL_GTEx-coloc/results/GTEx_EUR/gtex_indexed/ENSG00000188976.10__GTEx_Pancreas_Gene__1:944582.bed.gz"
      ]
     },
     "metadata": {},
     "output_type": "display_data"
    }
   ],
   "source": [
    "tss <- read.table(\"/scratch/scjp_root/scjp99/vthihong/genome/geneTSS.bed\", header = F)\n",
    "df38 <- inner_join(df38, tss[, c(1, 2, 3, 4, 6)], by = c(\"gene_id\" = \"V6\"))\n",
    "df38$locus <- paste0(df38$V4.y, \"__\", df38$V4.x, \"__P\")\n",
    "df <- df38[, c(\"V1\", \"V2\", \"V3\", \"locus\", \"gene_id\", \"eqtl_input\")]\n",
    "colnames(df) <- c(\"chr\", \"start\", \"end\", \"locus\", \"gene_id\", \"eqtl_input\")\n",
    "head(df)\n",
    "write.table(df, row.names = F, sep = \"\\t\", quote = F,\n",
    "            \"/nfs/turbo/umms-scjp-pank/vthihong/colocGWAS_T1D/1_eQTL-gtex-susie/data/gene_eQTLs-selected.tsv\")"
   ]
  },
  {
   "cell_type": "markdown",
   "id": "c005a277",
   "metadata": {},
   "source": [
    "Save the `df` object in a file named `gene_eQTLs-selected.tsv`"
   ]
  },
  {
   "cell_type": "markdown",
   "id": "9ddea941",
   "metadata": {},
   "source": [
    "## Step 3: Set up scripts for every eGene of interest"
   ]
  },
  {
   "cell_type": "markdown",
   "id": "193ca363",
   "metadata": {},
   "source": [
    "First, we need to set up a config file with some house-keeping information such as directory of files and parameters. See example in `config.yaml`. The file `gene_eQTLs-selected.tsv` is used for `trait1-leads` and `selected-stats`. Then, we can use `scripts/make_susie-sh.py` script to create a SLURM job per region of interest."
   ]
  },
  {
   "cell_type": "markdown",
   "id": "b02e6bcd",
   "metadata": {},
   "source": [
    "Important note: the script `scripts/make_susie-sh.py` requires two other scripts that should be specified in the config file, namely:\n",
    "```\n",
    "prep-template: \"{base}/scripts/dosage-template.sh\"\n",
    "susie-template: \"{base}/scripts/susie-template.sh\"\n",
    "```\n",
    "\n",
    "```\n",
    "cd /scratch/scjp_root/scjp99/vthihong/2_PanKBase/colocGWAS_T1D/1_eQTL-gtex-susie/results/susie-region\n",
    "\n",
    "python /scratch/scjp_root/scjp99/vthihong/2_PanKBase/colocGWAS_T1D/1_eQTL-gtex-susie/scripts/make_susie-sh.py --config /scratch/scjp_root/scjp99/vthihong/2_PanKBase/colocGWAS_T1D/1_eQTL-gtex-susie/scripts/config.yaml\n",
    "```"
   ]
  },
  {
   "cell_type": "markdown",
   "id": "55448236",
   "metadata": {},
   "source": [
    "At this point, we have a series of individual scripts for each region, with names in the format `gene_eQTLs__<locus name, no other special characters like ;() etc>__<lead snp rsid>__<primary P or secondary S>__<region>__<window>.susieprep.sh` and `gene_eQTLs___<locus name, no other special characters like ;() etc>__<lead snp rsid>__<primary P or secondary S>__<region>__<window>.susie.sh`. The `*susieprep.sh` is necessary to fetch information such as variants and dosages. The `*susie.sh` is to run the fine-mapping analysis."
   ]
  },
  {
   "cell_type": "markdown",
   "id": "a0693801",
   "metadata": {},
   "source": [
    "Example of a `susieprep.sh` file is as the following:\n",
    "```\n",
    "cat gene_eQTLs__SBK1__rs62031562__P__chr16-28042519-28542520__250kb.susieprep.sh \n",
    "\n",
    "#!/bin/bash\n",
    "\n",
    "## fetch variants in the region and intersect UKBB vcfs\n",
    "for i in /scratch/scjp_root/scjp99/vthihong/2_PanKBase/colocGWAS_T1D/0_data/hg38/chr16.imputed.poly.vcf.gz; do tabix $i chr16:28042519-28542520 | awk '{if (($0 !~ /^#/ && $0 !~ /^chr/)) print \"chr\"$0; else print $0}' ; done | sort | uniq > gene_eQTLs__SBK1__rs62031562__P__chr16-28042519-28542520__250kb.ukbb.genotypes\n",
    "zcat /scratch/scjp_root/scjp99/vthihong/2_PanKBase/colocGWAS_T1D/0_data/hg38/chr16.imputed.poly.vcf.gz | head -10000 | awk '{if (($0 ~ /^#/)) print $0}' > gene_eQTLs__SBK1__rs62031562__P__chr16-28042519-28542520__250kb.ukbb.header\n",
    "cat gene_eQTLs__SBK1__rs62031562__P__chr16-28042519-28542520__250kb.ukbb.header gene_eQTLs__SBK1__rs62031562__P__chr16-28042519-28542520__250kb.ukbb.genotypes | bgzip -c > gene_eQTLs__SBK1__rs62031562__P__chr16-28042519-28542520__250kb.ukbb.vcf.gz; tabix gene_eQTLs__SBK1__rs62031562__P__chr16-28042519-28542520__250kb.ukbb.vcf.gz\n",
    "rm gene_eQTLs__SBK1__rs62031562__P__chr16-28042519-28542520__250kb.ukbb.genotypes gene_eQTLs__SBK1__rs62031562__P__chr16-28042519-28542520__250kb.ukbb.header\n",
    "\n",
    "## fetch UKBB dosages \n",
    "zcat gene_eQTLs__SBK1__rs62031562__P__chr16-28042519-28542520__250kb.ukbb.vcf.gz | head -10000 | awk -F'\\t' '{if (($0 ~/^#CHROM/)) print $0}' OFS='\\t' | sed -e 's:#CHROM\\tPOS\\tID\\tREF\\tALT\\tQUAL\\tFILTER\\tINFO\\tFORMAT:ID:g' > gene_eQTLs__SBK1__rs62031562__P__chr16-28042519-28542520__250kb.ukbb-header.txt \n",
    "bcftools query -f \"%ID-%REF-%ALT[\\t%DS]\\n\" gene_eQTLs__SBK1__rs62031562__P__chr16-28042519-28542520__250kb.ukbb.vcf.gz | cat gene_eQTLs__SBK1__rs62031562__P__chr16-28042519-28542520__250kb.ukbb-header.txt - > gene_eQTLs__SBK1__rs62031562__P__chr16-28042519-28542520__250kb.ukbb-dosages.tsv \n",
    "\n",
    "## bgzip to save space\n",
    "module load Bioinformatics\n",
    "module load Bioinformatics  gcc/10.3.0-k2osx5y\n",
    "module load samtools/1.13-fwwss5n\n",
    "\n",
    "bgzip -@ 2 gene_eQTLs__SBK1__rs62031562__P__chr16-28042519-28542520__250kb.ukbb-dosages.tsv\n",
    "\n",
    "## cleanup\n",
    "rm -rf gene_eQTLs__SBK1__rs62031562__P__chr16-28042519-28542520__250kb.ukbb-header.txt gene_eQTLs__SBK1__rs62031562__P__chr16-28042519-28542520__250kb.ukbb.vcf.gz*\n",
    "```"
   ]
  },
  {
   "cell_type": "markdown",
   "id": "4a2c4b03",
   "metadata": {},
   "source": [
    "Example of a `susie.sh` file is as the following:\n",
    "```\n",
    "cat gene_eQTLs__SBK1__rs62031562__P__chr16-28042519-28542520__250kb.susie.sh\n",
    "\n",
    "#!/bin/bash\n",
    "\n",
    "################## running SuSiE for  gene_eQTLs__SBK1__rs62031562__P__chr16-28042519-28542520__250kb:\n",
    "\n",
    "## Susie \n",
    "/scratch/scjp_root/scjp99/vthihong/2_PanKBase/colocGWAS_T1D/1_eQTL-gtex-susie/scripts/susie-eqtl.R --prefix gene_eQTLs__SBK1__rs62031562__P__chr16-28042519-28542520__250kb --type quant --beta slope --p pval_nominal --se slope_se --effect ALT --non_effect REF --sdY 1 --coverage 0.95 --maxit 10000 --min_abs_corr 0.1 --s_threshold 0.3 --number_signals_default 10 --number_signals_high_s 1 --marker rs62031562 --trait1 /scratch/scjp_root/scjp99/vthihong/2_PanKBase/colocGWAS_T1D/3_t1d-eQTL_GTEx-coloc/results/GTEx_EUR/gtex_indexed/ENSG00000188322.4__GTEx_Pancreas_Gene__16:28292519.bed.gz --trait1_ld gene_eQTLs__SBK1__rs62031562__P__chr16-28042519-28542520__250kb.ukbb-dosages.tsv.gz \n",
    "```"
   ]
  },
  {
   "cell_type": "markdown",
   "id": "ab2b1dac",
   "metadata": {},
   "source": [
    "## Step 4: Conduct fine-mapping analysis for all regions of interest"
   ]
  },
  {
   "cell_type": "markdown",
   "id": "495f180f",
   "metadata": {},
   "source": [
    "After we set up analysis scripts for each eGene, we can run the analysis for every eGene using Snakemake. See example of a Snakemake file at `scripts/susie.sf`."
   ]
  },
  {
   "cell_type": "markdown",
   "id": "a9a5388e",
   "metadata": {},
   "source": [
    "Signals of each eGene by default will be saved in a R object names `*.susie.Rda`."
   ]
  },
  {
   "cell_type": "markdown",
   "id": "30bf000c",
   "metadata": {},
   "source": [
    "## Step 5: Obtain output files for PanKgraph"
   ]
  },
  {
   "cell_type": "markdown",
   "id": "227f74c2",
   "metadata": {},
   "source": [
    "For the purpose of PanKgraph, we will extract some outputs into text files. Example of code is the following:"
   ]
  },
  {
   "cell_type": "code",
   "execution_count": 5,
   "id": "a8f65afa",
   "metadata": {},
   "outputs": [],
   "source": [
    "library(glue)\n",
    "library(tidyr)\n",
    "suppressPackageStartupMessages(library(dplyr))"
   ]
  },
  {
   "cell_type": "code",
   "execution_count": 6,
   "id": "443c3bde",
   "metadata": {},
   "outputs": [
    {
     "data": {
      "text/html": [
       "<table class=\"dataframe\">\n",
       "<caption>A data.frame: 6 × 6</caption>\n",
       "<thead>\n",
       "\t<tr><th></th><th scope=col>chr</th><th scope=col>start</th><th scope=col>end</th><th scope=col>locus</th><th scope=col>gene_id</th><th scope=col>eqtl_input</th></tr>\n",
       "\t<tr><th></th><th scope=col>&lt;chr&gt;</th><th scope=col>&lt;int&gt;</th><th scope=col>&lt;int&gt;</th><th scope=col>&lt;chr&gt;</th><th scope=col>&lt;chr&gt;</th><th scope=col>&lt;chr&gt;</th></tr>\n",
       "</thead>\n",
       "<tbody>\n",
       "\t<tr><th scope=row>1</th><td>chr1</td><td>778770</td><td>778771</td><td>RP11-206L10.9__rs187772768__P</td><td>ENSG00000237491</td><td>/nfs/turbo/umms-scjp-pank/vthihong/colocGWAS_T1D/3_t1d-eQTL_GTEx-coloc/results/GTEx_EUR/gtex_indexed/ENSG00000237491.8__GTEx_Pancreas_Gene__1:778770.bed.gz </td></tr>\n",
       "\t<tr><th scope=row>2</th><td>chr1</td><td>817371</td><td>817372</td><td>FAM87B__rs187772768__P       </td><td>ENSG00000177757</td><td>/nfs/turbo/umms-scjp-pank/vthihong/colocGWAS_T1D/3_t1d-eQTL_GTEx-coloc/results/GTEx_EUR/gtex_indexed/ENSG00000177757.2__GTEx_Pancreas_Gene__1:817371.bed.gz </td></tr>\n",
       "\t<tr><th scope=row>3</th><td>chr1</td><td>817712</td><td>817713</td><td>RP11-206L10.8__rs114525117__P</td><td>ENSG00000230092</td><td>/nfs/turbo/umms-scjp-pank/vthihong/colocGWAS_T1D/3_t1d-eQTL_GTEx-coloc/results/GTEx_EUR/gtex_indexed/ENSG00000230092.7__GTEx_Pancreas_Gene__1:800879.bed.gz </td></tr>\n",
       "\t<tr><th scope=row>4</th><td>chr1</td><td>827522</td><td>827523</td><td>LINC00115__rs114525117__P    </td><td>ENSG00000225880</td><td>/nfs/turbo/umms-scjp-pank/vthihong/colocGWAS_T1D/3_t1d-eQTL_GTEx-coloc/results/GTEx_EUR/gtex_indexed/ENSG00000225880.5__GTEx_Pancreas_Gene__1:826206.bed.gz </td></tr>\n",
       "\t<tr><th scope=row>5</th><td>chr1</td><td>825138</td><td>825139</td><td>LINC01128__rs4970388__P      </td><td>ENSG00000228794</td><td>/nfs/turbo/umms-scjp-pank/vthihong/colocGWAS_T1D/3_t1d-eQTL_GTEx-coloc/results/GTEx_EUR/gtex_indexed/ENSG00000228794.8__GTEx_Pancreas_Gene__1:825138.bed.gz </td></tr>\n",
       "\t<tr><th scope=row>6</th><td>chr1</td><td>959309</td><td>959310</td><td>NOC2L__rs4970441__P          </td><td>ENSG00000188976</td><td>/nfs/turbo/umms-scjp-pank/vthihong/colocGWAS_T1D/3_t1d-eQTL_GTEx-coloc/results/GTEx_EUR/gtex_indexed/ENSG00000188976.10__GTEx_Pancreas_Gene__1:944582.bed.gz</td></tr>\n",
       "</tbody>\n",
       "</table>\n"
      ],
      "text/latex": [
       "A data.frame: 6 × 6\n",
       "\\begin{tabular}{r|llllll}\n",
       "  & chr & start & end & locus & gene\\_id & eqtl\\_input\\\\\n",
       "  & <chr> & <int> & <int> & <chr> & <chr> & <chr>\\\\\n",
       "\\hline\n",
       "\t1 & chr1 & 778770 & 778771 & RP11-206L10.9\\_\\_rs187772768\\_\\_P & ENSG00000237491 & /nfs/turbo/umms-scjp-pank/vthihong/colocGWAS\\_T1D/3\\_t1d-eQTL\\_GTEx-coloc/results/GTEx\\_EUR/gtex\\_indexed/ENSG00000237491.8\\_\\_GTEx\\_Pancreas\\_Gene\\_\\_1:778770.bed.gz \\\\\n",
       "\t2 & chr1 & 817371 & 817372 & FAM87B\\_\\_rs187772768\\_\\_P        & ENSG00000177757 & /nfs/turbo/umms-scjp-pank/vthihong/colocGWAS\\_T1D/3\\_t1d-eQTL\\_GTEx-coloc/results/GTEx\\_EUR/gtex\\_indexed/ENSG00000177757.2\\_\\_GTEx\\_Pancreas\\_Gene\\_\\_1:817371.bed.gz \\\\\n",
       "\t3 & chr1 & 817712 & 817713 & RP11-206L10.8\\_\\_rs114525117\\_\\_P & ENSG00000230092 & /nfs/turbo/umms-scjp-pank/vthihong/colocGWAS\\_T1D/3\\_t1d-eQTL\\_GTEx-coloc/results/GTEx\\_EUR/gtex\\_indexed/ENSG00000230092.7\\_\\_GTEx\\_Pancreas\\_Gene\\_\\_1:800879.bed.gz \\\\\n",
       "\t4 & chr1 & 827522 & 827523 & LINC00115\\_\\_rs114525117\\_\\_P     & ENSG00000225880 & /nfs/turbo/umms-scjp-pank/vthihong/colocGWAS\\_T1D/3\\_t1d-eQTL\\_GTEx-coloc/results/GTEx\\_EUR/gtex\\_indexed/ENSG00000225880.5\\_\\_GTEx\\_Pancreas\\_Gene\\_\\_1:826206.bed.gz \\\\\n",
       "\t5 & chr1 & 825138 & 825139 & LINC01128\\_\\_rs4970388\\_\\_P       & ENSG00000228794 & /nfs/turbo/umms-scjp-pank/vthihong/colocGWAS\\_T1D/3\\_t1d-eQTL\\_GTEx-coloc/results/GTEx\\_EUR/gtex\\_indexed/ENSG00000228794.8\\_\\_GTEx\\_Pancreas\\_Gene\\_\\_1:825138.bed.gz \\\\\n",
       "\t6 & chr1 & 959309 & 959310 & NOC2L\\_\\_rs4970441\\_\\_P           & ENSG00000188976 & /nfs/turbo/umms-scjp-pank/vthihong/colocGWAS\\_T1D/3\\_t1d-eQTL\\_GTEx-coloc/results/GTEx\\_EUR/gtex\\_indexed/ENSG00000188976.10\\_\\_GTEx\\_Pancreas\\_Gene\\_\\_1:944582.bed.gz\\\\\n",
       "\\end{tabular}\n"
      ],
      "text/markdown": [
       "\n",
       "A data.frame: 6 × 6\n",
       "\n",
       "| <!--/--> | chr &lt;chr&gt; | start &lt;int&gt; | end &lt;int&gt; | locus &lt;chr&gt; | gene_id &lt;chr&gt; | eqtl_input &lt;chr&gt; |\n",
       "|---|---|---|---|---|---|---|\n",
       "| 1 | chr1 | 778770 | 778771 | RP11-206L10.9__rs187772768__P | ENSG00000237491 | /nfs/turbo/umms-scjp-pank/vthihong/colocGWAS_T1D/3_t1d-eQTL_GTEx-coloc/results/GTEx_EUR/gtex_indexed/ENSG00000237491.8__GTEx_Pancreas_Gene__1:778770.bed.gz  |\n",
       "| 2 | chr1 | 817371 | 817372 | FAM87B__rs187772768__P        | ENSG00000177757 | /nfs/turbo/umms-scjp-pank/vthihong/colocGWAS_T1D/3_t1d-eQTL_GTEx-coloc/results/GTEx_EUR/gtex_indexed/ENSG00000177757.2__GTEx_Pancreas_Gene__1:817371.bed.gz  |\n",
       "| 3 | chr1 | 817712 | 817713 | RP11-206L10.8__rs114525117__P | ENSG00000230092 | /nfs/turbo/umms-scjp-pank/vthihong/colocGWAS_T1D/3_t1d-eQTL_GTEx-coloc/results/GTEx_EUR/gtex_indexed/ENSG00000230092.7__GTEx_Pancreas_Gene__1:800879.bed.gz  |\n",
       "| 4 | chr1 | 827522 | 827523 | LINC00115__rs114525117__P     | ENSG00000225880 | /nfs/turbo/umms-scjp-pank/vthihong/colocGWAS_T1D/3_t1d-eQTL_GTEx-coloc/results/GTEx_EUR/gtex_indexed/ENSG00000225880.5__GTEx_Pancreas_Gene__1:826206.bed.gz  |\n",
       "| 5 | chr1 | 825138 | 825139 | LINC01128__rs4970388__P       | ENSG00000228794 | /nfs/turbo/umms-scjp-pank/vthihong/colocGWAS_T1D/3_t1d-eQTL_GTEx-coloc/results/GTEx_EUR/gtex_indexed/ENSG00000228794.8__GTEx_Pancreas_Gene__1:825138.bed.gz  |\n",
       "| 6 | chr1 | 959309 | 959310 | NOC2L__rs4970441__P           | ENSG00000188976 | /nfs/turbo/umms-scjp-pank/vthihong/colocGWAS_T1D/3_t1d-eQTL_GTEx-coloc/results/GTEx_EUR/gtex_indexed/ENSG00000188976.10__GTEx_Pancreas_Gene__1:944582.bed.gz |\n",
       "\n"
      ],
      "text/plain": [
       "  chr  start  end    locus                         gene_id        \n",
       "1 chr1 778770 778771 RP11-206L10.9__rs187772768__P ENSG00000237491\n",
       "2 chr1 817371 817372 FAM87B__rs187772768__P        ENSG00000177757\n",
       "3 chr1 817712 817713 RP11-206L10.8__rs114525117__P ENSG00000230092\n",
       "4 chr1 827522 827523 LINC00115__rs114525117__P     ENSG00000225880\n",
       "5 chr1 825138 825139 LINC01128__rs4970388__P       ENSG00000228794\n",
       "6 chr1 959309 959310 NOC2L__rs4970441__P           ENSG00000188976\n",
       "  eqtl_input                                                                                                                                                  \n",
       "1 /nfs/turbo/umms-scjp-pank/vthihong/colocGWAS_T1D/3_t1d-eQTL_GTEx-coloc/results/GTEx_EUR/gtex_indexed/ENSG00000237491.8__GTEx_Pancreas_Gene__1:778770.bed.gz \n",
       "2 /nfs/turbo/umms-scjp-pank/vthihong/colocGWAS_T1D/3_t1d-eQTL_GTEx-coloc/results/GTEx_EUR/gtex_indexed/ENSG00000177757.2__GTEx_Pancreas_Gene__1:817371.bed.gz \n",
       "3 /nfs/turbo/umms-scjp-pank/vthihong/colocGWAS_T1D/3_t1d-eQTL_GTEx-coloc/results/GTEx_EUR/gtex_indexed/ENSG00000230092.7__GTEx_Pancreas_Gene__1:800879.bed.gz \n",
       "4 /nfs/turbo/umms-scjp-pank/vthihong/colocGWAS_T1D/3_t1d-eQTL_GTEx-coloc/results/GTEx_EUR/gtex_indexed/ENSG00000225880.5__GTEx_Pancreas_Gene__1:826206.bed.gz \n",
       "5 /nfs/turbo/umms-scjp-pank/vthihong/colocGWAS_T1D/3_t1d-eQTL_GTEx-coloc/results/GTEx_EUR/gtex_indexed/ENSG00000228794.8__GTEx_Pancreas_Gene__1:825138.bed.gz \n",
       "6 /nfs/turbo/umms-scjp-pank/vthihong/colocGWAS_T1D/3_t1d-eQTL_GTEx-coloc/results/GTEx_EUR/gtex_indexed/ENSG00000188976.10__GTEx_Pancreas_Gene__1:944582.bed.gz"
      ]
     },
     "metadata": {},
     "output_type": "display_data"
    }
   ],
   "source": [
    "process_dosage = function(f, snplist){\n",
    "    ld = read.csv(f, sep='\\t', check.names = F)\n",
    "    dups = ld[ (duplicated(ld$ID) | duplicated(ld$ID, fromLast = TRUE)),]\n",
    "    print(glue(\"N duplicates = {nrow(dups)}\"))\n",
    "    ld = ld[! (duplicated(ld$ID) | duplicated(ld$ID, fromLast = TRUE)),]\n",
    "    row.names(ld) = ld$ID\n",
    "    ld$ID = NULL\n",
    "    idlist = intersect(snplist, row.names(ld))\n",
    "    ld = ld[idlist,]\n",
    "    print(ld[1:5, 1:10])\n",
    "    ld = cor(t(ld))\n",
    "    return(ld)\n",
    "}\n",
    "\n",
    "meta <- read.table(\"/nfs/turbo/umms-scjp-pank/vthihong/colocGWAS_T1D/1_eQTL-gtex-susie/data/gene_eQTLs-selected.tsv\", header = T)\n",
    "meta <- distinct(meta)\n",
    "head(meta)"
   ]
  },
  {
   "cell_type": "code",
   "execution_count": 11,
   "id": "24c48449",
   "metadata": {},
   "outputs": [
    {
     "name": "stderr",
     "output_type": "stream",
     "text": [
      "\u001b[1m\u001b[22mJoining with `by = join_by(snp)`\n"
     ]
    },
    {
     "name": "stdout",
     "output_type": "stream",
     "text": [
      "         pip                 snp pval_nominal alt_gtex ref_gtex      slope\n",
      "1 0.03207257 rs141876325-C-CACCT 2.183181e-06    CACCT        C -0.2944332\n",
      "2 0.03207257       rs2650492-G-A 2.183181e-06        A        G -0.2944332\n",
      "3 0.01068336       rs2726034-T-C 6.400740e-06        C        T -0.2745833\n",
      "4 0.01086953      rs12598357-A-G 6.292714e-06        G        A -0.2681219\n",
      "5 0.04608285       rs2726036-A-C 1.536282e-06        C        A -0.2837276\n",
      "6 0.02849677      rs13333976-T-C 2.449138e-06        C        T -0.2772882\n",
      "N duplicates = 0\n",
      "                    1000251 1000534 1000542 1000766 1000898 1000924 1000961\n",
      "rs141876325-C-CACCT       0       0       1       2       0       0       0\n",
      "rs2650492-G-A             0       0       1       2       0       0       0\n",
      "rs2726034-T-C             0       0       1       2       0       0       0\n",
      "rs12598357-A-G            0       0       1       2       0       0       1\n",
      "rs2726036-A-C             0       0       1       2       0       0       1\n",
      "                    1001059 1001113 1001172\n",
      "rs141876325-C-CACCT       0       2       1\n",
      "rs2650492-G-A             0       2       1\n",
      "rs2726034-T-C             0       2       1\n",
      "rs12598357-A-G            0       2       1\n",
      "rs2726036-A-C             0       2       1\n",
      "         pip         snp    nominal_p effect_allele other_allele      slope\n",
      "1 0.03207257 rs141876325 2.183181e-06         CACCT            C -0.2944332\n",
      "2 0.03207257   rs2650492 2.183181e-06             A            G -0.2944332\n",
      "3 0.01068336   rs2726034 6.400740e-06             C            T -0.2745833\n",
      "4 0.01086953  rs12598357 6.292714e-06             G            A -0.2681219\n",
      "5 0.04608285   rs2726036 1.536282e-06             C            A -0.2837276\n",
      "6 0.02849677  rs13333976 2.449138e-06             C            T -0.2772882\n",
      "        lbf\n",
      "1  9.802378\n",
      "2  9.802378\n",
      "3  8.703064\n",
      "4  8.720340\n",
      "5 10.164817\n",
      "6  9.684167\n",
      "                                         locus    purity  coverage credibleset\n",
      "1 SBK1__rs62031562__P__chr16-28042519-28542520 0.5969881 0.9504958           1\n"
     ]
    }
   ],
   "source": [
    "l <- \"SBK1__rs62031562__P__chr16-28042519-28542520\"\n",
    "input <- meta[meta$locus == \"SBK1__rs62031562__P\", \"eqtl_input\"]\n",
    "\n",
    "qtl <- read.csv(input, sep='\\t', header=T, check.names=F)\n",
    "qtl$snp <- paste0(qtl$SNP, \"-\", qtl$REF, \"-\", qtl$ALT)\n",
    "\n",
    "load(paste0(\"/nfs/turbo/umms-scjp-pank/vthihong/colocGWAS_T1D/1_eQTL-gtex-susie/results/susie-prep/gene_eQTLs__\", l, \"__250kb.susie.Rda\"))\n",
    "\n",
    "if (length(S2$sets$cs) > 0) {\n",
    "        for (j in 1:length(S2$sets$cs)) {\n",
    "            pip <- data.frame(pip=S2$pip[names(S2$sets$cs[[j]])])\n",
    "            if (S2$sets$coverage[[j]] < 0.95) {\n",
    "                print(names(S2$sets$cs[[j]]))\n",
    "                next\n",
    "            }\n",
    "\n",
    "        pip$snp <- row.names(pip)\n",
    "        pip <- inner_join(pip, qtl[,c(\"snp\", \"pval_nominal\", \"alt_gtex\", \"ref_gtex\", \"slope\")]) #The effect sizes of eQTLs are defined as the effect of the alternative allele (ALT) relative to the reference (REF) allele in the human genome reference. In other words, the eQTL effect allele is the ALT allele, not the minor allele. https://gtexportal.org/home/faq\n",
    "        print(head(pip))\n",
    "\n",
    "        idx = S2$sets$cs_index[j]\n",
    "        isnps = colnames(S2$lbf_variable)\n",
    "        bf = S2$lbf_variable[idx, isnps, drop=FALSE]\n",
    "        bf = data.frame(snp = isnps, lbf = t(bf)[,1])\n",
    "        pip <- inner_join(pip, bf, by = c(\"snp\" = \"snp\"))\n",
    "        colnames(pip) <- c(\"pip\", \"snp\", \"nominal_p\", \"effect_allele\", \"other_allele\", \"slope\", \"lbf\")\n",
    "\n",
    "        ldf <- process_dosage(paste0(\"/nfs/turbo/umms-scjp-pank/vthihong/colocGWAS_T1D/1_eQTL-gtex-susie/results/susie-prep/gene_eQTLs__\", l, \"__250kb.ukbb-dosages.tsv.gz\"), pip$snp)\n",
    "        ldf <- ldf**2\n",
    "        colnames(ldf) <- stringr::str_extract(colnames(ldf), \"[^-]*\")\n",
    "        rownames(ldf) <- stringr::str_extract(rownames(ldf), \"[^-]*\")\n",
    "        #write.table(ldf, paste0(\"/nfs/turbo/umms-scjp-pank/vthihong/colocGWAS_T1D/1_eQTL-gtex-susie/results/susie/\", l, \"__250kb__credibleSet\", j, \"__ld.txt\"), sep = \"\\t\", quote = F)\n",
    "\n",
    "        pip$snp <- stringr::str_extract(pip$snp, \"[^-]*\")\n",
    "        print(head(pip))\n",
    "        #write.table(pip[, c(\"snp\", \"pip\", \"nominal_p\", \"effect_allele\", \"other_allele\", \"slope\", \"lbf\")], paste0(\"/nfs/turbo/umms-scjp-pank/vthihong/colocGWAS_T1D/1_eQTL-gtex-susie/results/susie/\", l, \"__250kb__credibleSet\", j, \".txt\"), row.names = F, sep = \"\\t\", quote = F)\n",
    "            \n",
    "        if (length(S2$sets$cs) > 0) {\n",
    "            purity <- c()\n",
    "            coverage <- c()\n",
    "            p <- data.frame(locus = rep(l, length(S2$sets$cs)), purity = NA, coverage = NA)\n",
    "            for (j in 1:length(S2$sets$cs)) {\n",
    "                coverage <- c(coverage, S2$sets$coverage[[j]])\n",
    "                purity <- c(purity, S2$sets$purity[j, 1])\n",
    "                }\n",
    "            p$purity <- purity\n",
    "            p$coverage <- coverage\n",
    "            p$credibleset <- 1:length(S2$sets$cs)\n",
    "            print(head(p))\n",
    "            #write.table(p, paste0(\"/nfs/turbo/umms-scjp-pank/vthihong/colocGWAS_T1D/1_eQTL-gtex-susie/results/susie/purity/gene_eQTLs__\", \n",
    "            #                \"A1CF\", \"__\", l, \".txt\"), row.names = F, sep = \"\\t\", quote = F)\n",
    "            }\n",
    "    }\n",
    "}"
   ]
  }
 ],
 "metadata": {
  "kernelspec": {
   "display_name": "R",
   "language": "R",
   "name": "ir"
  },
  "language_info": {
   "codemirror_mode": "r",
   "file_extension": ".r",
   "mimetype": "text/x-r-source",
   "name": "R",
   "pygments_lexer": "r",
   "version": "4.3.1"
  }
 },
 "nbformat": 4,
 "nbformat_minor": 5
}
